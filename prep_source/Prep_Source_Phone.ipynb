{
 "cells": [
  {
   "cell_type": "code",
   "execution_count": 1,
   "metadata": {},
   "outputs": [
    {
     "name": "stderr",
     "output_type": "stream",
     "text": [
      "c:\\Users\\adid5\\Anaconda3\\envs\\Project\\lib\\site-packages\\scipy\\__init__.py:146: UserWarning: A NumPy version >=1.16.5 and <1.23.0 is required for this version of SciPy (detected version 1.23.5\n",
      "  warnings.warn(f\"A NumPy version >={np_minversion} and <{np_maxversion}\"\n",
      "UsageError: Line magic function `%` not found.\n"
     ]
    }
   ],
   "source": [
    "import numpy as np\n",
    "import matplotlib.pyplot as plt\n",
    "import pandas as pd\n",
    "import seaborn as sns\n",
    "% matplotlib inline"
   ]
  },
  {
   "cell_type": "markdown",
   "metadata": {},
   "source": [
    "# Load Data"
   ]
  },
  {
   "cell_type": "code",
   "execution_count": 2,
   "metadata": {},
   "outputs": [
    {
     "data": {
      "text/html": [
       "<div>\n",
       "<style scoped>\n",
       "    .dataframe tbody tr th:only-of-type {\n",
       "        vertical-align: middle;\n",
       "    }\n",
       "\n",
       "    .dataframe tbody tr th {\n",
       "        vertical-align: top;\n",
       "    }\n",
       "\n",
       "    .dataframe thead th {\n",
       "        text-align: right;\n",
       "    }\n",
       "</style>\n",
       "<table border=\"1\" class=\"dataframe\">\n",
       "  <thead>\n",
       "    <tr style=\"text-align: right;\">\n",
       "      <th></th>\n",
       "      <th>source</th>\n",
       "      <th>timestamp</th>\n",
       "      <th>values</th>\n",
       "      <th>activity</th>\n",
       "      <th>index_activity</th>\n",
       "      <th>start_point_activity</th>\n",
       "    </tr>\n",
       "  </thead>\n",
       "  <tbody>\n",
       "    <tr>\n",
       "      <th>0</th>\n",
       "      <td>pressure</td>\n",
       "      <td>2017-06-29 09:57:00.070</td>\n",
       "      <td>['963.3365']</td>\n",
       "      <td>Eat</td>\n",
       "      <td>0.0</td>\n",
       "      <td>2017-06-29 09:57</td>\n",
       "    </tr>\n",
       "    <tr>\n",
       "      <th>1</th>\n",
       "      <td>step_detector</td>\n",
       "      <td>2017-06-29 09:57:00.280</td>\n",
       "      <td>['1.0']</td>\n",
       "      <td>Eat</td>\n",
       "      <td>0.0</td>\n",
       "      <td>2017-06-29 09:57</td>\n",
       "    </tr>\n",
       "    <tr>\n",
       "      <th>2</th>\n",
       "      <td>audio</td>\n",
       "      <td>2017-06-29 09:57:00.448</td>\n",
       "      <td>['8513.0', '7546.236', '32767.0', '45.0']</td>\n",
       "      <td>Eat</td>\n",
       "      <td>0.0</td>\n",
       "      <td>2017-06-29 09:57</td>\n",
       "    </tr>\n",
       "    <tr>\n",
       "      <th>3</th>\n",
       "      <td>step_detector</td>\n",
       "      <td>2017-06-29 09:57:01.000</td>\n",
       "      <td>['1.0']</td>\n",
       "      <td>Eat</td>\n",
       "      <td>0.0</td>\n",
       "      <td>2017-06-29 09:57</td>\n",
       "    </tr>\n",
       "    <tr>\n",
       "      <th>4</th>\n",
       "      <td>gravity</td>\n",
       "      <td>2017-06-29 09:57:01.441</td>\n",
       "      <td>['2.3287392', '-8.675122', '-3.9356887']</td>\n",
       "      <td>Eat</td>\n",
       "      <td>0.0</td>\n",
       "      <td>2017-06-29 09:57</td>\n",
       "    </tr>\n",
       "    <tr>\n",
       "      <th>5</th>\n",
       "      <td>audio</td>\n",
       "      <td>2017-06-29 09:57:01.447</td>\n",
       "      <td>['8273.0', '7546.3276', '32767.0', '45.0']</td>\n",
       "      <td>Eat</td>\n",
       "      <td>0.0</td>\n",
       "      <td>2017-06-29 09:57</td>\n",
       "    </tr>\n",
       "    <tr>\n",
       "      <th>6</th>\n",
       "      <td>step_detector</td>\n",
       "      <td>2017-06-29 09:57:01.521</td>\n",
       "      <td>['1.0']</td>\n",
       "      <td>Eat</td>\n",
       "      <td>0.0</td>\n",
       "      <td>2017-06-29 09:57</td>\n",
       "    </tr>\n",
       "    <tr>\n",
       "      <th>7</th>\n",
       "      <td>linear_acceleration</td>\n",
       "      <td>2017-06-29 09:57:01.600</td>\n",
       "      <td>['3.6848893', '-5.382506', '-1.925926']</td>\n",
       "      <td>Eat</td>\n",
       "      <td>0.0</td>\n",
       "      <td>2017-06-29 09:57</td>\n",
       "    </tr>\n",
       "    <tr>\n",
       "      <th>8</th>\n",
       "      <td>rotationVector</td>\n",
       "      <td>2017-06-29 09:57:01.607</td>\n",
       "      <td>['-0.6266626', '0.5223481', '-0.42348957', '0....</td>\n",
       "      <td>Eat</td>\n",
       "      <td>0.0</td>\n",
       "      <td>2017-06-29 09:57</td>\n",
       "    </tr>\n",
       "    <tr>\n",
       "      <th>9</th>\n",
       "      <td>step_detector</td>\n",
       "      <td>2017-06-29 09:57:02.275</td>\n",
       "      <td>['1.0']</td>\n",
       "      <td>Eat</td>\n",
       "      <td>0.0</td>\n",
       "      <td>2017-06-29 09:57</td>\n",
       "    </tr>\n",
       "  </tbody>\n",
       "</table>\n",
       "</div>"
      ],
      "text/plain": [
       "                source                timestamp  \\\n",
       "0             pressure  2017-06-29 09:57:00.070   \n",
       "1        step_detector  2017-06-29 09:57:00.280   \n",
       "2                audio  2017-06-29 09:57:00.448   \n",
       "3        step_detector  2017-06-29 09:57:01.000   \n",
       "4              gravity  2017-06-29 09:57:01.441   \n",
       "5                audio  2017-06-29 09:57:01.447   \n",
       "6        step_detector  2017-06-29 09:57:01.521   \n",
       "7  linear_acceleration  2017-06-29 09:57:01.600   \n",
       "8       rotationVector  2017-06-29 09:57:01.607   \n",
       "9        step_detector  2017-06-29 09:57:02.275   \n",
       "\n",
       "                                              values activity  index_activity  \\\n",
       "0                                       ['963.3365']      Eat             0.0   \n",
       "1                                            ['1.0']      Eat             0.0   \n",
       "2          ['8513.0', '7546.236', '32767.0', '45.0']      Eat             0.0   \n",
       "3                                            ['1.0']      Eat             0.0   \n",
       "4           ['2.3287392', '-8.675122', '-3.9356887']      Eat             0.0   \n",
       "5         ['8273.0', '7546.3276', '32767.0', '45.0']      Eat             0.0   \n",
       "6                                            ['1.0']      Eat             0.0   \n",
       "7            ['3.6848893', '-5.382506', '-1.925926']      Eat             0.0   \n",
       "8  ['-0.6266626', '0.5223481', '-0.42348957', '0....      Eat             0.0   \n",
       "9                                            ['1.0']      Eat             0.0   \n",
       "\n",
       "  start_point_activity  \n",
       "0     2017-06-29 09:57  \n",
       "1     2017-06-29 09:57  \n",
       "2     2017-06-29 09:57  \n",
       "3     2017-06-29 09:57  \n",
       "4     2017-06-29 09:57  \n",
       "5     2017-06-29 09:57  \n",
       "6     2017-06-29 09:57  \n",
       "7     2017-06-29 09:57  \n",
       "8     2017-06-29 09:57  \n",
       "9     2017-06-29 09:57  "
      ]
     },
     "execution_count": 2,
     "metadata": {},
     "output_type": "execute_result"
    }
   ],
   "source": [
    "# Load activity data\n",
    "data_phone_act = pd.read_csv('..\\..\\..\\datasets\\Human_Activity\\data_phone_with_labels_Act.csv')\n",
    "data_phone_act.drop(['Unnamed: 0'],axis=1,inplace=True)\n",
    "data_phone_act.head(10)"
   ]
  },
  {
   "cell_type": "markdown",
   "metadata": {},
   "source": [
    "# Util's Function "
   ]
  },
  {
   "cell_type": "code",
   "execution_count": 3,
   "metadata": {},
   "outputs": [],
   "source": [
    "# Extract the values of each source from the table \n",
    "def Extract_Source(source,data):\n",
    "    df = data[data['source'] == source].copy(deep=True)\n",
    "    df.sort_values(by = 'timestamp',inplace=True)\n",
    "    return df"
   ]
  },
  {
   "cell_type": "code",
   "execution_count": 4,
   "metadata": {},
   "outputs": [],
   "source": [
    "# Resmaple the data by a given sample rate and apply func on the values column (can be more than one column)\n",
    "def Group_and_Resample(data,sample,func):\n",
    "    data['timestamp'] = pd.to_datetime(data['timestamp'])\n",
    "    \n",
    "    if 'X' in data.columns:\n",
    "        data_sample = data.resample(sample, on=\"timestamp\").agg({'X':func,'Y':func,'Z':func, 'index_activity':pd.Series.mode, 'activity':pd.Series.mode})\n",
    "    elif 'audio_mic_1' in data.columns:\n",
    "        data_sample = data.resample(sample, on=\"timestamp\").agg({'audio_mic_1':func,'audio_mic_2':func,'audio_mic_3':func,'audio_mic_4':func,'index_activity':pd.Series.mode, 'activity':pd.Series.mode})\n",
    "    elif func == 'pd.Series.mode':\n",
    "        data_sample = data.resample(sample, on=\"timestamp\").agg({'values':pd.Series.mode, 'index_activity':pd.Series.mode, 'activity':pd.Series.mode})\n",
    "    else:\n",
    "        data_sample = data.resample(sample, on=\"timestamp\").agg({'values':func, 'index_activity':pd.Series.mode, 'activity':pd.Series.mode})\n",
    "     \n",
    "    return data_sample"
   ]
  },
  {
   "cell_type": "code",
   "execution_count": 5,
   "metadata": {},
   "outputs": [],
   "source": [
    "# Remove Nan rows from the table\n",
    "def RemoveNan(data):\n",
    "    data = data[data['index_activity'].apply(type) != np.ndarray]\n",
    "    return data"
   ]
  },
  {
   "cell_type": "code",
   "execution_count": 6,
   "metadata": {},
   "outputs": [
    {
     "data": {
      "text/plain": [
       "array(['pressure', 'step_detector', 'audio', 'gravity',\n",
       "       'linear_acceleration', 'rotationVector', 'orientation',\n",
       "       'accelerometer', 'gyroscope', 'magnetometer', 'activity',\n",
       "       'step_counter', 'light', 'wifi', 'bluetooth', 'battery',\n",
       "       'proximity'], dtype=object)"
      ]
     },
     "execution_count": 6,
     "metadata": {},
     "output_type": "execute_result"
    }
   ],
   "source": [
    "data_phone_act['source'].unique()"
   ]
  },
  {
   "cell_type": "markdown",
   "metadata": {},
   "source": [
    "## Parameters"
   ]
  },
  {
   "cell_type": "code",
   "execution_count": 7,
   "metadata": {},
   "outputs": [],
   "source": [
    "sample = '30S'"
   ]
  },
  {
   "cell_type": "markdown",
   "metadata": {},
   "source": [
    "## Feature Engineering "
   ]
  },
  {
   "cell_type": "markdown",
   "metadata": {},
   "source": [
    "### Pressure"
   ]
  },
  {
   "cell_type": "code",
   "execution_count": 8,
   "metadata": {},
   "outputs": [],
   "source": [
    "pressureData = Extract_Source('pressure',data_phone_act)\n",
    "# remove [''] from each value\n",
    "pressureData['values'] = pressureData['values'].apply(lambda x: np.double(x[2:-2]))\n",
    "pressureData_sample = Group_and_Resample(pressureData, sample,'mean')\n",
    "pressureData_sample.rename(columns = {'values':'pressure'},inplace = True)\n",
    "final_pressureData = RemoveNan(pressureData_sample)"
   ]
  },
  {
   "cell_type": "markdown",
   "metadata": {},
   "source": [
    "### Step Detector"
   ]
  },
  {
   "cell_type": "code",
   "execution_count": 9,
   "metadata": {},
   "outputs": [],
   "source": [
    "step_detectorData = Extract_Source('step_detector',data_phone_act)\n",
    "step_detectorData['values'] = step_detectorData['values'].apply(lambda x: np.double(x[2:-2])).astype(int)\n",
    "step_detectorData_sample = Group_and_Resample(step_detectorData, sample,'pd.Series.mode')\n",
    "step_detectorData_sample.rename(columns = {'values':'step_detector'},inplace = True)\n",
    "final_stepDetectorData = RemoveNan(step_detectorData_sample)"
   ]
  },
  {
   "cell_type": "markdown",
   "metadata": {},
   "source": [
    "### Audio "
   ]
  },
  {
   "cell_type": "code",
   "execution_count": 10,
   "metadata": {},
   "outputs": [],
   "source": [
    "audioData = Extract_Source('audio',data_phone_act)\n",
    "audioData['values'] = audioData['values'].apply(lambda x: x.split(','))\n",
    "audioData['audio_mic_1'] = audioData['values'].apply(lambda x: np.double(x[0][2:-1]))\n",
    "audioData['audio_mic_2'] = audioData['values'].apply(lambda x: np.double(x[1][2:-1]))\n",
    "audioData['audio_mic_3'] = audioData['values'].apply(lambda x: np.double(x[2][2:-2])) # mic 3 have saturated values \n",
    "audioData['audio_mic_4'] = audioData['values'].apply(lambda x: np.double(x[3][2:-2])) # mic 4 have low values \n",
    "audioData_sample = Group_and_Resample(audioData, sample,'mean')\n",
    "final_audioData = RemoveNan(audioData_sample)"
   ]
  },
  {
   "cell_type": "markdown",
   "metadata": {},
   "source": [
    "### Gravity"
   ]
  },
  {
   "cell_type": "code",
   "execution_count": 11,
   "metadata": {},
   "outputs": [],
   "source": [
    "gravityData = Extract_Source('gravity',data_phone_act)\n",
    "gravityData['values'] = gravityData['values'].apply(lambda x: x.split(',')) # split to X,Y,Z\n",
    "gravityData['X'] = gravityData['values'].apply(lambda x: np.double(x[0][2:-1]))\n",
    "gravityData['Y'] = gravityData['values'].apply(lambda x: np.double(x[1][2:-1]))\n",
    "gravityData['Z'] = gravityData['values'].apply(lambda x: np.double(x[2][2:-2]))\n",
    "gravityData_sample = Group_and_Resample(gravityData, sample,'mean')\n",
    "gravityData_sample['values'] = np.sqrt(np.power(gravityData_sample['X'],2)+np.power(gravityData_sample['Y'],2)+np.power(gravityData_sample['Z'],2)) # Gravity  = sqrt(X^2+Y^2+Z^2)\n",
    "gravityData_sample.rename(columns = {'values':'gravity'},inplace = True)\n",
    "gravityData_sample.drop(['X','Y','Z'],axis=1,inplace=True)\n",
    "final_gravityData = RemoveNan(gravityData_sample)"
   ]
  },
  {
   "cell_type": "markdown",
   "metadata": {},
   "source": [
    "### Linear Acceleration"
   ]
  },
  {
   "cell_type": "code",
   "execution_count": 12,
   "metadata": {},
   "outputs": [],
   "source": [
    "linear_accelerationData = Extract_Source('linear_acceleration',data_phone_act)\n",
    "linear_accelerationData['values'] = linear_accelerationData['values'].apply(lambda x: x.split(','))\n",
    "linear_accelerationData['X'] = linear_accelerationData['values'].apply(lambda x: np.double(x[0][2:-1]))\n",
    "linear_accelerationData['Y'] = linear_accelerationData['values'].apply(lambda x: np.double(x[1][2:-1]))\n",
    "linear_accelerationData['Z'] = linear_accelerationData['values'].apply(lambda x: np.double(x[2][2:-2]))\n",
    "linear_accelerationData_sample = Group_and_Resample(linear_accelerationData, sample,'mean')\n",
    "linear_accelerationData_sample.rename(columns = {'values':'linear_acceleration'},inplace = True)\n",
    "# linear acceleration = sqrt(X^2+Y^2+Z^2)\n",
    "linear_accelerationData_sample['values'] = np.sqrt(np.power(linear_accelerationData_sample['X'],2)+np.power(linear_accelerationData_sample['Y'],2)+np.power(linear_accelerationData_sample['Z'],2))\n",
    "linear_accelerationData_sample.rename(columns = {'values':'linear_acceleration'},inplace = True)\n",
    "linear_accelerationData_sample.drop(['X','Y','Z'],axis=1,inplace=True)\n",
    "final_linearAccelerationData = RemoveNan(linear_accelerationData_sample)"
   ]
  },
  {
   "cell_type": "markdown",
   "metadata": {},
   "source": [
    "### Rotation Vector"
   ]
  },
  {
   "cell_type": "code",
   "execution_count": 13,
   "metadata": {},
   "outputs": [],
   "source": [
    "rotationVectorData = Extract_Source('rotationVector',data_phone_act)\n",
    "# Do not use"
   ]
  },
  {
   "cell_type": "markdown",
   "metadata": {},
   "source": [
    "### Orientation"
   ]
  },
  {
   "cell_type": "code",
   "execution_count": 14,
   "metadata": {},
   "outputs": [],
   "source": [
    "orientationData = Extract_Source('orientation',data_phone_act)\n",
    "orientationData['values'] = orientationData['values'].apply(lambda x: x.split(','))\n",
    "orientationData['X'] = orientationData['values'].apply(lambda x: np.double(x[0][2:-1]))\n",
    "orientationData['Y'] = orientationData['values'].apply(lambda x: np.double(x[1][2:-1]))\n",
    "orientationData['Z'] = orientationData['values'].apply(lambda x: np.double(x[2][2:-2]))\n",
    "orientationData_sample = Group_and_Resample(orientationData, sample,'mean')\n",
    "orientationData_sample.rename(columns = {'X':'orientation_X','Y':'orientation_Y','Z':'orientation_Z'},inplace = True)\n",
    "final_orientationData = RemoveNan(orientationData_sample)"
   ]
  },
  {
   "cell_type": "markdown",
   "metadata": {},
   "source": [
    "### Accelerometer"
   ]
  },
  {
   "cell_type": "code",
   "execution_count": 15,
   "metadata": {},
   "outputs": [],
   "source": [
    "accelerometerData = Extract_Source('accelerometer',data_phone_act)\n",
    "accelerometerData['values'] = accelerometerData['values'].apply(lambda x: x.split(','))\n",
    "accelerometerData['X'] = accelerometerData['values'].apply(lambda x: np.double(x[0][2:-1]))\n",
    "accelerometerData['Y'] = accelerometerData['values'].apply(lambda x: np.double(x[1][2:-1]))\n",
    "accelerometerData['Z'] = accelerometerData['values'].apply(lambda x: np.double(x[2][2:-2]))\n",
    "accelerometerData_sample = Group_and_Resample(accelerometerData, sample,'mean')\n",
    "accelerometerData_sample.rename(columns = {'X':'accelerometer_X','Y':'accelerometer_Y','Z':'accelerometer_Z'},inplace = True)\n",
    "final_accelerometerData = RemoveNan(accelerometerData_sample)"
   ]
  },
  {
   "cell_type": "markdown",
   "metadata": {},
   "source": [
    "### Gyroscope"
   ]
  },
  {
   "cell_type": "code",
   "execution_count": 16,
   "metadata": {},
   "outputs": [],
   "source": [
    "gyroscopeData = Extract_Source('gyroscope',data_phone_act)\n",
    "gyroscopeData['values'] = gyroscopeData['values'].apply(lambda x: x.split(','))\n",
    "gyroscopeData['X'] = gyroscopeData['values'].apply(lambda x: np.double(x[0][2:-1]))\n",
    "gyroscopeData['Y'] = gyroscopeData['values'].apply(lambda x: np.double(x[1][2:-1]))\n",
    "gyroscopeData['Z'] = gyroscopeData['values'].apply(lambda x: np.double(x[2][2:-2]))\n",
    "gyroscopeData_sample = Group_and_Resample(gyroscopeData, sample,'mean')\n",
    "gyroscopeData_sample.rename(columns = {'X':'gyroscope_X','Y':'gyroscope_Y','Z':'gyroscope_Z'},inplace = True)\n",
    "final_gyroscopeData = RemoveNan(gyroscopeData_sample)"
   ]
  },
  {
   "cell_type": "markdown",
   "metadata": {},
   "source": [
    "### Magnetometer"
   ]
  },
  {
   "cell_type": "code",
   "execution_count": 17,
   "metadata": {},
   "outputs": [],
   "source": [
    "magnetometerData = Extract_Source('magnetometer',data_phone_act)\n",
    "magnetometerData['values'] = magnetometerData['values'].apply(lambda x: x.split(','))\n",
    "magnetometerData['X'] = magnetometerData['values'].apply(lambda x: np.double(x[0][2:-1]))\n",
    "magnetometerData['Y'] = magnetometerData['values'].apply(lambda x: np.double(x[1][2:-1]))\n",
    "magnetometerData['Z'] = magnetometerData['values'].apply(lambda x: np.double(x[2][2:-2]))\n",
    "magnetometerData_sample = Group_and_Resample(magnetometerData, sample,'mean')\n",
    "magnetometerData_sample.rename(columns = {'X':'magnetometer_X','Y':'magnetometer_Y','Z':'magnetometer_Z'},inplace = True)\n",
    "final_magnetometerData = RemoveNan(magnetometerData_sample)"
   ]
  },
  {
   "cell_type": "markdown",
   "metadata": {},
   "source": [
    "### Activity"
   ]
  },
  {
   "cell_type": "code",
   "execution_count": 18,
   "metadata": {},
   "outputs": [],
   "source": [
    "activityData = Extract_Source('activity',data_phone_act)\n",
    "# DO NOT USE "
   ]
  },
  {
   "cell_type": "markdown",
   "metadata": {},
   "source": [
    "### Step Counter"
   ]
  },
  {
   "cell_type": "code",
   "execution_count": 19,
   "metadata": {},
   "outputs": [],
   "source": [
    "step_counterData = Extract_Source('step_counter',data_phone_act)\n",
    "step_counterData['values'] = step_counterData['values'].apply(lambda x: np.double(x[2:-2])).astype(int)\n",
    "step_counterData_sample = Group_and_Resample(step_counterData, sample,'sum')\n",
    "step_counterData_sample.rename(columns = {'values':'step_counter'},inplace = True)\n",
    "final_stepCounterData = RemoveNan(step_counterData_sample)"
   ]
  },
  {
   "cell_type": "markdown",
   "metadata": {},
   "source": [
    "### Light"
   ]
  },
  {
   "cell_type": "code",
   "execution_count": 20,
   "metadata": {},
   "outputs": [],
   "source": [
    "lightData = Extract_Source('light',data_phone_act)\n",
    "lightData['values']= lightData['values'].apply(lambda x: np.double(x[2:-2])).astype(int)\n",
    "lightData_sample = Group_and_Resample(lightData, sample,'mean')\n",
    "lightData_sample.rename(columns = {'values':'light'},inplace = True)\n",
    "final_lightData = RemoveNan(lightData_sample)"
   ]
  },
  {
   "cell_type": "markdown",
   "metadata": {},
   "source": [
    "### Wifi"
   ]
  },
  {
   "cell_type": "code",
   "execution_count": 21,
   "metadata": {},
   "outputs": [
    {
     "name": "stderr",
     "output_type": "stream",
     "text": [
      "<ipython-input-21-04563c4a450e>:6: SettingWithCopyWarning: \n",
      "A value is trying to be set on a copy of a slice from a DataFrame.\n",
      "Try using .loc[row_indexer,col_indexer] = value instead\n",
      "\n",
      "See the caveats in the documentation: https://pandas.pydata.org/pandas-docs/stable/user_guide/indexing.html#returning-a-view-versus-a-copy\n",
      "  final_wifiData['number_of_devices_wifi'] = final_wifiData['number_of_devices_wifi'].apply(int)\n"
     ]
    }
   ],
   "source": [
    "wifiData = Extract_Source('wifi',data_phone_act)\n",
    "wifiData['values'] = wifiData['values'].str.split(',').apply(len)\n",
    "wifiData_sample = Group_and_Resample(wifiData, sample,'mean')\n",
    "wifiData_sample.rename(columns = {'values':'number_of_devices_wifi'},inplace = True)\n",
    "final_wifiData = RemoveNan(wifiData_sample)\n",
    "final_wifiData['number_of_devices_wifi'] = final_wifiData['number_of_devices_wifi'].apply(int)"
   ]
  },
  {
   "cell_type": "markdown",
   "metadata": {},
   "source": [
    "### Bluetooth"
   ]
  },
  {
   "cell_type": "code",
   "execution_count": 22,
   "metadata": {},
   "outputs": [
    {
     "name": "stderr",
     "output_type": "stream",
     "text": [
      "<ipython-input-22-1e2d9e9c49fa>:6: SettingWithCopyWarning: \n",
      "A value is trying to be set on a copy of a slice from a DataFrame.\n",
      "Try using .loc[row_indexer,col_indexer] = value instead\n",
      "\n",
      "See the caveats in the documentation: https://pandas.pydata.org/pandas-docs/stable/user_guide/indexing.html#returning-a-view-versus-a-copy\n",
      "  final_bluetoothData['bluetooth'] = final_bluetoothData['bluetooth'].apply(int)\n"
     ]
    }
   ],
   "source": [
    "bluetoothData = Extract_Source('bluetooth',data_phone_act)\n",
    "bluetoothData['values'] = bluetoothData['values'].str.split(',').apply(len)\n",
    "bluetoothData_sample = Group_and_Resample(bluetoothData, sample,'mean')\n",
    "bluetoothData_sample.rename(columns = {'values':'bluetooth'},inplace = True)\n",
    "final_bluetoothData = RemoveNan(bluetoothData_sample)\n",
    "final_bluetoothData['bluetooth'] = final_bluetoothData['bluetooth'].apply(int)"
   ]
  },
  {
   "cell_type": "markdown",
   "metadata": {},
   "source": [
    "### Battery"
   ]
  },
  {
   "cell_type": "code",
   "execution_count": 23,
   "metadata": {},
   "outputs": [],
   "source": [
    "batData = Extract_Source('battery',data_phone_act)\n",
    "batData['values'] = batData['values'].apply(lambda x: int(x[2:-2]))\n",
    "batData_sample = Group_and_Resample(batData, sample,'mean')\n",
    "batData_sample.rename(columns = {'values':'battery'},inplace = True)\n",
    "final_batData = RemoveNan(batData_sample)"
   ]
  },
  {
   "cell_type": "markdown",
   "metadata": {},
   "source": [
    "### Proximity"
   ]
  },
  {
   "cell_type": "code",
   "execution_count": 24,
   "metadata": {},
   "outputs": [
    {
     "data": {
      "text/plain": [
       "array([\"['5.0']\", \"['0.0']\"], dtype=object)"
      ]
     },
     "execution_count": 24,
     "metadata": {},
     "output_type": "execute_result"
    }
   ],
   "source": [
    "proximityData = Extract_Source('proximity',data_phone_act)\n",
    "proximityData['values'].unique()\n",
    "# Do Not Use\n",
    "# there was only 5 and 0 values"
   ]
  },
  {
   "cell_type": "markdown",
   "metadata": {},
   "source": [
    "## Merge"
   ]
  },
  {
   "cell_type": "code",
   "execution_count": 25,
   "metadata": {},
   "outputs": [],
   "source": [
    "from functools import reduce\n",
    "df = [final_pressureData,final_stepDetectorData,final_audioData,final_gravityData,final_linearAccelerationData,\n",
    "final_orientationData,final_accelerometerData,final_gyroscopeData,final_magnetometerData,final_stepCounterData,final_lightData,\n",
    "final_wifiData,final_batData,final_bluetoothData]\n",
    "\n",
    "df_merged = reduce(lambda  left,right: pd.merge(left,right,on=['timestamp','activity','index_activity'],\n",
    "                                            how='outer'), df)\n",
    "df_merged.sort_values(by = 'timestamp',inplace=True)\n",
    "df_merged.reset_index(inplace=True)\n",
    "df_merged.to_csv('..\\..\\..\\datasets\\Human_Activity\\FullDataAct.csv')"
   ]
  },
  {
   "cell_type": "code",
   "execution_count": 26,
   "metadata": {},
   "outputs": [
    {
     "data": {
      "text/plain": [
       "<AxesSubplot:>"
      ]
     },
     "execution_count": 26,
     "metadata": {},
     "output_type": "execute_result"
    },
    {
     "data": {
      "image/png": "[encoded data removed]",
      "text/plain": [
       "<Figure size 432x288 with 1 Axes>"
      ]
     },
     "metadata": {
      "needs_background": "light"
     },
     "output_type": "display_data"
    }
   ],
   "source": [
    "# Check how continus the data is in terms of timestamp\n",
    "diffTime = df_merged['timestamp'].diff()\n",
    "diffTimeSec = diffTime.dt.total_seconds()\n",
    "diffTimeSec.plot()"
   ]
  },
  {
   "cell_type": "markdown",
   "metadata": {},
   "source": [
    "## Fill Nan"
   ]
  },
  {
   "cell_type": "code",
   "execution_count": 27,
   "metadata": {},
   "outputs": [
    {
     "data": {
      "text/plain": [
       "<AxesSubplot:>"
      ]
     },
     "execution_count": 27,
     "metadata": {},
     "output_type": "execute_result"
    },
    {
     "data": {
      "image/png": "[encoded data removed]",
      "text/plain": [
       "<Figure size 720x432 with 2 Axes>"
      ]
     },
     "metadata": {
      "needs_background": "light"
     },
     "output_type": "display_data"
    }
   ],
   "source": [
    "plt.figure(figsize=(10,6))\n",
    "sns.heatmap(pd.isnull(df_merged).astype(int))"
   ]
  },
  {
   "cell_type": "code",
   "execution_count": 28,
   "metadata": {},
   "outputs": [
    {
     "name": "stdout",
     "output_type": "stream",
     "text": [
      "step_detector percentage of nan: 0.6693894220951603\n",
      "step_counter  percentage of nan: 0.8260159281192567\n",
      "light         percentage of nan: 0.8572595466612212\n",
      "battery       percentage of nan: 0.7081886869511946\n",
      "bluetooth     percentage of nan: 0.5458443945272616\n"
     ]
    }
   ],
   "source": [
    "# Checking how many Nans there are in each feature\n",
    "print('step_detector percentage of nan:',df_merged['step_detector'].isna().sum() / len(df_merged))\n",
    "print('step_counter  percentage of nan:',df_merged['step_counter'].isna().sum() / len(df_merged))\n",
    "print('light         percentage of nan:',df_merged['light'].isna().sum() / len(df_merged))\n",
    "print('battery       percentage of nan:',df_merged['battery'].isna().sum() / len(df_merged))\n",
    "print('bluetooth     percentage of nan:',df_merged['bluetooth'].isna().sum() / len(df_merged))"
   ]
  },
  {
   "cell_type": "code",
   "execution_count": 29,
   "metadata": {},
   "outputs": [],
   "source": [
    "# Delete features with more than 80% nan values\n",
    "df_merged.drop(['step_counter','light'],axis=1,inplace=True)"
   ]
  },
  {
   "cell_type": "code",
   "execution_count": 30,
   "metadata": {},
   "outputs": [
    {
     "data": {
      "text/plain": [
       "<AxesSubplot:>"
      ]
     },
     "execution_count": 30,
     "metadata": {},
     "output_type": "execute_result"
    },
    {
     "data": {
      "image/png": "[encoded data removed]",
      "text/plain": [
       "<Figure size 720x432 with 2 Axes>"
      ]
     },
     "metadata": {
      "needs_background": "light"
     },
     "output_type": "display_data"
    }
   ],
   "source": [
    "plt.figure(figsize=(10,6))\n",
    "sns.heatmap(pd.isnull(df_merged).astype(int))"
   ]
  },
  {
   "cell_type": "code",
   "execution_count": 31,
   "metadata": {},
   "outputs": [
    {
     "data": {
      "text/plain": [
       "0       1\n",
       "1       1\n",
       "2       1\n",
       "3       1\n",
       "4       1\n",
       "       ..\n",
       "4892    0\n",
       "4893    0\n",
       "4894    0\n",
       "4895    0\n",
       "4896    0\n",
       "Name: step_detector, Length: 4897, dtype: int64"
      ]
     },
     "execution_count": 31,
     "metadata": {},
     "output_type": "execute_result"
    }
   ],
   "source": [
    "# Fill nan of step_detector with zero \n",
    "df_merged['step_detector'].fillna(0,inplace = True)\n",
    "df_merged['step_detector']"
   ]
  },
  {
   "cell_type": "code",
   "execution_count": 32,
   "metadata": {},
   "outputs": [
    {
     "data": {
      "text/plain": [
       "<AxesSubplot:>"
      ]
     },
     "execution_count": 32,
     "metadata": {},
     "output_type": "execute_result"
    },
    {
     "data": {
      "image/png": "[encoded data removed]",
      "text/plain": [
       "<Figure size 720x432 with 2 Axes>"
      ]
     },
     "metadata": {
      "needs_background": "light"
     },
     "output_type": "display_data"
    }
   ],
   "source": [
    "plt.figure(figsize=(10,6))\n",
    "sns.heatmap(pd.isnull(df_merged).astype(int))"
   ]
  },
  {
   "cell_type": "code",
   "execution_count": 33,
   "metadata": {},
   "outputs": [],
   "source": [
    "BluMean = int(df_merged['bluetooth'].mean())\n",
    "df_merged['diffTimeSec'] = diffTimeSec # add the diff between the rows timestamp for checking what is the gap between two consecutive rows\n",
    "# This function fill the nan values of the bluetooth\n",
    "# for each row we check if the value is nan and if the gap between this row to the previus row is smaller than two sample rate (60 s) \n",
    "# if so we fill the nan by the previus value \n",
    "# elif the value is nan and the gap is bigger than 2 sample rate, we fill the nan by the int mean value of the bluetooth\n",
    "def fillFunc(x):\n",
    "    bluetooth = x.bluetooth\n",
    "    diffTimeSec = x.diffTimeSec\n",
    "    name = x.name    \n",
    "    if np.isnan(bluetooth) and diffTimeSec < 61:\n",
    "        x.bluetooth = df_merged.loc[name-1,'bluetooth']\n",
    "    elif np.isnan(bluetooth):\n",
    "        x.bluetooth = BluMean\n",
    "    return x"
   ]
  },
  {
   "cell_type": "code",
   "execution_count": 34,
   "metadata": {},
   "outputs": [],
   "source": [
    "for index,row in df_merged.iterrows():\n",
    "    df_merged.iloc[index] = fillFunc(row)"
   ]
  },
  {
   "cell_type": "code",
   "execution_count": 35,
   "metadata": {},
   "outputs": [],
   "source": [
    "inter_df_merged = df_merged.copy(deep = True) # for comparison between before interpolation and after intrpolation we made copy of the table"
   ]
  },
  {
   "cell_type": "code",
   "execution_count": 36,
   "metadata": {},
   "outputs": [],
   "source": [
    "# We applyed a linear intepolation for the battery data points\n",
    "inter_df_merged['battery'] = inter_df_merged['battery'].interpolate()"
   ]
  },
  {
   "cell_type": "code",
   "execution_count": 37,
   "metadata": {},
   "outputs": [
    {
     "data": {
      "text/plain": [
       "Text(0, 0.5, 'battery')"
      ]
     },
     "execution_count": 37,
     "metadata": {},
     "output_type": "execute_result"
    },
    {
     "data": {
      "image/png": "[encoded data removed]",
      "text/plain": [
       "<Figure size 432x288 with 1 Axes>"
      ]
     },
     "metadata": {
      "needs_background": "light"
     },
     "output_type": "display_data"
    }
   ],
   "source": [
    "inter_df_merged['battery'].plot()\n",
    "df_merged['battery'].plot(c = 'r')\n",
    "plt.legend(['after','before'])\n",
    "plt.title('Battery Before and After Interpolation')\n",
    "plt.xlabel('time')\n",
    "plt.ylabel('battery')"
   ]
  },
  {
   "cell_type": "code",
   "execution_count": 38,
   "metadata": {},
   "outputs": [
    {
     "data": {
      "text/plain": [
       "Text(0, 0.5, 'battery')"
      ]
     },
     "execution_count": 38,
     "metadata": {},
     "output_type": "execute_result"
    },
    {
     "data": {
      "image/png": "[encoded data removed]",
      "text/plain": [
       "<Figure size 432x288 with 1 Axes>"
      ]
     },
     "metadata": {
      "needs_background": "light"
     },
     "output_type": "display_data"
    }
   ],
   "source": [
    "df_merged['battery'].plot(c= 'r')\n",
    "plt.legend(['before'])\n",
    "plt.title('Battery Before and After Interpolation')\n",
    "plt.xlabel('time')\n",
    "plt.ylabel('battery')"
   ]
  },
  {
   "cell_type": "code",
   "execution_count": 39,
   "metadata": {},
   "outputs": [
    {
     "name": "stdout",
     "output_type": "stream",
     "text": [
      "17\n"
     ]
    },
    {
     "data": {
      "image/png": "[encoded data removed]",
      "text/plain": [
       "<Figure size 720x432 with 2 Axes>"
      ]
     },
     "metadata": {
      "needs_background": "light"
     },
     "output_type": "display_data"
    }
   ],
   "source": [
    "# Check that we have no nan in the final table\n",
    "plt.figure(figsize=(10,6))\n",
    "sns.heatmap(pd.isnull(inter_df_merged).astype(int))\n",
    "print(inter_df_merged.isna().sum().sum())"
   ]
  },
  {
   "cell_type": "code",
   "execution_count": 40,
   "metadata": {},
   "outputs": [
    {
     "name": "stdout",
     "output_type": "stream",
     "text": [
      "0\n"
     ]
    }
   ],
   "source": [
    "# Drop the remain nan values \n",
    "NanIdx = np.where(inter_df_merged.isna())\n",
    "np.unique(NanIdx[0])\n",
    "inter_df_merged.drop(np.unique(NanIdx[0]),inplace=True)\n",
    "print(inter_df_merged.isna().sum().sum())"
   ]
  },
  {
   "cell_type": "code",
   "execution_count": 41,
   "metadata": {},
   "outputs": [
    {
     "data": {
      "text/html": [
       "<div>\n",
       "<style scoped>\n",
       "    .dataframe tbody tr th:only-of-type {\n",
       "        vertical-align: middle;\n",
       "    }\n",
       "\n",
       "    .dataframe tbody tr th {\n",
       "        vertical-align: top;\n",
       "    }\n",
       "\n",
       "    .dataframe thead th {\n",
       "        text-align: right;\n",
       "    }\n",
       "</style>\n",
       "<table border=\"1\" class=\"dataframe\">\n",
       "  <thead>\n",
       "    <tr style=\"text-align: right;\">\n",
       "      <th></th>\n",
       "      <th>timestamp</th>\n",
       "      <th>pressure</th>\n",
       "      <th>index_activity</th>\n",
       "      <th>activity</th>\n",
       "      <th>step_detector</th>\n",
       "      <th>audio_mic_1</th>\n",
       "      <th>audio_mic_2</th>\n",
       "      <th>audio_mic_3</th>\n",
       "      <th>audio_mic_4</th>\n",
       "      <th>gravity</th>\n",
       "      <th>...</th>\n",
       "      <th>gyroscope_X</th>\n",
       "      <th>gyroscope_Y</th>\n",
       "      <th>gyroscope_Z</th>\n",
       "      <th>magnetometer_X</th>\n",
       "      <th>magnetometer_Y</th>\n",
       "      <th>magnetometer_Z</th>\n",
       "      <th>number_of_devices_wifi</th>\n",
       "      <th>battery</th>\n",
       "      <th>bluetooth</th>\n",
       "      <th>diffTimeSec</th>\n",
       "    </tr>\n",
       "  </thead>\n",
       "  <tbody>\n",
       "    <tr>\n",
       "      <th>1</th>\n",
       "      <td>2017-06-29 09:57:30</td>\n",
       "      <td>963.210350</td>\n",
       "      <td>0.0</td>\n",
       "      <td>Eat</td>\n",
       "      <td>1</td>\n",
       "      <td>11927.200000</td>\n",
       "      <td>7563.650340</td>\n",
       "      <td>32767.0</td>\n",
       "      <td>45.0</td>\n",
       "      <td>9.428560</td>\n",
       "      <td>...</td>\n",
       "      <td>-0.150097</td>\n",
       "      <td>-0.568192</td>\n",
       "      <td>0.018634</td>\n",
       "      <td>-34.885090</td>\n",
       "      <td>-10.494576</td>\n",
       "      <td>7.990740</td>\n",
       "      <td>46.0</td>\n",
       "      <td>81.0</td>\n",
       "      <td>2.0</td>\n",
       "      <td>30.0</td>\n",
       "    </tr>\n",
       "    <tr>\n",
       "      <th>2</th>\n",
       "      <td>2017-06-29 09:58:00</td>\n",
       "      <td>963.377710</td>\n",
       "      <td>0.0</td>\n",
       "      <td>Eat</td>\n",
       "      <td>1</td>\n",
       "      <td>9694.366667</td>\n",
       "      <td>7582.004297</td>\n",
       "      <td>32767.0</td>\n",
       "      <td>45.0</td>\n",
       "      <td>9.495720</td>\n",
       "      <td>...</td>\n",
       "      <td>0.216265</td>\n",
       "      <td>-0.180258</td>\n",
       "      <td>-0.001961</td>\n",
       "      <td>-27.762173</td>\n",
       "      <td>-9.277909</td>\n",
       "      <td>-3.415510</td>\n",
       "      <td>56.0</td>\n",
       "      <td>80.8</td>\n",
       "      <td>2.0</td>\n",
       "      <td>30.0</td>\n",
       "    </tr>\n",
       "    <tr>\n",
       "      <th>3</th>\n",
       "      <td>2017-06-29 09:58:30</td>\n",
       "      <td>963.352867</td>\n",
       "      <td>0.0</td>\n",
       "      <td>Eat</td>\n",
       "      <td>1</td>\n",
       "      <td>7590.000000</td>\n",
       "      <td>7579.942257</td>\n",
       "      <td>32767.0</td>\n",
       "      <td>45.0</td>\n",
       "      <td>9.548030</td>\n",
       "      <td>...</td>\n",
       "      <td>-0.167142</td>\n",
       "      <td>-0.142885</td>\n",
       "      <td>-0.176842</td>\n",
       "      <td>-23.574674</td>\n",
       "      <td>-13.215409</td>\n",
       "      <td>18.199073</td>\n",
       "      <td>57.0</td>\n",
       "      <td>80.6</td>\n",
       "      <td>2.0</td>\n",
       "      <td>30.0</td>\n",
       "    </tr>\n",
       "    <tr>\n",
       "      <th>4</th>\n",
       "      <td>2017-06-29 09:59:00</td>\n",
       "      <td>963.356162</td>\n",
       "      <td>0.0</td>\n",
       "      <td>Eat</td>\n",
       "      <td>1</td>\n",
       "      <td>11810.733333</td>\n",
       "      <td>7589.977663</td>\n",
       "      <td>32767.0</td>\n",
       "      <td>45.0</td>\n",
       "      <td>9.502039</td>\n",
       "      <td>...</td>\n",
       "      <td>-0.032652</td>\n",
       "      <td>-0.428465</td>\n",
       "      <td>-0.343290</td>\n",
       "      <td>-11.147591</td>\n",
       "      <td>-8.746659</td>\n",
       "      <td>-4.144677</td>\n",
       "      <td>55.0</td>\n",
       "      <td>80.4</td>\n",
       "      <td>2.0</td>\n",
       "      <td>30.0</td>\n",
       "    </tr>\n",
       "    <tr>\n",
       "      <th>5</th>\n",
       "      <td>2017-06-29 09:59:30</td>\n",
       "      <td>963.335040</td>\n",
       "      <td>0.0</td>\n",
       "      <td>Eat</td>\n",
       "      <td>1</td>\n",
       "      <td>7881.866667</td>\n",
       "      <td>7600.249840</td>\n",
       "      <td>32767.0</td>\n",
       "      <td>45.0</td>\n",
       "      <td>9.609119</td>\n",
       "      <td>...</td>\n",
       "      <td>-0.220582</td>\n",
       "      <td>-0.562955</td>\n",
       "      <td>-0.174356</td>\n",
       "      <td>-15.189257</td>\n",
       "      <td>-5.423743</td>\n",
       "      <td>-9.175927</td>\n",
       "      <td>55.0</td>\n",
       "      <td>80.2</td>\n",
       "      <td>4.0</td>\n",
       "      <td>30.0</td>\n",
       "    </tr>\n",
       "    <tr>\n",
       "      <th>6</th>\n",
       "      <td>2017-06-29 10:00:00</td>\n",
       "      <td>963.346502</td>\n",
       "      <td>0.0</td>\n",
       "      <td>Eat</td>\n",
       "      <td>1</td>\n",
       "      <td>12377.733333</td>\n",
       "      <td>7606.813603</td>\n",
       "      <td>32767.0</td>\n",
       "      <td>45.0</td>\n",
       "      <td>9.368099</td>\n",
       "      <td>...</td>\n",
       "      <td>-0.670213</td>\n",
       "      <td>0.465913</td>\n",
       "      <td>-0.788126</td>\n",
       "      <td>-18.689257</td>\n",
       "      <td>-5.059160</td>\n",
       "      <td>27.751157</td>\n",
       "      <td>61.0</td>\n",
       "      <td>80.0</td>\n",
       "      <td>2.0</td>\n",
       "      <td>30.0</td>\n",
       "    </tr>\n",
       "    <tr>\n",
       "      <th>7</th>\n",
       "      <td>2017-06-29 10:00:30</td>\n",
       "      <td>963.392575</td>\n",
       "      <td>0.0</td>\n",
       "      <td>Eat</td>\n",
       "      <td>1</td>\n",
       "      <td>10225.166667</td>\n",
       "      <td>7622.846237</td>\n",
       "      <td>32767.0</td>\n",
       "      <td>45.0</td>\n",
       "      <td>9.477471</td>\n",
       "      <td>...</td>\n",
       "      <td>0.771889</td>\n",
       "      <td>-0.534459</td>\n",
       "      <td>0.312913</td>\n",
       "      <td>-13.824675</td>\n",
       "      <td>-7.090409</td>\n",
       "      <td>23.449073</td>\n",
       "      <td>61.0</td>\n",
       "      <td>80.0</td>\n",
       "      <td>1.0</td>\n",
       "      <td>30.0</td>\n",
       "    </tr>\n",
       "    <tr>\n",
       "      <th>8</th>\n",
       "      <td>2017-06-29 10:01:00</td>\n",
       "      <td>963.333287</td>\n",
       "      <td>0.0</td>\n",
       "      <td>Eat</td>\n",
       "      <td>1</td>\n",
       "      <td>9992.400000</td>\n",
       "      <td>7629.055077</td>\n",
       "      <td>32767.0</td>\n",
       "      <td>45.0</td>\n",
       "      <td>9.688910</td>\n",
       "      <td>...</td>\n",
       "      <td>0.215555</td>\n",
       "      <td>0.046377</td>\n",
       "      <td>0.262846</td>\n",
       "      <td>-16.793425</td>\n",
       "      <td>-4.121659</td>\n",
       "      <td>33.990740</td>\n",
       "      <td>59.0</td>\n",
       "      <td>80.0</td>\n",
       "      <td>2.0</td>\n",
       "      <td>30.0</td>\n",
       "    </tr>\n",
       "    <tr>\n",
       "      <th>9</th>\n",
       "      <td>2017-06-29 10:01:30</td>\n",
       "      <td>963.332382</td>\n",
       "      <td>0.0</td>\n",
       "      <td>Eat</td>\n",
       "      <td>1</td>\n",
       "      <td>6361.866667</td>\n",
       "      <td>7633.940360</td>\n",
       "      <td>32767.0</td>\n",
       "      <td>45.0</td>\n",
       "      <td>9.775084</td>\n",
       "      <td>...</td>\n",
       "      <td>0.031086</td>\n",
       "      <td>0.046199</td>\n",
       "      <td>0.008958</td>\n",
       "      <td>-19.605923</td>\n",
       "      <td>14.992924</td>\n",
       "      <td>31.188657</td>\n",
       "      <td>60.0</td>\n",
       "      <td>80.0</td>\n",
       "      <td>3.0</td>\n",
       "      <td>30.0</td>\n",
       "    </tr>\n",
       "    <tr>\n",
       "      <th>10</th>\n",
       "      <td>2017-06-29 10:02:00</td>\n",
       "      <td>963.388735</td>\n",
       "      <td>0.0</td>\n",
       "      <td>Eat</td>\n",
       "      <td>1</td>\n",
       "      <td>11049.266667</td>\n",
       "      <td>7635.660040</td>\n",
       "      <td>32767.0</td>\n",
       "      <td>45.0</td>\n",
       "      <td>9.366269</td>\n",
       "      <td>...</td>\n",
       "      <td>0.413427</td>\n",
       "      <td>-0.250566</td>\n",
       "      <td>-0.113281</td>\n",
       "      <td>-15.230255</td>\n",
       "      <td>-8.953069</td>\n",
       "      <td>21.923894</td>\n",
       "      <td>62.0</td>\n",
       "      <td>80.0</td>\n",
       "      <td>3.0</td>\n",
       "      <td>30.0</td>\n",
       "    </tr>\n",
       "  </tbody>\n",
       "</table>\n",
       "<p>10 rows × 27 columns</p>\n",
       "</div>"
      ],
      "text/plain": [
       "             timestamp    pressure index_activity activity  step_detector  \\\n",
       "1  2017-06-29 09:57:30  963.210350            0.0      Eat              1   \n",
       "2  2017-06-29 09:58:00  963.377710            0.0      Eat              1   \n",
       "3  2017-06-29 09:58:30  963.352867            0.0      Eat              1   \n",
       "4  2017-06-29 09:59:00  963.356162            0.0      Eat              1   \n",
       "5  2017-06-29 09:59:30  963.335040            0.0      Eat              1   \n",
       "6  2017-06-29 10:00:00  963.346502            0.0      Eat              1   \n",
       "7  2017-06-29 10:00:30  963.392575            0.0      Eat              1   \n",
       "8  2017-06-29 10:01:00  963.333287            0.0      Eat              1   \n",
       "9  2017-06-29 10:01:30  963.332382            0.0      Eat              1   \n",
       "10 2017-06-29 10:02:00  963.388735            0.0      Eat              1   \n",
       "\n",
       "     audio_mic_1  audio_mic_2  audio_mic_3  audio_mic_4   gravity  ...  \\\n",
       "1   11927.200000  7563.650340      32767.0         45.0  9.428560  ...   \n",
       "2    9694.366667  7582.004297      32767.0         45.0  9.495720  ...   \n",
       "3    7590.000000  7579.942257      32767.0         45.0  9.548030  ...   \n",
       "4   11810.733333  7589.977663      32767.0         45.0  9.502039  ...   \n",
       "5    7881.866667  7600.249840      32767.0         45.0  9.609119  ...   \n",
       "6   12377.733333  7606.813603      32767.0         45.0  9.368099  ...   \n",
       "7   10225.166667  7622.846237      32767.0         45.0  9.477471  ...   \n",
       "8    9992.400000  7629.055077      32767.0         45.0  9.688910  ...   \n",
       "9    6361.866667  7633.940360      32767.0         45.0  9.775084  ...   \n",
       "10  11049.266667  7635.660040      32767.0         45.0  9.366269  ...   \n",
       "\n",
       "    gyroscope_X  gyroscope_Y  gyroscope_Z  magnetometer_X  magnetometer_Y  \\\n",
       "1     -0.150097    -0.568192     0.018634      -34.885090      -10.494576   \n",
       "2      0.216265    -0.180258    -0.001961      -27.762173       -9.277909   \n",
       "3     -0.167142    -0.142885    -0.176842      -23.574674      -13.215409   \n",
       "4     -0.032652    -0.428465    -0.343290      -11.147591       -8.746659   \n",
       "5     -0.220582    -0.562955    -0.174356      -15.189257       -5.423743   \n",
       "6     -0.670213     0.465913    -0.788126      -18.689257       -5.059160   \n",
       "7      0.771889    -0.534459     0.312913      -13.824675       -7.090409   \n",
       "8      0.215555     0.046377     0.262846      -16.793425       -4.121659   \n",
       "9      0.031086     0.046199     0.008958      -19.605923       14.992924   \n",
       "10     0.413427    -0.250566    -0.113281      -15.230255       -8.953069   \n",
       "\n",
       "    magnetometer_Z  number_of_devices_wifi  battery  bluetooth  diffTimeSec  \n",
       "1         7.990740                    46.0     81.0        2.0         30.0  \n",
       "2        -3.415510                    56.0     80.8        2.0         30.0  \n",
       "3        18.199073                    57.0     80.6        2.0         30.0  \n",
       "4        -4.144677                    55.0     80.4        2.0         30.0  \n",
       "5        -9.175927                    55.0     80.2        4.0         30.0  \n",
       "6        27.751157                    61.0     80.0        2.0         30.0  \n",
       "7        23.449073                    61.0     80.0        1.0         30.0  \n",
       "8        33.990740                    59.0     80.0        2.0         30.0  \n",
       "9        31.188657                    60.0     80.0        3.0         30.0  \n",
       "10       21.923894                    62.0     80.0        3.0         30.0  \n",
       "\n",
       "[10 rows x 27 columns]"
      ]
     },
     "execution_count": 41,
     "metadata": {},
     "output_type": "execute_result"
    }
   ],
   "source": [
    "inter_df_merged.head(10)"
   ]
  },
  {
   "cell_type": "code",
   "execution_count": 42,
   "metadata": {},
   "outputs": [],
   "source": [
    "inter_df_merged.sort_values(by = 'timestamp',inplace=True)\n",
    "inter_df_merged.reset_index(inplace=True)\n",
    "inter_df_merged.to_csv(f'..\\..\\..\\datasets\\Human_Activity\\FinalFullDataAct_sampleRtate_{sample}.csv')"
   ]
  }
 ],
 "metadata": {
  "kernelspec": {
   "display_name": "Project",
   "language": "python",
   "name": "python3"
  },
  "language_info": {
   "codemirror_mode": {
    "name": "ipython",
    "version": 3
   },
   "file_extension": ".py",
   "mimetype": "text/x-python",
   "name": "python",
   "nbconvert_exporter": "python",
   "pygments_lexer": "ipython3",
   "version": "3.8.10"
  },
  "orig_nbformat": 4
 },
 "nbformat": 4,
 "nbformat_minor": 2
}
