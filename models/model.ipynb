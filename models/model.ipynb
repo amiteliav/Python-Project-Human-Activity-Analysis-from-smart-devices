{
 "cells": [
  {
   "cell_type": "markdown",
   "metadata": {},
   "source": [
    "# Classification models "
   ]
  },
  {
   "cell_type": "code",
   "execution_count": 58,
   "metadata": {},
   "outputs": [],
   "source": [
    "import pandas as pd\n",
    "import numpy as np\n",
    "import matplotlib.pyplot as plt\n",
    "import seaborn as sns\n",
    "%matplotlib inline"
   ]
  },
  {
   "cell_type": "markdown",
   "metadata": {},
   "source": [
    "## Load Data "
   ]
  },
  {
   "cell_type": "code",
   "execution_count": 59,
   "metadata": {},
   "outputs": [],
   "source": [
    "dataFrame = pd.read_csv('..\\..\\..\\datasets\\Human_Activity\\FinalFullDataAct.csv')"
   ]
  },
  {
   "cell_type": "code",
   "execution_count": 60,
   "metadata": {},
   "outputs": [
    {
     "data": {
      "text/html": [
       "<div>\n",
       "<style scoped>\n",
       "    .dataframe tbody tr th:only-of-type {\n",
       "        vertical-align: middle;\n",
       "    }\n",
       "\n",
       "    .dataframe tbody tr th {\n",
       "        vertical-align: top;\n",
       "    }\n",
       "\n",
       "    .dataframe thead th {\n",
       "        text-align: right;\n",
       "    }\n",
       "</style>\n",
       "<table border=\"1\" class=\"dataframe\">\n",
       "  <thead>\n",
       "    <tr style=\"text-align: right;\">\n",
       "      <th></th>\n",
       "      <th>Unnamed: 0</th>\n",
       "      <th>level_0</th>\n",
       "      <th>index</th>\n",
       "      <th>timestamp</th>\n",
       "      <th>pressure</th>\n",
       "      <th>index_activity</th>\n",
       "      <th>activity</th>\n",
       "      <th>step_detector</th>\n",
       "      <th>audio_mic_1</th>\n",
       "      <th>audio_mic_2</th>\n",
       "      <th>...</th>\n",
       "      <th>gyroscope_X</th>\n",
       "      <th>gyroscope_Y</th>\n",
       "      <th>gyroscope_Z</th>\n",
       "      <th>magnetometer_X</th>\n",
       "      <th>magnetometer_Y</th>\n",
       "      <th>magnetometer_Z</th>\n",
       "      <th>number_of_devices_wifi</th>\n",
       "      <th>battery</th>\n",
       "      <th>bluetooth</th>\n",
       "      <th>diffTimeSec</th>\n",
       "    </tr>\n",
       "  </thead>\n",
       "  <tbody>\n",
       "    <tr>\n",
       "      <th>0</th>\n",
       "      <td>0</td>\n",
       "      <td>0</td>\n",
       "      <td>1</td>\n",
       "      <td>2017-06-29 09:57:30</td>\n",
       "      <td>963.210350</td>\n",
       "      <td>0.0</td>\n",
       "      <td>Eat</td>\n",
       "      <td>1</td>\n",
       "      <td>11927.200000</td>\n",
       "      <td>7563.650340</td>\n",
       "      <td>...</td>\n",
       "      <td>-0.150097</td>\n",
       "      <td>-0.568192</td>\n",
       "      <td>0.018634</td>\n",
       "      <td>-34.885090</td>\n",
       "      <td>-10.494576</td>\n",
       "      <td>7.990740</td>\n",
       "      <td>46.0</td>\n",
       "      <td>81.0</td>\n",
       "      <td>2.0</td>\n",
       "      <td>30.0</td>\n",
       "    </tr>\n",
       "    <tr>\n",
       "      <th>1</th>\n",
       "      <td>1</td>\n",
       "      <td>1</td>\n",
       "      <td>2</td>\n",
       "      <td>2017-06-29 09:58:00</td>\n",
       "      <td>963.377710</td>\n",
       "      <td>0.0</td>\n",
       "      <td>Eat</td>\n",
       "      <td>1</td>\n",
       "      <td>9694.366667</td>\n",
       "      <td>7582.004297</td>\n",
       "      <td>...</td>\n",
       "      <td>0.216265</td>\n",
       "      <td>-0.180258</td>\n",
       "      <td>-0.001961</td>\n",
       "      <td>-27.762173</td>\n",
       "      <td>-9.277909</td>\n",
       "      <td>-3.415510</td>\n",
       "      <td>56.0</td>\n",
       "      <td>80.8</td>\n",
       "      <td>2.0</td>\n",
       "      <td>30.0</td>\n",
       "    </tr>\n",
       "    <tr>\n",
       "      <th>2</th>\n",
       "      <td>2</td>\n",
       "      <td>2</td>\n",
       "      <td>3</td>\n",
       "      <td>2017-06-29 09:58:30</td>\n",
       "      <td>963.352867</td>\n",
       "      <td>0.0</td>\n",
       "      <td>Eat</td>\n",
       "      <td>1</td>\n",
       "      <td>7590.000000</td>\n",
       "      <td>7579.942257</td>\n",
       "      <td>...</td>\n",
       "      <td>-0.167142</td>\n",
       "      <td>-0.142885</td>\n",
       "      <td>-0.176842</td>\n",
       "      <td>-23.574674</td>\n",
       "      <td>-13.215409</td>\n",
       "      <td>18.199073</td>\n",
       "      <td>57.0</td>\n",
       "      <td>80.6</td>\n",
       "      <td>2.0</td>\n",
       "      <td>30.0</td>\n",
       "    </tr>\n",
       "    <tr>\n",
       "      <th>3</th>\n",
       "      <td>3</td>\n",
       "      <td>3</td>\n",
       "      <td>4</td>\n",
       "      <td>2017-06-29 09:59:00</td>\n",
       "      <td>963.356162</td>\n",
       "      <td>0.0</td>\n",
       "      <td>Eat</td>\n",
       "      <td>1</td>\n",
       "      <td>11810.733333</td>\n",
       "      <td>7589.977663</td>\n",
       "      <td>...</td>\n",
       "      <td>-0.032652</td>\n",
       "      <td>-0.428465</td>\n",
       "      <td>-0.343290</td>\n",
       "      <td>-11.147591</td>\n",
       "      <td>-8.746659</td>\n",
       "      <td>-4.144677</td>\n",
       "      <td>55.0</td>\n",
       "      <td>80.4</td>\n",
       "      <td>2.0</td>\n",
       "      <td>30.0</td>\n",
       "    </tr>\n",
       "    <tr>\n",
       "      <th>4</th>\n",
       "      <td>4</td>\n",
       "      <td>4</td>\n",
       "      <td>5</td>\n",
       "      <td>2017-06-29 09:59:30</td>\n",
       "      <td>963.335040</td>\n",
       "      <td>0.0</td>\n",
       "      <td>Eat</td>\n",
       "      <td>1</td>\n",
       "      <td>7881.866667</td>\n",
       "      <td>7600.249840</td>\n",
       "      <td>...</td>\n",
       "      <td>-0.220582</td>\n",
       "      <td>-0.562955</td>\n",
       "      <td>-0.174356</td>\n",
       "      <td>-15.189257</td>\n",
       "      <td>-5.423743</td>\n",
       "      <td>-9.175927</td>\n",
       "      <td>55.0</td>\n",
       "      <td>80.2</td>\n",
       "      <td>4.0</td>\n",
       "      <td>30.0</td>\n",
       "    </tr>\n",
       "  </tbody>\n",
       "</table>\n",
       "<p>5 rows × 30 columns</p>\n",
       "</div>"
      ],
      "text/plain": [
       "   Unnamed: 0  level_0  index            timestamp    pressure  \\\n",
       "0           0        0      1  2017-06-29 09:57:30  963.210350   \n",
       "1           1        1      2  2017-06-29 09:58:00  963.377710   \n",
       "2           2        2      3  2017-06-29 09:58:30  963.352867   \n",
       "3           3        3      4  2017-06-29 09:59:00  963.356162   \n",
       "4           4        4      5  2017-06-29 09:59:30  963.335040   \n",
       "\n",
       "   index_activity activity  step_detector   audio_mic_1  audio_mic_2  ...  \\\n",
       "0             0.0      Eat              1  11927.200000  7563.650340  ...   \n",
       "1             0.0      Eat              1   9694.366667  7582.004297  ...   \n",
       "2             0.0      Eat              1   7590.000000  7579.942257  ...   \n",
       "3             0.0      Eat              1  11810.733333  7589.977663  ...   \n",
       "4             0.0      Eat              1   7881.866667  7600.249840  ...   \n",
       "\n",
       "   gyroscope_X  gyroscope_Y  gyroscope_Z  magnetometer_X  magnetometer_Y  \\\n",
       "0    -0.150097    -0.568192     0.018634      -34.885090      -10.494576   \n",
       "1     0.216265    -0.180258    -0.001961      -27.762173       -9.277909   \n",
       "2    -0.167142    -0.142885    -0.176842      -23.574674      -13.215409   \n",
       "3    -0.032652    -0.428465    -0.343290      -11.147591       -8.746659   \n",
       "4    -0.220582    -0.562955    -0.174356      -15.189257       -5.423743   \n",
       "\n",
       "   magnetometer_Z  number_of_devices_wifi  battery  bluetooth  diffTimeSec  \n",
       "0        7.990740                    46.0     81.0        2.0         30.0  \n",
       "1       -3.415510                    56.0     80.8        2.0         30.0  \n",
       "2       18.199073                    57.0     80.6        2.0         30.0  \n",
       "3       -4.144677                    55.0     80.4        2.0         30.0  \n",
       "4       -9.175927                    55.0     80.2        4.0         30.0  \n",
       "\n",
       "[5 rows x 30 columns]"
      ]
     },
     "execution_count": 60,
     "metadata": {},
     "output_type": "execute_result"
    }
   ],
   "source": [
    "dataFrame.head()"
   ]
  },
  {
   "cell_type": "code",
   "execution_count": 61,
   "metadata": {},
   "outputs": [
    {
     "name": "stdout",
     "output_type": "stream",
     "text": [
      "<class 'pandas.core.frame.DataFrame'>\n",
      "RangeIndex: 4890 entries, 0 to 4889\n",
      "Data columns (total 30 columns):\n",
      " #   Column                  Non-Null Count  Dtype  \n",
      "---  ------                  --------------  -----  \n",
      " 0   Unnamed: 0              4890 non-null   int64  \n",
      " 1   level_0                 4890 non-null   int64  \n",
      " 2   index                   4890 non-null   int64  \n",
      " 3   timestamp               4890 non-null   object \n",
      " 4   pressure                4890 non-null   float64\n",
      " 5   index_activity          4890 non-null   float64\n",
      " 6   activity                4890 non-null   object \n",
      " 7   step_detector           4890 non-null   int64  \n",
      " 8   audio_mic_1             4890 non-null   float64\n",
      " 9   audio_mic_2             4890 non-null   float64\n",
      " 10  audio_mic_3             4890 non-null   float64\n",
      " 11  audio_mic_4             4890 non-null   float64\n",
      " 12  gravity                 4890 non-null   float64\n",
      " 13  linear_acceleration     4890 non-null   float64\n",
      " 14  orientation_X           4890 non-null   float64\n",
      " 15  orientation_Y           4890 non-null   float64\n",
      " 16  orientation_Z           4890 non-null   float64\n",
      " 17  accelerometer_X         4890 non-null   float64\n",
      " 18  accelerometer_Y         4890 non-null   float64\n",
      " 19  accelerometer_Z         4890 non-null   float64\n",
      " 20  gyroscope_X             4890 non-null   float64\n",
      " 21  gyroscope_Y             4890 non-null   float64\n",
      " 22  gyroscope_Z             4890 non-null   float64\n",
      " 23  magnetometer_X          4890 non-null   float64\n",
      " 24  magnetometer_Y          4890 non-null   float64\n",
      " 25  magnetometer_Z          4890 non-null   float64\n",
      " 26  number_of_devices_wifi  4890 non-null   float64\n",
      " 27  battery                 4890 non-null   float64\n",
      " 28  bluetooth               4890 non-null   float64\n",
      " 29  diffTimeSec             4890 non-null   float64\n",
      "dtypes: float64(24), int64(4), object(2)\n",
      "memory usage: 1.1+ MB\n"
     ]
    }
   ],
   "source": [
    "dataFrame.info()"
   ]
  },
  {
   "cell_type": "code",
   "execution_count": 62,
   "metadata": {},
   "outputs": [
    {
     "data": {
      "text/html": [
       "<div>\n",
       "<style scoped>\n",
       "    .dataframe tbody tr th:only-of-type {\n",
       "        vertical-align: middle;\n",
       "    }\n",
       "\n",
       "    .dataframe tbody tr th {\n",
       "        vertical-align: top;\n",
       "    }\n",
       "\n",
       "    .dataframe thead th {\n",
       "        text-align: right;\n",
       "    }\n",
       "</style>\n",
       "<table border=\"1\" class=\"dataframe\">\n",
       "  <thead>\n",
       "    <tr style=\"text-align: right;\">\n",
       "      <th></th>\n",
       "      <th>pressure</th>\n",
       "      <th>step_detector</th>\n",
       "      <th>audio_mic_1</th>\n",
       "      <th>audio_mic_2</th>\n",
       "      <th>audio_mic_3</th>\n",
       "      <th>audio_mic_4</th>\n",
       "      <th>gravity</th>\n",
       "      <th>linear_acceleration</th>\n",
       "      <th>orientation_X</th>\n",
       "      <th>orientation_Y</th>\n",
       "      <th>...</th>\n",
       "      <th>accelerometer_Z</th>\n",
       "      <th>gyroscope_X</th>\n",
       "      <th>gyroscope_Y</th>\n",
       "      <th>gyroscope_Z</th>\n",
       "      <th>magnetometer_X</th>\n",
       "      <th>magnetometer_Y</th>\n",
       "      <th>magnetometer_Z</th>\n",
       "      <th>number_of_devices_wifi</th>\n",
       "      <th>battery</th>\n",
       "      <th>bluetooth</th>\n",
       "    </tr>\n",
       "  </thead>\n",
       "  <tbody>\n",
       "    <tr>\n",
       "      <th>0</th>\n",
       "      <td>963.210350</td>\n",
       "      <td>1</td>\n",
       "      <td>11927.200000</td>\n",
       "      <td>7563.650340</td>\n",
       "      <td>32767.0</td>\n",
       "      <td>45.0</td>\n",
       "      <td>9.428560</td>\n",
       "      <td>2.384370</td>\n",
       "      <td>22.952714</td>\n",
       "      <td>60.453024</td>\n",
       "      <td>...</td>\n",
       "      <td>1.176354</td>\n",
       "      <td>-0.150097</td>\n",
       "      <td>-0.568192</td>\n",
       "      <td>0.018634</td>\n",
       "      <td>-34.885090</td>\n",
       "      <td>-10.494576</td>\n",
       "      <td>7.990740</td>\n",
       "      <td>46.0</td>\n",
       "      <td>81.0</td>\n",
       "      <td>2.0</td>\n",
       "    </tr>\n",
       "    <tr>\n",
       "      <th>1</th>\n",
       "      <td>963.377710</td>\n",
       "      <td>1</td>\n",
       "      <td>9694.366667</td>\n",
       "      <td>7582.004297</td>\n",
       "      <td>32767.0</td>\n",
       "      <td>45.0</td>\n",
       "      <td>9.495720</td>\n",
       "      <td>1.978390</td>\n",
       "      <td>43.617109</td>\n",
       "      <td>81.183346</td>\n",
       "      <td>...</td>\n",
       "      <td>-1.521636</td>\n",
       "      <td>0.216265</td>\n",
       "      <td>-0.180258</td>\n",
       "      <td>-0.001961</td>\n",
       "      <td>-27.762173</td>\n",
       "      <td>-9.277909</td>\n",
       "      <td>-3.415510</td>\n",
       "      <td>56.0</td>\n",
       "      <td>80.8</td>\n",
       "      <td>2.0</td>\n",
       "    </tr>\n",
       "    <tr>\n",
       "      <th>2</th>\n",
       "      <td>963.352867</td>\n",
       "      <td>1</td>\n",
       "      <td>7590.000000</td>\n",
       "      <td>7579.942257</td>\n",
       "      <td>32767.0</td>\n",
       "      <td>45.0</td>\n",
       "      <td>9.548030</td>\n",
       "      <td>1.396605</td>\n",
       "      <td>4.632983</td>\n",
       "      <td>75.299680</td>\n",
       "      <td>...</td>\n",
       "      <td>-0.148491</td>\n",
       "      <td>-0.167142</td>\n",
       "      <td>-0.142885</td>\n",
       "      <td>-0.176842</td>\n",
       "      <td>-23.574674</td>\n",
       "      <td>-13.215409</td>\n",
       "      <td>18.199073</td>\n",
       "      <td>57.0</td>\n",
       "      <td>80.6</td>\n",
       "      <td>2.0</td>\n",
       "    </tr>\n",
       "    <tr>\n",
       "      <th>3</th>\n",
       "      <td>963.356162</td>\n",
       "      <td>1</td>\n",
       "      <td>11810.733333</td>\n",
       "      <td>7589.977663</td>\n",
       "      <td>32767.0</td>\n",
       "      <td>45.0</td>\n",
       "      <td>9.502039</td>\n",
       "      <td>5.458737</td>\n",
       "      <td>-32.125872</td>\n",
       "      <td>65.046507</td>\n",
       "      <td>...</td>\n",
       "      <td>0.974773</td>\n",
       "      <td>-0.032652</td>\n",
       "      <td>-0.428465</td>\n",
       "      <td>-0.343290</td>\n",
       "      <td>-11.147591</td>\n",
       "      <td>-8.746659</td>\n",
       "      <td>-4.144677</td>\n",
       "      <td>55.0</td>\n",
       "      <td>80.4</td>\n",
       "      <td>2.0</td>\n",
       "    </tr>\n",
       "    <tr>\n",
       "      <th>4</th>\n",
       "      <td>963.335040</td>\n",
       "      <td>1</td>\n",
       "      <td>7881.866667</td>\n",
       "      <td>7600.249840</td>\n",
       "      <td>32767.0</td>\n",
       "      <td>45.0</td>\n",
       "      <td>9.609119</td>\n",
       "      <td>2.982487</td>\n",
       "      <td>135.779456</td>\n",
       "      <td>77.457162</td>\n",
       "      <td>...</td>\n",
       "      <td>1.900448</td>\n",
       "      <td>-0.220582</td>\n",
       "      <td>-0.562955</td>\n",
       "      <td>-0.174356</td>\n",
       "      <td>-15.189257</td>\n",
       "      <td>-5.423743</td>\n",
       "      <td>-9.175927</td>\n",
       "      <td>55.0</td>\n",
       "      <td>80.2</td>\n",
       "      <td>4.0</td>\n",
       "    </tr>\n",
       "  </tbody>\n",
       "</table>\n",
       "<p>5 rows × 23 columns</p>\n",
       "</div>"
      ],
      "text/plain": [
       "     pressure  step_detector   audio_mic_1  audio_mic_2  audio_mic_3  \\\n",
       "0  963.210350              1  11927.200000  7563.650340      32767.0   \n",
       "1  963.377710              1   9694.366667  7582.004297      32767.0   \n",
       "2  963.352867              1   7590.000000  7579.942257      32767.0   \n",
       "3  963.356162              1  11810.733333  7589.977663      32767.0   \n",
       "4  963.335040              1   7881.866667  7600.249840      32767.0   \n",
       "\n",
       "   audio_mic_4   gravity  linear_acceleration  orientation_X  orientation_Y  \\\n",
       "0         45.0  9.428560             2.384370      22.952714      60.453024   \n",
       "1         45.0  9.495720             1.978390      43.617109      81.183346   \n",
       "2         45.0  9.548030             1.396605       4.632983      75.299680   \n",
       "3         45.0  9.502039             5.458737     -32.125872      65.046507   \n",
       "4         45.0  9.609119             2.982487     135.779456      77.457162   \n",
       "\n",
       "   ...  accelerometer_Z  gyroscope_X  gyroscope_Y  gyroscope_Z  \\\n",
       "0  ...         1.176354    -0.150097    -0.568192     0.018634   \n",
       "1  ...        -1.521636     0.216265    -0.180258    -0.001961   \n",
       "2  ...        -0.148491    -0.167142    -0.142885    -0.176842   \n",
       "3  ...         0.974773    -0.032652    -0.428465    -0.343290   \n",
       "4  ...         1.900448    -0.220582    -0.562955    -0.174356   \n",
       "\n",
       "   magnetometer_X  magnetometer_Y  magnetometer_Z  number_of_devices_wifi  \\\n",
       "0      -34.885090      -10.494576        7.990740                    46.0   \n",
       "1      -27.762173       -9.277909       -3.415510                    56.0   \n",
       "2      -23.574674      -13.215409       18.199073                    57.0   \n",
       "3      -11.147591       -8.746659       -4.144677                    55.0   \n",
       "4      -15.189257       -5.423743       -9.175927                    55.0   \n",
       "\n",
       "   battery  bluetooth  \n",
       "0     81.0        2.0  \n",
       "1     80.8        2.0  \n",
       "2     80.6        2.0  \n",
       "3     80.4        2.0  \n",
       "4     80.2        4.0  \n",
       "\n",
       "[5 rows x 23 columns]"
      ]
     },
     "execution_count": 62,
     "metadata": {},
     "output_type": "execute_result"
    }
   ],
   "source": [
    "FeaturesTable = dataFrame.drop(columns=['Unnamed: 0','level_0','index','timestamp','index_activity','activity','diffTimeSec'])\n",
    "FeaturesTable.head()"
   ]
  },
  {
   "cell_type": "code",
   "execution_count": 63,
   "metadata": {},
   "outputs": [
    {
     "data": {
      "text/plain": [
       "array(['Eat', 'Walk', 'In computer', 'Sleep', 'Video games', 'Picnic ',\n",
       "       'Meeting', 'Cooking', 'Movie', 'Pause'], dtype=object)"
      ]
     },
     "execution_count": 63,
     "metadata": {},
     "output_type": "execute_result"
    }
   ],
   "source": [
    "label = dataFrame['activity']\n",
    "label.unique()"
   ]
  },
  {
   "cell_type": "code",
   "execution_count": 64,
   "metadata": {},
   "outputs": [
    {
     "data": {
      "text/plain": [
       "<AxesSubplot:xlabel='count', ylabel='activity'>"
      ]
     },
     "execution_count": 64,
     "metadata": {},
     "output_type": "execute_result"
    },
    {
     "data": {
      "image/png": "[encoded data removed]",
      "text/plain": [
       "<Figure size 432x288 with 1 Axes>"
      ]
     },
     "metadata": {
      "needs_background": "light"
     },
     "output_type": "display_data"
    }
   ],
   "source": [
    "sns.countplot(y = label, data = label)"
   ]
  },
  {
   "cell_type": "markdown",
   "metadata": {},
   "source": [
    "## Split Train and Test"
   ]
  },
  {
   "cell_type": "code",
   "execution_count": 65,
   "metadata": {},
   "outputs": [],
   "source": [
    "from sklearn.model_selection import train_test_split\n",
    "X_train, X_test, y_train, y_test = train_test_split(FeaturesTable, label, test_size=0.20, random_state=42)"
   ]
  },
  {
   "cell_type": "code",
   "execution_count": 66,
   "metadata": {},
   "outputs": [
    {
     "data": {
      "text/plain": [
       "Text(0.5, 1.0, 'Train Datset')"
      ]
     },
     "execution_count": 66,
     "metadata": {},
     "output_type": "execute_result"
    },
    {
     "data": {
      "image/png": "[encoded data removed]",
      "text/plain": [
       "<Figure size 432x288 with 1 Axes>"
      ]
     },
     "metadata": {
      "needs_background": "light"
     },
     "output_type": "display_data"
    }
   ],
   "source": [
    "sns.countplot(y = y_train, order = y_train.value_counts().index).set_title('Train Datset')"
   ]
  },
  {
   "cell_type": "code",
   "execution_count": 67,
   "metadata": {},
   "outputs": [
    {
     "data": {
      "text/plain": [
       "Text(0.5, 1.0, 'Test Datset')"
      ]
     },
     "execution_count": 67,
     "metadata": {},
     "output_type": "execute_result"
    },
    {
     "data": {
      "image/png": "[encoded data removed]",
      "text/plain": [
       "<Figure size 432x288 with 1 Axes>"
      ]
     },
     "metadata": {
      "needs_background": "light"
     },
     "output_type": "display_data"
    }
   ],
   "source": [
    "sns.countplot(y = y_test,order = y_train.value_counts().index).set_title('Test Datset')"
   ]
  },
  {
   "cell_type": "markdown",
   "metadata": {},
   "source": [
    "## Standardize the Variables"
   ]
  },
  {
   "cell_type": "code",
   "execution_count": 68,
   "metadata": {},
   "outputs": [],
   "source": [
    "from sklearn.preprocessing import StandardScaler"
   ]
  },
  {
   "cell_type": "code",
   "execution_count": 69,
   "metadata": {},
   "outputs": [],
   "source": [
    "scaler = StandardScaler()\n",
    "scaler.fit(X_train)\n",
    "scaled_features_train = scaler.transform(X_train)\n",
    "scaled_features_test = scaler.transform(X_test)"
   ]
  },
  {
   "cell_type": "markdown",
   "metadata": {},
   "source": [
    "## Models"
   ]
  },
  {
   "cell_type": "markdown",
   "metadata": {},
   "source": [
    "### Examining different models with different parameters"
   ]
  },
  {
   "cell_type": "code",
   "execution_count": 70,
   "metadata": {},
   "outputs": [
    {
     "name": "stdout",
     "output_type": "stream",
     "text": [
      "Mean score: $0.695$ for algorithm: $lr$\n",
      "Mean score: $0.917$ for algorithm: $svm$\n",
      "Mean score: $0.254$ for algorithm: $adaboost$\n",
      "Mean score: $0.487$ for algorithm: $tree$\n",
      "Mean score: $0.983$ for algorithm: $forest$\n",
      "Mean score: $0.742$ for algorithm: $knn$\n",
      "The best algorithm is: $forest$. The accurate on all training data is: $0.9997441509741644$\n"
     ]
    }
   ],
   "source": [
    "from sklearn.ensemble import RandomForestClassifier, AdaBoostClassifier\n",
    "from sklearn.linear_model import LogisticRegression\n",
    "from sklearn.model_selection import cross_val_score, GridSearchCV\n",
    "from sklearn.neighbors import KNeighborsClassifier\n",
    "from sklearn.pipeline import Pipeline\n",
    "from sklearn.preprocessing import StandardScaler\n",
    "from sklearn.svm import SVC\n",
    "from sklearn.tree import DecisionTreeClassifier\n",
    "\n",
    "class PipelinesListMixin(object):\n",
    "    @property\n",
    "    def meta_estimators(self):\n",
    "        scoring = 'f1_weighted'\n",
    "\n",
    "        # Logistic Regression\n",
    "        pipe_lr = Pipeline([('scl', StandardScaler()),\n",
    "                            ('lr',  LogisticRegression(random_state=0))])\n",
    "        param_grid = [{'lr__C': [10 ** int(C) for C in np.arange(-5, 5)],\n",
    "                       'lr__penalty': ['l2', 'l1'],\n",
    "                       'lr__class_weight': ['balanced',None]}]\n",
    "        gs_lr = GridSearchCV(estimator=pipe_lr, param_grid=param_grid, scoring=scoring, cv=2, n_jobs=5)\n",
    "\n",
    "        # SVM\n",
    "        pipe_svm = Pipeline([('scl', StandardScaler()),\n",
    "                            ('svm', SVC(random_state=0))])\n",
    "        param_grid = [{'svm__C': [10 ** int(C) for C in np.arange(-5, 5)],\n",
    "                        'svm__kernel': ['linear']},\n",
    "                      {'svm__C': [10 ** int(C) for C in np.arange(-5, 5)],\n",
    "                        'svm__gamma': ['auto'],\n",
    "                        'svm__kernel': ['rbf'],\n",
    "                        'svm__class_weight': ['balanced',None]}]\n",
    "        gs_svm = GridSearchCV(estimator=pipe_svm, param_grid=param_grid, scoring=scoring, cv=2, n_jobs=5)\n",
    "\n",
    "        # Tree\n",
    "        pipe_tree = Pipeline([('tree', DecisionTreeClassifier(random_state=0))])\n",
    "        param_grid = [{'tree__criterion': ['entropy'],\n",
    "                       'tree__max_depth': [3],\n",
    "                       'tree__class_weight': ['balanced',None]}]\n",
    "        gs_tree = GridSearchCV(estimator=pipe_tree, param_grid=param_grid, scoring=scoring, cv=2,\n",
    "                                n_jobs=5)\n",
    "\n",
    "        # Adaboost\n",
    "        tree = DecisionTreeClassifier(random_state=0, criterion='entropy', max_depth=1)\n",
    "        pipe_ada = Pipeline([('adaboost', AdaBoostClassifier(base_estimator=tree, random_state=0))])\n",
    "        param_grid = [{'adaboost__n_estimators': [500],\n",
    "                       'adaboost__learning_rate': [0.1]}]\n",
    "        gs_ada = GridSearchCV(estimator=pipe_ada, param_grid=param_grid, scoring=scoring, cv=2,\n",
    "                              n_jobs=5)\n",
    " \n",
    "        # Forest\n",
    "        pipe_forest = Pipeline([('forest', RandomForestClassifier(random_state=0))])\n",
    "        param_grid = [{'forest__criterion': ['entropy'],\n",
    "                       'forest__n_estimators': [10],\n",
    "                       'forest__max_depth': [None, 10, 20, 30],\n",
    "                       'forest__class_weight':['balanced',None]}]\n",
    "        gs_forest = GridSearchCV(estimator=pipe_forest, param_grid=param_grid, scoring=scoring, cv=2,\n",
    "                                  n_jobs=5)\n",
    "\n",
    "        # KNN\n",
    "        pipe_knn = Pipeline( [('knn', KNeighborsClassifier())])\n",
    "        param_grid = [{'knn__n_neighbors': [5],\n",
    "                       'knn__p': [2]}]\n",
    "        gs_knn = GridSearchCV(estimator=pipe_knn, param_grid=param_grid, scoring=scoring, cv=2,\n",
    "                              n_jobs=5)\n",
    "        \n",
    "        return [gs_lr, gs_svm, gs_ada, gs_tree, gs_forest, gs_knn] \n",
    "\n",
    "\n",
    "class ComparingClassifiers(PipelinesListMixin):\n",
    "    def fit(self, X, y, scoring):\n",
    "        algorithm_scores = []\n",
    "        for gs in self.meta_estimators:\n",
    "            # In each cross validation of cross_val_score function the GridSearchCV (gs) is working and run internal cross validation.\n",
    "            # The aim is to do another level of validation set - for selecting the best algorithm.\n",
    "            scores = cross_val_score(gs, X, y, scoring=scoring, cv=5, n_jobs=10)\n",
    "            mean_scores = np.mean(scores) # Scores of all best models of the same algorithm (on each of the iterations of the outer cross validation).\n",
    "            algorithm_scores.append(mean_scores)\n",
    "            print('Mean score: ${:.3f}$ for algorithm: ${}$'.format(mean_scores, gs.estimator.steps[-1][0]))\n",
    "        best_grid_search = self.meta_estimators[np.argmax(algorithm_scores)]\n",
    "        return best_grid_search.fit(X, y)\n",
    "\n",
    "best_algorithm = ComparingClassifiers().fit(X_train, y_train, 'f1_weighted')\n",
    "print('The best algorithm is: ${}$. The accurate on all training data is: ${}$'.format(best_algorithm.estimator.steps[-1][0], best_algorithm.score(X_train, y_train)))"
   ]
  },
  {
   "cell_type": "code",
   "execution_count": 71,
   "metadata": {},
   "outputs": [
    {
     "name": "stdout",
     "output_type": "stream",
     "text": [
      "[[ 48   3   1   0   0   0   0   0   0   0]\n",
      " [  0  66   0   0   0   0   0   0   0   0]\n",
      " [  0   0 254   0   0   0   0   0   1   2]\n",
      " [  0   0   0  51   0   0   0   0   0   1]\n",
      " [  0   0   0   0  41   0   0   0   0   0]\n",
      " [  0   0   0   0   0  69   0   0   0   0]\n",
      " [  0   0   0   0   0   0 128   0   0   0]\n",
      " [  0   0   0   0   0   0   0  47   0   0]\n",
      " [  0   1   0   1   0   0   0   0  53   0]\n",
      " [  0   0   4   0   0   0   0   0   0 207]]\n",
      "              precision    recall  f1-score   support\n",
      "\n",
      "     Cooking       1.00      0.92      0.96        52\n",
      "         Eat       0.94      1.00      0.97        66\n",
      " In computer       0.98      0.99      0.98       257\n",
      "     Meeting       0.98      0.98      0.98        52\n",
      "       Movie       1.00      1.00      1.00        41\n",
      "       Pause       1.00      1.00      1.00        69\n",
      "     Picnic        1.00      1.00      1.00       128\n",
      "       Sleep       1.00      1.00      1.00        47\n",
      " Video games       0.98      0.96      0.97        55\n",
      "        Walk       0.99      0.98      0.98       211\n",
      "\n",
      "    accuracy                           0.99       978\n",
      "   macro avg       0.99      0.98      0.99       978\n",
      "weighted avg       0.99      0.99      0.99       978\n",
      "\n"
     ]
    }
   ],
   "source": [
    "# Check model preformance on the best model \n",
    "from sklearn.metrics import classification_report,confusion_matrix\n",
    "pred = best_algorithm.predict(X_test)\n",
    "print(confusion_matrix(y_test,pred))\n",
    "print(classification_report(y_test,pred))"
   ]
  },
  {
   "cell_type": "code",
   "execution_count": 72,
   "metadata": {},
   "outputs": [
    {
     "name": "stdout",
     "output_type": "stream",
     "text": [
      "Best Max Depth: None\n",
      "Class Weight: None\n"
     ]
    }
   ],
   "source": [
    "from sklearn.ensemble import RandomForestClassifier\n",
    "pipe_forest = Pipeline([('forest', RandomForestClassifier(random_state=0))])\n",
    "param_grid = [{'forest__criterion': ['entropy'],\n",
    "                'forest__n_estimators': [10],\n",
    "                'forest__max_depth': [None, 10, 20, 30],\n",
    "                'forest__class_weight':['balanced',None]}]\n",
    "gs_forest = GridSearchCV(estimator=pipe_forest, param_grid=param_grid, scoring='f1_weighted', cv=2,\n",
    "                            n_jobs=5)\n",
    "\n",
    "gs_forest.fit(X_train, y_train)\n",
    "best_params = gs_forest.best_params_\n",
    "best_max_depth = best_params['forest__max_depth']\n",
    "print(\"Best Max Depth:\", best_max_depth)\n",
    "\n",
    "best_class_weight = best_params['forest__class_weight']\n",
    "print(\"Class Weight:\", best_class_weight)"
   ]
  },
  {
   "cell_type": "markdown",
   "metadata": {},
   "source": [
    "### Performance analysis of the best model"
   ]
  },
  {
   "cell_type": "code",
   "execution_count": 73,
   "metadata": {},
   "outputs": [
    {
     "name": "stdout",
     "output_type": "stream",
     "text": [
      "[[ 48   3   1   0   0   0   0   0   0   0]\n",
      " [  0  66   0   0   0   0   0   0   0   0]\n",
      " [  0   0 254   0   0   0   0   0   1   2]\n",
      " [  0   0   0  51   0   0   0   0   0   1]\n",
      " [  0   0   0   0  41   0   0   0   0   0]\n",
      " [  0   0   0   0   0  69   0   0   0   0]\n",
      " [  0   0   0   0   0   0 128   0   0   0]\n",
      " [  0   0   0   0   0   0   0  47   0   0]\n",
      " [  0   1   0   1   0   0   0   0  53   0]\n",
      " [  0   0   4   0   0   0   0   0   0 207]]\n",
      "              precision    recall  f1-score   support\n",
      "\n",
      "     Cooking       1.00      0.92      0.96        52\n",
      "         Eat       0.94      1.00      0.97        66\n",
      " In computer       0.98      0.99      0.98       257\n",
      "     Meeting       0.98      0.98      0.98        52\n",
      "       Movie       1.00      1.00      1.00        41\n",
      "       Pause       1.00      1.00      1.00        69\n",
      "     Picnic        1.00      1.00      1.00       128\n",
      "       Sleep       1.00      1.00      1.00        47\n",
      " Video games       0.98      0.96      0.97        55\n",
      "        Walk       0.99      0.98      0.98       211\n",
      "\n",
      "    accuracy                           0.99       978\n",
      "   macro avg       0.99      0.98      0.99       978\n",
      "weighted avg       0.99      0.99      0.99       978\n",
      "\n"
     ]
    }
   ],
   "source": [
    "from sklearn.metrics import classification_report,confusion_matrix\n",
    "clf = RandomForestClassifier(n_estimators=10, criterion ='entropy', max_depth=None, random_state=0, class_weight=None)\n",
    "clf.fit(X_train, y_train)\n",
    "pred = clf.predict(X_test)\n",
    "print(confusion_matrix(y_test,pred))\n",
    "print(classification_report(y_test,pred))"
   ]
  },
  {
   "cell_type": "markdown",
   "metadata": {},
   "source": [
    "### Check the importance of each feature"
   ]
  },
  {
   "cell_type": "code",
   "execution_count": 74,
   "metadata": {},
   "outputs": [],
   "source": [
    "importances = pd.DataFrame(data={\n",
    "    'Attribute': X_train.columns,\n",
    "    'Importance': clf.feature_importances_\n",
    "})\n",
    "importances = importances.sort_values(by='Importance', ascending=False)"
   ]
  },
  {
   "cell_type": "code",
   "execution_count": 75,
   "metadata": {},
   "outputs": [
    {
     "data": {
      "image/png": "[encoded data removed]",
      "text/plain": [
       "<Figure size 432x288 with 1 Axes>"
      ]
     },
     "metadata": {
      "needs_background": "light"
     },
     "output_type": "display_data"
    }
   ],
   "source": [
    "plt.bar(x=importances['Attribute'], height=importances['Importance'], color='#087E8B')\n",
    "plt.title('Feature importances obtained from coefficients', size=20)\n",
    "plt.xticks(rotation='vertical')\n",
    "plt.show()"
   ]
  },
  {
   "cell_type": "markdown",
   "metadata": {},
   "source": [
    "#### Re-run the model using only the 5 most important features"
   ]
  },
  {
   "cell_type": "code",
   "execution_count": 76,
   "metadata": {},
   "outputs": [
    {
     "name": "stdout",
     "output_type": "stream",
     "text": [
      "3                audio_mic_2\n",
      "0                   pressure\n",
      "5                audio_mic_4\n",
      "21                   battery\n",
      "20    number_of_devices_wifi\n",
      "Name: Attribute, dtype: object\n"
     ]
    }
   ],
   "source": [
    "print(importances['Attribute'][:5])"
   ]
  },
  {
   "cell_type": "code",
   "execution_count": 77,
   "metadata": {},
   "outputs": [],
   "source": [
    "featurereList = list(importances['Attribute'][:5])\n",
    "X_train_part = X_train[featurereList]\n",
    "X_test_part  = X_test[featurereList]"
   ]
  },
  {
   "cell_type": "code",
   "execution_count": 78,
   "metadata": {},
   "outputs": [
    {
     "name": "stdout",
     "output_type": "stream",
     "text": [
      "[[ 49   2   1   0   0   0   0   0   0   0]\n",
      " [  0  64   0   0   0   0   0   0   0   2]\n",
      " [  0   0 257   0   0   0   0   0   0   0]\n",
      " [  0   0   0  51   0   0   0   0   0   1]\n",
      " [  0   0   0   0  41   0   0   0   0   0]\n",
      " [  1   0   0   0   0  68   0   0   0   0]\n",
      " [  0   0   0   0   0   0 128   0   0   0]\n",
      " [  0   0   0   0   0   0   0  47   0   0]\n",
      " [  0   0   0   0   0   0   0   0  55   0]\n",
      " [  0   0   2   0   0   0   0   0   0 209]]\n",
      "              precision    recall  f1-score   support\n",
      "\n",
      "     Cooking       0.98      0.94      0.96        52\n",
      "         Eat       0.97      0.97      0.97        66\n",
      " In computer       0.99      1.00      0.99       257\n",
      "     Meeting       1.00      0.98      0.99        52\n",
      "       Movie       1.00      1.00      1.00        41\n",
      "       Pause       1.00      0.99      0.99        69\n",
      "     Picnic        1.00      1.00      1.00       128\n",
      "       Sleep       1.00      1.00      1.00        47\n",
      " Video games       1.00      1.00      1.00        55\n",
      "        Walk       0.99      0.99      0.99       211\n",
      "\n",
      "    accuracy                           0.99       978\n",
      "   macro avg       0.99      0.99      0.99       978\n",
      "weighted avg       0.99      0.99      0.99       978\n",
      "\n"
     ]
    }
   ],
   "source": [
    "clf = RandomForestClassifier(n_estimators=10, criterion ='entropy', max_depth=None, random_state=0)\n",
    "clf.fit(X_train_part, y_train)\n",
    "pred = clf.predict(X_test_part)\n",
    "print(confusion_matrix(y_test,pred))\n",
    "print(classification_report(y_test,pred))\n"
   ]
  },
  {
   "cell_type": "markdown",
   "metadata": {},
   "source": [
    "#### Re-run the model using only the 5 least important features"
   ]
  },
  {
   "cell_type": "code",
   "execution_count": 79,
   "metadata": {},
   "outputs": [
    {
     "name": "stdout",
     "output_type": "stream",
     "text": [
      "16      gyroscope_Z\n",
      "15      gyroscope_Y\n",
      "1     step_detector\n",
      "14      gyroscope_X\n",
      "4       audio_mic_3\n",
      "Name: Attribute, dtype: object\n"
     ]
    }
   ],
   "source": [
    "print(importances['Attribute'][-5:])"
   ]
  },
  {
   "cell_type": "code",
   "execution_count": 80,
   "metadata": {},
   "outputs": [],
   "source": [
    "featurereList = list(importances['Attribute'][-5:])\n",
    "X_train_part = X_train[featurereList]\n",
    "X_test_part  = X_test[featurereList]"
   ]
  },
  {
   "cell_type": "code",
   "execution_count": 81,
   "metadata": {},
   "outputs": [
    {
     "name": "stdout",
     "output_type": "stream",
     "text": [
      "[[  4   3  25   3   1   0   4   3   1   8]\n",
      " [  5   6  18   3   6   6   4   2   1  15]\n",
      " [ 17  26 103  13   5  12  32   3   9  37]\n",
      " [  2   8  17   1   0   4   6   1   1  12]\n",
      " [  3   3   9   0   2   5   5   0   3  11]\n",
      " [  2   1  32   3   1   6   8   1   2  13]\n",
      " [  7   9  48   4   3   7  19   1   5  25]\n",
      " [  2   2  16   0   2   2   8   1   1  13]\n",
      " [  3   5  16   2   4   4   9   2   1   9]\n",
      " [ 11  27  75   7   4  14  18   3   8  44]]\n",
      "              precision    recall  f1-score   support\n",
      "\n",
      "     Cooking       0.07      0.08      0.07        52\n",
      "         Eat       0.07      0.09      0.08        66\n",
      " In computer       0.29      0.40      0.33       257\n",
      "     Meeting       0.03      0.02      0.02        52\n",
      "       Movie       0.07      0.05      0.06        41\n",
      "       Pause       0.10      0.09      0.09        69\n",
      "     Picnic        0.17      0.15      0.16       128\n",
      "       Sleep       0.06      0.02      0.03        47\n",
      " Video games       0.03      0.02      0.02        55\n",
      "        Walk       0.24      0.21      0.22       211\n",
      "\n",
      "    accuracy                           0.19       978\n",
      "   macro avg       0.11      0.11      0.11       978\n",
      "weighted avg       0.17      0.19      0.18       978\n",
      "\n"
     ]
    }
   ],
   "source": [
    "clf = RandomForestClassifier(n_estimators=10, criterion ='entropy', max_depth=None, random_state=0)\n",
    "clf.fit(X_train_part, y_train)\n",
    "pred = clf.predict(X_test_part)\n",
    "print(confusion_matrix(y_test,pred))\n",
    "print(classification_report(y_test,pred))\n"
   ]
  }
 ],
 "metadata": {
  "kernelspec": {
   "display_name": "Daniel",
   "language": "python",
   "name": "python3"
  },
  "language_info": {
   "codemirror_mode": {
    "name": "ipython",
    "version": 3
   },
   "file_extension": ".py",
   "mimetype": "text/x-python",
   "name": "python",
   "nbconvert_exporter": "python",
   "pygments_lexer": "ipython3",
   "version": "3.8.10"
  },
  "orig_nbformat": 4
 },
 "nbformat": 4,
 "nbformat_minor": 2
}
