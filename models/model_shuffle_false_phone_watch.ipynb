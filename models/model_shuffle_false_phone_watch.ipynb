{
 "cells": [
  {
   "cell_type": "markdown",
   "metadata": {},
   "source": [
    "# Classification models "
   ]
  },
  {
   "cell_type": "code",
   "execution_count": 105,
   "metadata": {},
   "outputs": [],
   "source": [
    "import pandas as pd\n",
    "import numpy as np\n",
    "import matplotlib.pyplot as plt\n",
    "import seaborn as sns\n",
    "%matplotlib inline"
   ]
  },
  {
   "cell_type": "markdown",
   "metadata": {},
   "source": [
    "## Load Data "
   ]
  },
  {
   "cell_type": "code",
   "execution_count": 106,
   "metadata": {},
   "outputs": [],
   "source": [
    "dataFrame = pd.read_csv('..\\..\\..\\datasets\\Human_Activity\\combine_Phone_and_Watch_interpolated.csv')"
   ]
  },
  {
   "cell_type": "code",
   "execution_count": 107,
   "metadata": {},
   "outputs": [
    {
     "data": {
      "text/html": [
       "<div>\n",
       "<style scoped>\n",
       "    .dataframe tbody tr th:only-of-type {\n",
       "        vertical-align: middle;\n",
       "    }\n",
       "\n",
       "    .dataframe tbody tr th {\n",
       "        vertical-align: top;\n",
       "    }\n",
       "\n",
       "    .dataframe thead th {\n",
       "        text-align: right;\n",
       "    }\n",
       "</style>\n",
       "<table border=\"1\" class=\"dataframe\">\n",
       "  <thead>\n",
       "    <tr style=\"text-align: right;\">\n",
       "      <th></th>\n",
       "      <th>Unnamed: 0</th>\n",
       "      <th>index</th>\n",
       "      <th>timestamp</th>\n",
       "      <th>activity</th>\n",
       "      <th>step_detector</th>\n",
       "      <th>audio_mic_1</th>\n",
       "      <th>audio_mic_2</th>\n",
       "      <th>audio_mic_3</th>\n",
       "      <th>audio_mic_4</th>\n",
       "      <th>gravity</th>\n",
       "      <th>...</th>\n",
       "      <th>gyroscope_X_watch</th>\n",
       "      <th>gyroscope_Y_watch</th>\n",
       "      <th>gyroscope_Z_watch</th>\n",
       "      <th>magnetometer_X_watch</th>\n",
       "      <th>magnetometer_Y_watch</th>\n",
       "      <th>magnetometer_Z_y</th>\n",
       "      <th>battery_y</th>\n",
       "      <th>heart_rate</th>\n",
       "      <th>pressure_combine</th>\n",
       "      <th>diffTimeSec</th>\n",
       "    </tr>\n",
       "  </thead>\n",
       "  <tbody>\n",
       "    <tr>\n",
       "      <th>0</th>\n",
       "      <td>1</td>\n",
       "      <td>0</td>\n",
       "      <td>2017-06-29 09:57:30</td>\n",
       "      <td>Eat</td>\n",
       "      <td>1.0</td>\n",
       "      <td>11927.200000</td>\n",
       "      <td>7563.650340</td>\n",
       "      <td>32767.0</td>\n",
       "      <td>45.0</td>\n",
       "      <td>9.428560</td>\n",
       "      <td>...</td>\n",
       "      <td>-1.027466</td>\n",
       "      <td>0.728256</td>\n",
       "      <td>0.866241</td>\n",
       "      <td>42.903137</td>\n",
       "      <td>-9.513855</td>\n",
       "      <td>-25.811768</td>\n",
       "      <td>82.00</td>\n",
       "      <td>76.875000</td>\n",
       "      <td>963.811290</td>\n",
       "      <td>30.0</td>\n",
       "    </tr>\n",
       "    <tr>\n",
       "      <th>1</th>\n",
       "      <td>2</td>\n",
       "      <td>1</td>\n",
       "      <td>2017-06-29 09:58:00</td>\n",
       "      <td>Eat</td>\n",
       "      <td>1.0</td>\n",
       "      <td>9694.366667</td>\n",
       "      <td>7582.004297</td>\n",
       "      <td>32767.0</td>\n",
       "      <td>45.0</td>\n",
       "      <td>9.495720</td>\n",
       "      <td>...</td>\n",
       "      <td>-1.385284</td>\n",
       "      <td>1.318619</td>\n",
       "      <td>1.436371</td>\n",
       "      <td>28.717041</td>\n",
       "      <td>-23.501587</td>\n",
       "      <td>-18.550110</td>\n",
       "      <td>81.50</td>\n",
       "      <td>83.500000</td>\n",
       "      <td>964.262190</td>\n",
       "      <td>30.0</td>\n",
       "    </tr>\n",
       "    <tr>\n",
       "      <th>2</th>\n",
       "      <td>3</td>\n",
       "      <td>2</td>\n",
       "      <td>2017-06-29 09:58:30</td>\n",
       "      <td>Eat</td>\n",
       "      <td>1.0</td>\n",
       "      <td>7590.000000</td>\n",
       "      <td>7579.942257</td>\n",
       "      <td>32767.0</td>\n",
       "      <td>45.0</td>\n",
       "      <td>9.548030</td>\n",
       "      <td>...</td>\n",
       "      <td>-0.694199</td>\n",
       "      <td>0.503960</td>\n",
       "      <td>0.044128</td>\n",
       "      <td>34.047699</td>\n",
       "      <td>-12.238312</td>\n",
       "      <td>-14.639283</td>\n",
       "      <td>81.25</td>\n",
       "      <td>80.955714</td>\n",
       "      <td>963.352867</td>\n",
       "      <td>30.0</td>\n",
       "    </tr>\n",
       "    <tr>\n",
       "      <th>3</th>\n",
       "      <td>4</td>\n",
       "      <td>3</td>\n",
       "      <td>2017-06-29 09:59:00</td>\n",
       "      <td>Eat</td>\n",
       "      <td>1.0</td>\n",
       "      <td>11810.733333</td>\n",
       "      <td>7589.977663</td>\n",
       "      <td>32767.0</td>\n",
       "      <td>45.0</td>\n",
       "      <td>9.502039</td>\n",
       "      <td>...</td>\n",
       "      <td>-0.003113</td>\n",
       "      <td>-0.310699</td>\n",
       "      <td>-1.348114</td>\n",
       "      <td>39.378357</td>\n",
       "      <td>-0.975037</td>\n",
       "      <td>-10.728455</td>\n",
       "      <td>81.00</td>\n",
       "      <td>78.411429</td>\n",
       "      <td>963.610606</td>\n",
       "      <td>30.0</td>\n",
       "    </tr>\n",
       "    <tr>\n",
       "      <th>4</th>\n",
       "      <td>5</td>\n",
       "      <td>4</td>\n",
       "      <td>2017-06-29 09:59:30</td>\n",
       "      <td>Eat</td>\n",
       "      <td>1.0</td>\n",
       "      <td>7881.866667</td>\n",
       "      <td>7600.249840</td>\n",
       "      <td>32767.0</td>\n",
       "      <td>45.0</td>\n",
       "      <td>9.609119</td>\n",
       "      <td>...</td>\n",
       "      <td>0.115019</td>\n",
       "      <td>-0.297179</td>\n",
       "      <td>-0.684662</td>\n",
       "      <td>-11.760711</td>\n",
       "      <td>16.645813</td>\n",
       "      <td>-20.403798</td>\n",
       "      <td>81.00</td>\n",
       "      <td>73.322857</td>\n",
       "      <td>963.513331</td>\n",
       "      <td>30.0</td>\n",
       "    </tr>\n",
       "  </tbody>\n",
       "</table>\n",
       "<p>5 rows × 42 columns</p>\n",
       "</div>"
      ],
      "text/plain": [
       "   Unnamed: 0  index            timestamp activity  step_detector  \\\n",
       "0           1      0  2017-06-29 09:57:30      Eat            1.0   \n",
       "1           2      1  2017-06-29 09:58:00      Eat            1.0   \n",
       "2           3      2  2017-06-29 09:58:30      Eat            1.0   \n",
       "3           4      3  2017-06-29 09:59:00      Eat            1.0   \n",
       "4           5      4  2017-06-29 09:59:30      Eat            1.0   \n",
       "\n",
       "    audio_mic_1  audio_mic_2  audio_mic_3  audio_mic_4   gravity  ...  \\\n",
       "0  11927.200000  7563.650340      32767.0         45.0  9.428560  ...   \n",
       "1   9694.366667  7582.004297      32767.0         45.0  9.495720  ...   \n",
       "2   7590.000000  7579.942257      32767.0         45.0  9.548030  ...   \n",
       "3  11810.733333  7589.977663      32767.0         45.0  9.502039  ...   \n",
       "4   7881.866667  7600.249840      32767.0         45.0  9.609119  ...   \n",
       "\n",
       "   gyroscope_X_watch  gyroscope_Y_watch  gyroscope_Z_watch  \\\n",
       "0          -1.027466           0.728256           0.866241   \n",
       "1          -1.385284           1.318619           1.436371   \n",
       "2          -0.694199           0.503960           0.044128   \n",
       "3          -0.003113          -0.310699          -1.348114   \n",
       "4           0.115019          -0.297179          -0.684662   \n",
       "\n",
       "   magnetometer_X_watch  magnetometer_Y_watch  magnetometer_Z_y  battery_y  \\\n",
       "0             42.903137             -9.513855        -25.811768      82.00   \n",
       "1             28.717041            -23.501587        -18.550110      81.50   \n",
       "2             34.047699            -12.238312        -14.639283      81.25   \n",
       "3             39.378357             -0.975037        -10.728455      81.00   \n",
       "4            -11.760711             16.645813        -20.403798      81.00   \n",
       "\n",
       "   heart_rate  pressure_combine  diffTimeSec  \n",
       "0   76.875000        963.811290         30.0  \n",
       "1   83.500000        964.262190         30.0  \n",
       "2   80.955714        963.352867         30.0  \n",
       "3   78.411429        963.610606         30.0  \n",
       "4   73.322857        963.513331         30.0  \n",
       "\n",
       "[5 rows x 42 columns]"
      ]
     },
     "execution_count": 107,
     "metadata": {},
     "output_type": "execute_result"
    }
   ],
   "source": [
    "dataFrame.head()"
   ]
  },
  {
   "cell_type": "code",
   "execution_count": 108,
   "metadata": {},
   "outputs": [
    {
     "name": "stdout",
     "output_type": "stream",
     "text": [
      "<class 'pandas.core.frame.DataFrame'>\n",
      "RangeIndex: 6160 entries, 0 to 6159\n",
      "Data columns (total 42 columns):\n",
      " #   Column                  Non-Null Count  Dtype  \n",
      "---  ------                  --------------  -----  \n",
      " 0   Unnamed: 0              6160 non-null   int64  \n",
      " 1   index                   6160 non-null   int64  \n",
      " 2   timestamp               6160 non-null   object \n",
      " 3   activity                6160 non-null   object \n",
      " 4   step_detector           6160 non-null   float64\n",
      " 5   audio_mic_1             6160 non-null   float64\n",
      " 6   audio_mic_2             6160 non-null   float64\n",
      " 7   audio_mic_3             6160 non-null   float64\n",
      " 8   audio_mic_4             6160 non-null   float64\n",
      " 9   gravity                 6160 non-null   float64\n",
      " 10  linear_acceleration     6160 non-null   float64\n",
      " 11  orientation_X_phone     6160 non-null   float64\n",
      " 12  orientation_Y_phone     6160 non-null   float64\n",
      " 13  orientation_Z_phone     6160 non-null   float64\n",
      " 14  accelerometer_X_phone   6160 non-null   float64\n",
      " 15  accelerometer_Y_phone   6160 non-null   float64\n",
      " 16  accelerometer_Z_phone   6160 non-null   float64\n",
      " 17  gyroscope_X_phone       6160 non-null   float64\n",
      " 18  gyroscope_Y_phone       6160 non-null   float64\n",
      " 19  gyroscope_Z_phone       6160 non-null   float64\n",
      " 20  magnetometer_X_phone    6160 non-null   float64\n",
      " 21  magnetometer_Y_phone    6160 non-null   float64\n",
      " 22  magnetometer_Z_x        6160 non-null   float64\n",
      " 23  number_of_devices_wifi  6160 non-null   float64\n",
      " 24  battery_x               6160 non-null   float64\n",
      " 25  bluetooth               6160 non-null   float64\n",
      " 26  orientation_X_watch     6160 non-null   float64\n",
      " 27  orientation_Y_watch     6160 non-null   float64\n",
      " 28  orientation_Z_watch     6160 non-null   float64\n",
      " 29  accelerometer_X_watch   6160 non-null   float64\n",
      " 30  accelerometer_Y_watch   6160 non-null   float64\n",
      " 31  accelerometer_Z_watch   6160 non-null   float64\n",
      " 32  gyroscope_X_watch       6160 non-null   float64\n",
      " 33  gyroscope_Y_watch       6160 non-null   float64\n",
      " 34  gyroscope_Z_watch       6160 non-null   float64\n",
      " 35  magnetometer_X_watch    6160 non-null   float64\n",
      " 36  magnetometer_Y_watch    6160 non-null   float64\n",
      " 37  magnetometer_Z_y        6160 non-null   float64\n",
      " 38  battery_y               6160 non-null   float64\n",
      " 39  heart_rate              6160 non-null   float64\n",
      " 40  pressure_combine        6160 non-null   float64\n",
      " 41  diffTimeSec             6160 non-null   float64\n",
      "dtypes: float64(38), int64(2), object(2)\n",
      "memory usage: 2.0+ MB\n"
     ]
    }
   ],
   "source": [
    "dataFrame.info()"
   ]
  },
  {
   "cell_type": "code",
   "execution_count": 109,
   "metadata": {},
   "outputs": [
    {
     "data": {
      "text/html": [
       "<div>\n",
       "<style scoped>\n",
       "    .dataframe tbody tr th:only-of-type {\n",
       "        vertical-align: middle;\n",
       "    }\n",
       "\n",
       "    .dataframe tbody tr th {\n",
       "        vertical-align: top;\n",
       "    }\n",
       "\n",
       "    .dataframe thead th {\n",
       "        text-align: right;\n",
       "    }\n",
       "</style>\n",
       "<table border=\"1\" class=\"dataframe\">\n",
       "  <thead>\n",
       "    <tr style=\"text-align: right;\">\n",
       "      <th></th>\n",
       "      <th>step_detector</th>\n",
       "      <th>audio_mic_1</th>\n",
       "      <th>audio_mic_2</th>\n",
       "      <th>audio_mic_3</th>\n",
       "      <th>audio_mic_4</th>\n",
       "      <th>gravity</th>\n",
       "      <th>linear_acceleration</th>\n",
       "      <th>orientation_X_phone</th>\n",
       "      <th>orientation_Y_phone</th>\n",
       "      <th>orientation_Z_phone</th>\n",
       "      <th>...</th>\n",
       "      <th>accelerometer_Z_watch</th>\n",
       "      <th>gyroscope_X_watch</th>\n",
       "      <th>gyroscope_Y_watch</th>\n",
       "      <th>gyroscope_Z_watch</th>\n",
       "      <th>magnetometer_X_watch</th>\n",
       "      <th>magnetometer_Y_watch</th>\n",
       "      <th>magnetometer_Z_y</th>\n",
       "      <th>battery_y</th>\n",
       "      <th>heart_rate</th>\n",
       "      <th>pressure_combine</th>\n",
       "    </tr>\n",
       "  </thead>\n",
       "  <tbody>\n",
       "    <tr>\n",
       "      <th>0</th>\n",
       "      <td>1.0</td>\n",
       "      <td>11927.200000</td>\n",
       "      <td>7563.650340</td>\n",
       "      <td>32767.0</td>\n",
       "      <td>45.0</td>\n",
       "      <td>9.428560</td>\n",
       "      <td>2.384370</td>\n",
       "      <td>22.952714</td>\n",
       "      <td>60.453024</td>\n",
       "      <td>-5.277635</td>\n",
       "      <td>...</td>\n",
       "      <td>1.480637</td>\n",
       "      <td>-1.027466</td>\n",
       "      <td>0.728256</td>\n",
       "      <td>0.866241</td>\n",
       "      <td>42.903137</td>\n",
       "      <td>-9.513855</td>\n",
       "      <td>-25.811768</td>\n",
       "      <td>82.00</td>\n",
       "      <td>76.875000</td>\n",
       "      <td>963.811290</td>\n",
       "    </tr>\n",
       "    <tr>\n",
       "      <th>1</th>\n",
       "      <td>1.0</td>\n",
       "      <td>9694.366667</td>\n",
       "      <td>7582.004297</td>\n",
       "      <td>32767.0</td>\n",
       "      <td>45.0</td>\n",
       "      <td>9.495720</td>\n",
       "      <td>1.978390</td>\n",
       "      <td>43.617109</td>\n",
       "      <td>81.183346</td>\n",
       "      <td>8.174922</td>\n",
       "      <td>...</td>\n",
       "      <td>2.818146</td>\n",
       "      <td>-1.385284</td>\n",
       "      <td>1.318619</td>\n",
       "      <td>1.436371</td>\n",
       "      <td>28.717041</td>\n",
       "      <td>-23.501587</td>\n",
       "      <td>-18.550110</td>\n",
       "      <td>81.50</td>\n",
       "      <td>83.500000</td>\n",
       "      <td>964.262190</td>\n",
       "    </tr>\n",
       "    <tr>\n",
       "      <th>2</th>\n",
       "      <td>1.0</td>\n",
       "      <td>7590.000000</td>\n",
       "      <td>7579.942257</td>\n",
       "      <td>32767.0</td>\n",
       "      <td>45.0</td>\n",
       "      <td>9.548030</td>\n",
       "      <td>1.396605</td>\n",
       "      <td>4.632983</td>\n",
       "      <td>75.299680</td>\n",
       "      <td>48.593347</td>\n",
       "      <td>...</td>\n",
       "      <td>2.174874</td>\n",
       "      <td>-0.694199</td>\n",
       "      <td>0.503960</td>\n",
       "      <td>0.044128</td>\n",
       "      <td>34.047699</td>\n",
       "      <td>-12.238312</td>\n",
       "      <td>-14.639283</td>\n",
       "      <td>81.25</td>\n",
       "      <td>80.955714</td>\n",
       "      <td>963.352867</td>\n",
       "    </tr>\n",
       "    <tr>\n",
       "      <th>3</th>\n",
       "      <td>1.0</td>\n",
       "      <td>11810.733333</td>\n",
       "      <td>7589.977663</td>\n",
       "      <td>32767.0</td>\n",
       "      <td>45.0</td>\n",
       "      <td>9.502039</td>\n",
       "      <td>5.458737</td>\n",
       "      <td>-32.125872</td>\n",
       "      <td>65.046507</td>\n",
       "      <td>-46.384025</td>\n",
       "      <td>...</td>\n",
       "      <td>1.531603</td>\n",
       "      <td>-0.003113</td>\n",
       "      <td>-0.310699</td>\n",
       "      <td>-1.348114</td>\n",
       "      <td>39.378357</td>\n",
       "      <td>-0.975037</td>\n",
       "      <td>-10.728455</td>\n",
       "      <td>81.00</td>\n",
       "      <td>78.411429</td>\n",
       "      <td>963.610606</td>\n",
       "    </tr>\n",
       "    <tr>\n",
       "      <th>4</th>\n",
       "      <td>1.0</td>\n",
       "      <td>7881.866667</td>\n",
       "      <td>7600.249840</td>\n",
       "      <td>32767.0</td>\n",
       "      <td>45.0</td>\n",
       "      <td>9.609119</td>\n",
       "      <td>2.982487</td>\n",
       "      <td>135.779456</td>\n",
       "      <td>77.457162</td>\n",
       "      <td>-25.646591</td>\n",
       "      <td>...</td>\n",
       "      <td>0.245060</td>\n",
       "      <td>0.115019</td>\n",
       "      <td>-0.297179</td>\n",
       "      <td>-0.684662</td>\n",
       "      <td>-11.760711</td>\n",
       "      <td>16.645813</td>\n",
       "      <td>-20.403798</td>\n",
       "      <td>81.00</td>\n",
       "      <td>73.322857</td>\n",
       "      <td>963.513331</td>\n",
       "    </tr>\n",
       "  </tbody>\n",
       "</table>\n",
       "<p>5 rows × 37 columns</p>\n",
       "</div>"
      ],
      "text/plain": [
       "   step_detector   audio_mic_1  audio_mic_2  audio_mic_3  audio_mic_4  \\\n",
       "0            1.0  11927.200000  7563.650340      32767.0         45.0   \n",
       "1            1.0   9694.366667  7582.004297      32767.0         45.0   \n",
       "2            1.0   7590.000000  7579.942257      32767.0         45.0   \n",
       "3            1.0  11810.733333  7589.977663      32767.0         45.0   \n",
       "4            1.0   7881.866667  7600.249840      32767.0         45.0   \n",
       "\n",
       "    gravity  linear_acceleration  orientation_X_phone  orientation_Y_phone  \\\n",
       "0  9.428560             2.384370            22.952714            60.453024   \n",
       "1  9.495720             1.978390            43.617109            81.183346   \n",
       "2  9.548030             1.396605             4.632983            75.299680   \n",
       "3  9.502039             5.458737           -32.125872            65.046507   \n",
       "4  9.609119             2.982487           135.779456            77.457162   \n",
       "\n",
       "   orientation_Z_phone  ...  accelerometer_Z_watch  gyroscope_X_watch  \\\n",
       "0            -5.277635  ...               1.480637          -1.027466   \n",
       "1             8.174922  ...               2.818146          -1.385284   \n",
       "2            48.593347  ...               2.174874          -0.694199   \n",
       "3           -46.384025  ...               1.531603          -0.003113   \n",
       "4           -25.646591  ...               0.245060           0.115019   \n",
       "\n",
       "   gyroscope_Y_watch  gyroscope_Z_watch  magnetometer_X_watch  \\\n",
       "0           0.728256           0.866241             42.903137   \n",
       "1           1.318619           1.436371             28.717041   \n",
       "2           0.503960           0.044128             34.047699   \n",
       "3          -0.310699          -1.348114             39.378357   \n",
       "4          -0.297179          -0.684662            -11.760711   \n",
       "\n",
       "   magnetometer_Y_watch  magnetometer_Z_y  battery_y  heart_rate  \\\n",
       "0             -9.513855        -25.811768      82.00   76.875000   \n",
       "1            -23.501587        -18.550110      81.50   83.500000   \n",
       "2            -12.238312        -14.639283      81.25   80.955714   \n",
       "3             -0.975037        -10.728455      81.00   78.411429   \n",
       "4             16.645813        -20.403798      81.00   73.322857   \n",
       "\n",
       "   pressure_combine  \n",
       "0        963.811290  \n",
       "1        964.262190  \n",
       "2        963.352867  \n",
       "3        963.610606  \n",
       "4        963.513331  \n",
       "\n",
       "[5 rows x 37 columns]"
      ]
     },
     "execution_count": 109,
     "metadata": {},
     "output_type": "execute_result"
    }
   ],
   "source": [
    "FeaturesTable = dataFrame.drop(columns=['Unnamed: 0','index','timestamp','activity','diffTimeSec'])\n",
    "FeaturesTable.head()"
   ]
  },
  {
   "cell_type": "code",
   "execution_count": 110,
   "metadata": {},
   "outputs": [
    {
     "data": {
      "text/plain": [
       "array(['Eat', 'Walk', 'Running', 'In computer', 'Meeting', 'Sleep',\n",
       "       'Video games', 'Picnic ', 'Watching TV', 'Cooking', 'Movie',\n",
       "       'Pause', 'Football'], dtype=object)"
      ]
     },
     "execution_count": 110,
     "metadata": {},
     "output_type": "execute_result"
    }
   ],
   "source": [
    "label = dataFrame['activity']\n",
    "label.unique()"
   ]
  },
  {
   "cell_type": "code",
   "execution_count": 111,
   "metadata": {},
   "outputs": [
    {
     "data": {
      "text/plain": [
       "<Axes: xlabel='count', ylabel='activity'>"
      ]
     },
     "execution_count": 111,
     "metadata": {},
     "output_type": "execute_result"
    },
    {
     "data": {
      "image/png": "[encoded data removed]",
      "text/plain": [
       "<Figure size 640x480 with 1 Axes>"
      ]
     },
     "metadata": {},
     "output_type": "display_data"
    }
   ],
   "source": [
    "sns.countplot(y = label, data = label)"
   ]
  },
  {
   "cell_type": "code",
   "execution_count": 112,
   "metadata": {},
   "outputs": [
    {
     "data": {
      "text/plain": [
       "Index(['Football', 'Watching TV', 'Running'], dtype='object')"
      ]
     },
     "execution_count": 112,
     "metadata": {},
     "output_type": "execute_result"
    }
   ],
   "source": [
    "# Remove labels that occur fewer than 150 times and are not present in the smartphone dataset\n",
    "label_to_remove = label.value_counts().loc[lambda x : x<150].index\n",
    "label_to_remove"
   ]
  },
  {
   "cell_type": "code",
   "execution_count": 113,
   "metadata": {},
   "outputs": [],
   "source": [
    "Idx = label.apply(lambda x: x == 'Football' or x == 'Watching TV' or x=='Running')\n",
    "label = label[~Idx]\n",
    "FeaturesTable = FeaturesTable[~Idx]\n"
   ]
  },
  {
   "cell_type": "markdown",
   "metadata": {},
   "source": [
    "## Split Train and Test"
   ]
  },
  {
   "cell_type": "code",
   "execution_count": 114,
   "metadata": {},
   "outputs": [],
   "source": [
    "from sklearn.model_selection import train_test_split\n",
    "X_train, X_test, y_train, y_test = train_test_split(FeaturesTable, label, test_size=0.20, random_state=42,shuffle=False)"
   ]
  },
  {
   "cell_type": "code",
   "execution_count": 115,
   "metadata": {},
   "outputs": [
    {
     "data": {
      "text/plain": [
       "Text(0.5, 1.0, 'Train Datset')"
      ]
     },
     "execution_count": 115,
     "metadata": {},
     "output_type": "execute_result"
    },
    {
     "data": {
      "image/png": "[encoded data removed]",
      "text/plain": [
       "<Figure size 640x480 with 1 Axes>"
      ]
     },
     "metadata": {},
     "output_type": "display_data"
    }
   ],
   "source": [
    "sns.countplot(y = y_train, order = y_train.value_counts().index).set_title('Train Datset')"
   ]
  },
  {
   "cell_type": "code",
   "execution_count": 116,
   "metadata": {},
   "outputs": [
    {
     "data": {
      "text/plain": [
       "Text(0.5, 1.0, 'Test Datset')"
      ]
     },
     "execution_count": 116,
     "metadata": {},
     "output_type": "execute_result"
    },
    {
     "data": {
      "image/png": "[encoded data removed]",
      "text/plain": [
       "<Figure size 640x480 with 1 Axes>"
      ]
     },
     "metadata": {},
     "output_type": "display_data"
    }
   ],
   "source": [
    "sns.countplot(y = y_test,order = y_train.value_counts().index).set_title('Test Datset')"
   ]
  },
  {
   "cell_type": "markdown",
   "metadata": {},
   "source": [
    "## Standardize the Variables"
   ]
  },
  {
   "cell_type": "code",
   "execution_count": 117,
   "metadata": {},
   "outputs": [],
   "source": [
    "from sklearn.preprocessing import StandardScaler"
   ]
  },
  {
   "cell_type": "code",
   "execution_count": 118,
   "metadata": {},
   "outputs": [],
   "source": [
    "scaler = StandardScaler()\n",
    "scaler.fit(X_train)\n",
    "scaled_features_train = scaler.transform(X_train)\n",
    "scaled_features_test = scaler.transform(X_test)"
   ]
  },
  {
   "cell_type": "markdown",
   "metadata": {},
   "source": [
    "## Models"
   ]
  },
  {
   "cell_type": "markdown",
   "metadata": {},
   "source": [
    "### Examining different models with different parameters"
   ]
  },
  {
   "cell_type": "code",
   "execution_count": 119,
   "metadata": {},
   "outputs": [
    {
     "name": "stdout",
     "output_type": "stream",
     "text": [
      "Mean score: $0.459$ for algorithm: $lr$\n",
      "Mean score: $0.504$ for algorithm: $svm$\n",
      "Mean score: $0.198$ for algorithm: $adaboost$\n",
      "Mean score: $0.404$ for algorithm: $tree$\n",
      "Mean score: $0.632$ for algorithm: $forest$\n",
      "Mean score: $0.578$ for algorithm: $knn$\n",
      "The best algorithm is: $forest$. The accurate on all training data is: $0.9997893176039764$\n"
     ]
    }
   ],
   "source": [
    "from sklearn.ensemble import RandomForestClassifier, AdaBoostClassifier\n",
    "from sklearn.linear_model import LogisticRegression\n",
    "from sklearn.model_selection import cross_val_score, GridSearchCV\n",
    "from sklearn.neighbors import KNeighborsClassifier\n",
    "from sklearn.pipeline import Pipeline\n",
    "from sklearn.preprocessing import StandardScaler\n",
    "from sklearn.svm import SVC\n",
    "from sklearn.tree import DecisionTreeClassifier\n",
    "\n",
    "class PipelinesListMixin(object):\n",
    "    @property\n",
    "    def meta_estimators(self):\n",
    "        scoring = 'f1_weighted'\n",
    "\n",
    "        # Logistic Regression\n",
    "        pipe_lr = Pipeline([('scl', StandardScaler()),\n",
    "                            ('lr',  LogisticRegression(random_state=0))])\n",
    "        param_grid = [{'lr__C': [10 ** int(C) for C in np.arange(-5, 5)],\n",
    "                       'lr__penalty': ['l2', 'l1'],\n",
    "                       'lr__class_weight': ['balanced',None]}]\n",
    "        gs_lr = GridSearchCV(estimator=pipe_lr, param_grid=param_grid, scoring=scoring, cv=2, n_jobs=5)\n",
    "\n",
    "        # SVM\n",
    "        pipe_svm = Pipeline([('scl', StandardScaler()),\n",
    "                            ('svm', SVC(random_state=0))])\n",
    "        param_grid = [{'svm__C': [10 ** int(C) for C in np.arange(-5, 5)],\n",
    "                        'svm__kernel': ['linear']},\n",
    "                      {'svm__C': [10 ** int(C) for C in np.arange(-5, 5)],\n",
    "                        'svm__gamma': ['auto'],\n",
    "                        'svm__kernel': ['rbf'],\n",
    "                        'svm__class_weight': ['balanced',None]}]\n",
    "        gs_svm = GridSearchCV(estimator=pipe_svm, param_grid=param_grid, scoring=scoring, cv=2, n_jobs=5)\n",
    "\n",
    "        # Tree\n",
    "        pipe_tree = Pipeline([('tree', DecisionTreeClassifier(random_state=0))])\n",
    "        param_grid = [{'tree__criterion': ['entropy'],\n",
    "                       'tree__max_depth': [3],\n",
    "                       'tree__class_weight': ['balanced',None]}]\n",
    "        gs_tree = GridSearchCV(estimator=pipe_tree, param_grid=param_grid, scoring=scoring, cv=2,\n",
    "                                n_jobs=5)\n",
    "\n",
    "        # Adaboost\n",
    "        tree = DecisionTreeClassifier(random_state=0, criterion='entropy', max_depth=1)\n",
    "        pipe_ada = Pipeline([('adaboost', AdaBoostClassifier(base_estimator=tree, random_state=0))])\n",
    "        param_grid = [{'adaboost__n_estimators': [500],\n",
    "                       'adaboost__learning_rate': [0.1]}]\n",
    "        gs_ada = GridSearchCV(estimator=pipe_ada, param_grid=param_grid, scoring=scoring, cv=2,\n",
    "                              n_jobs=5)\n",
    " \n",
    "        # Forest\n",
    "        pipe_forest = Pipeline([('forest', RandomForestClassifier(random_state=0))])\n",
    "        param_grid = [{'forest__criterion': ['entropy'],\n",
    "                       'forest__n_estimators': [10],\n",
    "                       'forest__max_depth': [None, 10, 20, 30],\n",
    "                       'forest__class_weight':['balanced',None]}]\n",
    "        gs_forest = GridSearchCV(estimator=pipe_forest, param_grid=param_grid, scoring=scoring, cv=2,\n",
    "                                  n_jobs=5)\n",
    "\n",
    "        # KNN\n",
    "        pipe_knn = Pipeline( [('knn', KNeighborsClassifier())])\n",
    "        param_grid = [{'knn__n_neighbors': [5],\n",
    "                       'knn__p': [2]}]\n",
    "        gs_knn = GridSearchCV(estimator=pipe_knn, param_grid=param_grid, scoring=scoring, cv=2,\n",
    "                              n_jobs=5)\n",
    "        \n",
    "        return [gs_lr, gs_svm, gs_ada, gs_tree, gs_forest, gs_knn] \n",
    "\n",
    "\n",
    "class ComparingClassifiers(PipelinesListMixin):\n",
    "    def fit(self, X, y, scoring):\n",
    "        algorithm_scores = []\n",
    "        for gs in self.meta_estimators:\n",
    "            #In each cross validation of cross_val_score function the GridSearchCV (gs) is working and run internal cross validation.\n",
    "            #The aim is to do another level of validation set - for selecting the best algorithm.\n",
    "            scores = cross_val_score(gs, X, y, scoring=scoring, cv=5, n_jobs=10)\n",
    "            mean_scores = np.mean(scores) # Scores of all best models of the same algorithm (on each of the iterations of the outer cross validation).\n",
    "            algorithm_scores.append(mean_scores)\n",
    "            print('Mean score: ${:.3f}$ for algorithm: ${}$'.format(mean_scores, gs.estimator.steps[-1][0]))\n",
    "        best_grid_search = self.meta_estimators[np.argmax(algorithm_scores)]\n",
    "        return best_grid_search.fit(X, y)\n",
    "\n",
    "best_algorithm = ComparingClassifiers().fit(X_train, y_train, 'f1_weighted')\n",
    "print('The best algorithm is: ${}$. The accurate on all training data is: ${}$'.format(best_algorithm.estimator.steps[-1][0], best_algorithm.score(X_train, y_train)))"
   ]
  },
  {
   "cell_type": "code",
   "execution_count": 120,
   "metadata": {},
   "outputs": [
    {
     "name": "stdout",
     "output_type": "stream",
     "text": [
      "[[  0  57   4  15   1   0   3   0  50]\n",
      " [  0  17  17   0  13   0   0   0  23]\n",
      " [  5  57 256   0   1   0   0   0  27]\n",
      " [  0  17 151   0   6   0   0  21  29]\n",
      " [  0   0   0   0   0   0   0   0   0]\n",
      " [  0  55  33  12   0  35 105   0  30]\n",
      " [  0   0   0   0   0   0   0   0   0]\n",
      " [  0   0  32   0   0   0   0   0   0]\n",
      " [  0  24  64   0  14   1   0   4  11]]\n",
      "              precision    recall  f1-score   support\n",
      "\n",
      "     Cooking       0.00      0.00      0.00       130\n",
      "         Eat       0.07      0.24      0.11        70\n",
      " In computer       0.46      0.74      0.57       346\n",
      "     Meeting       0.00      0.00      0.00       224\n",
      "       Movie       0.00      0.00      0.00         0\n",
      "       Pause       0.97      0.13      0.23       270\n",
      "       Sleep       0.00      0.00      0.00         0\n",
      " Video games       0.00      0.00      0.00        32\n",
      "        Walk       0.06      0.09      0.08       118\n",
      "\n",
      "    accuracy                           0.27      1190\n",
      "   macro avg       0.17      0.13      0.11      1190\n",
      "weighted avg       0.37      0.27      0.23      1190\n",
      "\n"
     ]
    },
    {
     "name": "stderr",
     "output_type": "stream",
     "text": [
      "c:\\Users\\asafl\\anaconda3\\envs\\Daniel\\lib\\site-packages\\sklearn\\metrics\\_classification.py:1318: UndefinedMetricWarning: Recall and F-score are ill-defined and being set to 0.0 in labels with no true samples. Use `zero_division` parameter to control this behavior.\n",
      "  _warn_prf(average, modifier, msg_start, len(result))\n",
      "c:\\Users\\asafl\\anaconda3\\envs\\Daniel\\lib\\site-packages\\sklearn\\metrics\\_classification.py:1318: UndefinedMetricWarning: Recall and F-score are ill-defined and being set to 0.0 in labels with no true samples. Use `zero_division` parameter to control this behavior.\n",
      "  _warn_prf(average, modifier, msg_start, len(result))\n",
      "c:\\Users\\asafl\\anaconda3\\envs\\Daniel\\lib\\site-packages\\sklearn\\metrics\\_classification.py:1318: UndefinedMetricWarning: Recall and F-score are ill-defined and being set to 0.0 in labels with no true samples. Use `zero_division` parameter to control this behavior.\n",
      "  _warn_prf(average, modifier, msg_start, len(result))\n"
     ]
    }
   ],
   "source": [
    "# Check model preformance on the best model \n",
    "from sklearn.metrics import classification_report,confusion_matrix\n",
    "pred = best_algorithm.predict(X_test)\n",
    "print(confusion_matrix(y_test,pred))\n",
    "print(classification_report(y_test,pred))"
   ]
  },
  {
   "cell_type": "code",
   "execution_count": 121,
   "metadata": {},
   "outputs": [
    {
     "name": "stdout",
     "output_type": "stream",
     "text": [
      "Best Max Depth: None\n",
      "Class Weight: balanced\n"
     ]
    }
   ],
   "source": [
    "from sklearn.ensemble import RandomForestClassifier\n",
    "pipe_forest = Pipeline([('forest', RandomForestClassifier(random_state=0))])\n",
    "param_grid = [{'forest__criterion': ['entropy'],\n",
    "                'forest__n_estimators': [10],\n",
    "                'forest__max_depth': [None, 10, 20, 30],\n",
    "                'forest__class_weight':['balanced',None]}]\n",
    "gs_forest = GridSearchCV(estimator=pipe_forest, param_grid=param_grid, scoring='f1_weighted', cv=2,\n",
    "                            n_jobs=5)\n",
    "\n",
    "gs_forest.fit(X_train, y_train)\n",
    "best_params = gs_forest.best_params_\n",
    "best_max_depth = best_params['forest__max_depth']\n",
    "print(\"Best Max Depth:\", best_max_depth)\n",
    "\n",
    "best_class_weight = best_params['forest__class_weight']\n",
    "print(\"Class Weight:\", best_class_weight)"
   ]
  },
  {
   "cell_type": "markdown",
   "metadata": {},
   "source": [
    "### Performance analysis of the best model"
   ]
  },
  {
   "cell_type": "code",
   "execution_count": 122,
   "metadata": {},
   "outputs": [
    {
     "name": "stdout",
     "output_type": "stream",
     "text": [
      "[[  0  57   4  15   1   0   3   0  50]\n",
      " [  0  17  17   0  13   0   0   0  23]\n",
      " [  5  57 256   0   1   0   0   0  27]\n",
      " [  0  17 151   0   6   0   0  21  29]\n",
      " [  0   0   0   0   0   0   0   0   0]\n",
      " [  0  55  33  12   0  35 105   0  30]\n",
      " [  0   0   0   0   0   0   0   0   0]\n",
      " [  0   0  32   0   0   0   0   0   0]\n",
      " [  0  24  64   0  14   1   0   4  11]]\n",
      "              precision    recall  f1-score   support\n",
      "\n",
      "     Cooking       0.00      0.00      0.00       130\n",
      "         Eat       0.07      0.24      0.11        70\n",
      " In computer       0.46      0.74      0.57       346\n",
      "     Meeting       0.00      0.00      0.00       224\n",
      "       Movie       0.00      0.00      0.00         0\n",
      "       Pause       0.97      0.13      0.23       270\n",
      "       Sleep       0.00      0.00      0.00         0\n",
      " Video games       0.00      0.00      0.00        32\n",
      "        Walk       0.06      0.09      0.08       118\n",
      "\n",
      "    accuracy                           0.27      1190\n",
      "   macro avg       0.17      0.13      0.11      1190\n",
      "weighted avg       0.37      0.27      0.23      1190\n",
      "\n"
     ]
    },
    {
     "name": "stderr",
     "output_type": "stream",
     "text": [
      "c:\\Users\\asafl\\anaconda3\\envs\\Daniel\\lib\\site-packages\\sklearn\\metrics\\_classification.py:1318: UndefinedMetricWarning: Recall and F-score are ill-defined and being set to 0.0 in labels with no true samples. Use `zero_division` parameter to control this behavior.\n",
      "  _warn_prf(average, modifier, msg_start, len(result))\n",
      "c:\\Users\\asafl\\anaconda3\\envs\\Daniel\\lib\\site-packages\\sklearn\\metrics\\_classification.py:1318: UndefinedMetricWarning: Recall and F-score are ill-defined and being set to 0.0 in labels with no true samples. Use `zero_division` parameter to control this behavior.\n",
      "  _warn_prf(average, modifier, msg_start, len(result))\n",
      "c:\\Users\\asafl\\anaconda3\\envs\\Daniel\\lib\\site-packages\\sklearn\\metrics\\_classification.py:1318: UndefinedMetricWarning: Recall and F-score are ill-defined and being set to 0.0 in labels with no true samples. Use `zero_division` parameter to control this behavior.\n",
      "  _warn_prf(average, modifier, msg_start, len(result))\n"
     ]
    }
   ],
   "source": [
    "from sklearn.metrics import classification_report,confusion_matrix\n",
    "clf = RandomForestClassifier(n_estimators=10, criterion ='entropy', random_state=0, max_depth=None, class_weight=\"balanced\")\n",
    "clf.fit(X_train, y_train)\n",
    "pred = clf.predict(X_test)\n",
    "print(confusion_matrix(y_test,pred))\n",
    "print(classification_report(y_test,pred))"
   ]
  },
  {
   "cell_type": "markdown",
   "metadata": {},
   "source": [
    "### Check the importance of each feature"
   ]
  },
  {
   "cell_type": "code",
   "execution_count": 124,
   "metadata": {},
   "outputs": [],
   "source": [
    "importances = pd.DataFrame(data={\n",
    "    'Attribute': X_train.columns,\n",
    "    'Importance': clf.feature_importances_\n",
    "})\n",
    "importances = importances.sort_values(by='Importance', ascending=False)"
   ]
  },
  {
   "cell_type": "code",
   "execution_count": 125,
   "metadata": {},
   "outputs": [
    {
     "data": {
      "image/png": "[encoded data removed]",
      "text/plain": [
       "<Figure size 640x480 with 1 Axes>"
      ]
     },
     "metadata": {},
     "output_type": "display_data"
    }
   ],
   "source": [
    "plt.bar(x=importances['Attribute'], height=importances['Importance'], color='#087E8B')\n",
    "plt.title('Feature importances obtained from coefficients', size=20)\n",
    "plt.xticks(rotation='vertical')\n",
    "plt.show()"
   ]
  },
  {
   "cell_type": "markdown",
   "metadata": {},
   "source": [
    "#### Re-run the model using only the 5 most important features"
   ]
  },
  {
   "cell_type": "code",
   "execution_count": 126,
   "metadata": {},
   "outputs": [
    {
     "name": "stdout",
     "output_type": "stream",
     "text": [
      "2          audio_mic_2\n",
      "20           battery_x\n",
      "34           battery_y\n",
      "4          audio_mic_4\n",
      "36    pressure_combine\n",
      "Name: Attribute, dtype: object\n"
     ]
    }
   ],
   "source": [
    "print(importances['Attribute'][:5])"
   ]
  },
  {
   "cell_type": "code",
   "execution_count": 127,
   "metadata": {},
   "outputs": [],
   "source": [
    "featurereList = list(importances['Attribute'][:5])\n",
    "X_train_part = X_train[featurereList]\n",
    "X_test_part  = X_test[featurereList]"
   ]
  },
  {
   "cell_type": "code",
   "execution_count": 128,
   "metadata": {},
   "outputs": [
    {
     "name": "stdout",
     "output_type": "stream",
     "text": [
      "[[  1  28  25   0   8   0   4   0  64]\n",
      " [  0   6   0   0  20   0   0   0  44]\n",
      " [  0   0 242   0   0   0   8   0  96]\n",
      " [  0  40 157   0  24   1   0   0   2]\n",
      " [  0   0   0   0   0   0   0   0   0]\n",
      " [  0   0   0   9   0  67 152   0  42]\n",
      " [  0   0   0   0   0   0   0   0   0]\n",
      " [  0   0  32   0   0   0   0   0   0]\n",
      " [  0  25  54   0  30   9   0   0   0]]\n",
      "              precision    recall  f1-score   support\n",
      "\n",
      "     Cooking       1.00      0.01      0.02       130\n",
      "         Eat       0.06      0.09      0.07        70\n",
      " In computer       0.47      0.70      0.57       346\n",
      "     Meeting       0.00      0.00      0.00       224\n",
      "       Movie       0.00      0.00      0.00         0\n",
      "       Pause       0.87      0.25      0.39       270\n",
      "       Sleep       0.00      0.00      0.00         0\n",
      " Video games       0.00      0.00      0.00        32\n",
      "        Walk       0.00      0.00      0.00       118\n",
      "\n",
      "    accuracy                           0.27      1190\n",
      "   macro avg       0.27      0.12      0.12      1190\n",
      "weighted avg       0.45      0.27      0.26      1190\n",
      "\n"
     ]
    },
    {
     "name": "stderr",
     "output_type": "stream",
     "text": [
      "c:\\Users\\asafl\\anaconda3\\envs\\Daniel\\lib\\site-packages\\sklearn\\metrics\\_classification.py:1318: UndefinedMetricWarning: Precision and F-score are ill-defined and being set to 0.0 in labels with no predicted samples. Use `zero_division` parameter to control this behavior.\n",
      "  _warn_prf(average, modifier, msg_start, len(result))\n",
      "c:\\Users\\asafl\\anaconda3\\envs\\Daniel\\lib\\site-packages\\sklearn\\metrics\\_classification.py:1318: UndefinedMetricWarning: Recall and F-score are ill-defined and being set to 0.0 in labels with no true samples. Use `zero_division` parameter to control this behavior.\n",
      "  _warn_prf(average, modifier, msg_start, len(result))\n",
      "c:\\Users\\asafl\\anaconda3\\envs\\Daniel\\lib\\site-packages\\sklearn\\metrics\\_classification.py:1318: UndefinedMetricWarning: Precision and F-score are ill-defined and being set to 0.0 in labels with no predicted samples. Use `zero_division` parameter to control this behavior.\n",
      "  _warn_prf(average, modifier, msg_start, len(result))\n",
      "c:\\Users\\asafl\\anaconda3\\envs\\Daniel\\lib\\site-packages\\sklearn\\metrics\\_classification.py:1318: UndefinedMetricWarning: Recall and F-score are ill-defined and being set to 0.0 in labels with no true samples. Use `zero_division` parameter to control this behavior.\n",
      "  _warn_prf(average, modifier, msg_start, len(result))\n",
      "c:\\Users\\asafl\\anaconda3\\envs\\Daniel\\lib\\site-packages\\sklearn\\metrics\\_classification.py:1318: UndefinedMetricWarning: Precision and F-score are ill-defined and being set to 0.0 in labels with no predicted samples. Use `zero_division` parameter to control this behavior.\n",
      "  _warn_prf(average, modifier, msg_start, len(result))\n",
      "c:\\Users\\asafl\\anaconda3\\envs\\Daniel\\lib\\site-packages\\sklearn\\metrics\\_classification.py:1318: UndefinedMetricWarning: Recall and F-score are ill-defined and being set to 0.0 in labels with no true samples. Use `zero_division` parameter to control this behavior.\n",
      "  _warn_prf(average, modifier, msg_start, len(result))\n"
     ]
    }
   ],
   "source": [
    "clf = RandomForestClassifier(n_estimators=10, criterion ='entropy', max_depth=None, class_weight=\"balanced\", random_state=0)\n",
    "clf.fit(X_train_part, y_train)\n",
    "pred = clf.predict(X_test_part)\n",
    "print(confusion_matrix(y_test,pred))\n",
    "print(classification_report(y_test,pred))\n"
   ]
  },
  {
   "cell_type": "markdown",
   "metadata": {},
   "source": [
    "#### Re-run the model using only the 5 least important features"
   ]
  },
  {
   "cell_type": "code",
   "execution_count": 129,
   "metadata": {},
   "outputs": [
    {
     "name": "stdout",
     "output_type": "stream",
     "text": [
      "15    gyroscope_Z_phone\n",
      "21            bluetooth\n",
      "5               gravity\n",
      "14    gyroscope_Y_phone\n",
      "0         step_detector\n",
      "Name: Attribute, dtype: object\n"
     ]
    }
   ],
   "source": [
    "print(importances['Attribute'][-5:])"
   ]
  },
  {
   "cell_type": "code",
   "execution_count": 130,
   "metadata": {},
   "outputs": [],
   "source": [
    "featurereList = list(importances['Attribute'][-5:])\n",
    "X_train_part = X_train[featurereList]\n",
    "X_test_part  = X_test[featurereList]"
   ]
  },
  {
   "cell_type": "code",
   "execution_count": 131,
   "metadata": {},
   "outputs": [
    {
     "name": "stdout",
     "output_type": "stream",
     "text": [
      "[[  1  29  46   1   2   4   9   3   5  30]\n",
      " [  2   8  23   0   3   0  12   1   4  17]\n",
      " [  3  35 140   6  12   3  50  10  12  75]\n",
      " [  1   8  66   1   8  10  22   5   7  96]\n",
      " [  0   0   0   0   0   0   0   0   0   0]\n",
      " [  6  15  50   5   6   3  25   6   9 145]\n",
      " [  0   0   0   0   0   0   0   0   0   0]\n",
      " [  0   0   0   0   0   0   0   0   0   0]\n",
      " [  0  24   6   0   0   0   2   0   0   0]\n",
      " [  1   9  42   2   3   1  14   3   7  36]]\n",
      "              precision    recall  f1-score   support\n",
      "\n",
      "     Cooking       0.07      0.01      0.01       130\n",
      "         Eat       0.06      0.11      0.08        70\n",
      " In computer       0.38      0.40      0.39       346\n",
      "     Meeting       0.07      0.00      0.01       224\n",
      "       Movie       0.00      0.00      0.00         0\n",
      "       Pause       0.14      0.01      0.02       270\n",
      "     Picnic        0.00      0.00      0.00         0\n",
      "       Sleep       0.00      0.00      0.00         0\n",
      " Video games       0.00      0.00      0.00        32\n",
      "        Walk       0.09      0.31      0.14       118\n",
      "\n",
      "    accuracy                           0.16      1190\n",
      "   macro avg       0.08      0.08      0.07      1190\n",
      "weighted avg       0.17      0.16      0.14      1190\n",
      "\n"
     ]
    },
    {
     "name": "stderr",
     "output_type": "stream",
     "text": [
      "c:\\Users\\asafl\\anaconda3\\envs\\Daniel\\lib\\site-packages\\sklearn\\metrics\\_classification.py:1318: UndefinedMetricWarning: Recall and F-score are ill-defined and being set to 0.0 in labels with no true samples. Use `zero_division` parameter to control this behavior.\n",
      "  _warn_prf(average, modifier, msg_start, len(result))\n",
      "c:\\Users\\asafl\\anaconda3\\envs\\Daniel\\lib\\site-packages\\sklearn\\metrics\\_classification.py:1318: UndefinedMetricWarning: Recall and F-score are ill-defined and being set to 0.0 in labels with no true samples. Use `zero_division` parameter to control this behavior.\n",
      "  _warn_prf(average, modifier, msg_start, len(result))\n",
      "c:\\Users\\asafl\\anaconda3\\envs\\Daniel\\lib\\site-packages\\sklearn\\metrics\\_classification.py:1318: UndefinedMetricWarning: Recall and F-score are ill-defined and being set to 0.0 in labels with no true samples. Use `zero_division` parameter to control this behavior.\n",
      "  _warn_prf(average, modifier, msg_start, len(result))\n"
     ]
    }
   ],
   "source": [
    "clf = RandomForestClassifier(n_estimators=10, criterion ='entropy', max_depth=None, random_state=0)\n",
    "clf.fit(X_train_part, y_train)\n",
    "pred = clf.predict(X_test_part)\n",
    "print(confusion_matrix(y_test,pred))\n",
    "print(classification_report(y_test,pred))\n"
   ]
  }
 ],
 "metadata": {
  "kernelspec": {
   "display_name": "Daniel",
   "language": "python",
   "name": "python3"
  },
  "language_info": {
   "codemirror_mode": {
    "name": "ipython",
    "version": 3
   },
   "file_extension": ".py",
   "mimetype": "text/x-python",
   "name": "python",
   "nbconvert_exporter": "python",
   "pygments_lexer": "ipython3",
   "version": "3.8.11"
  },
  "orig_nbformat": 4
 },
 "nbformat": 4,
 "nbformat_minor": 2
}
