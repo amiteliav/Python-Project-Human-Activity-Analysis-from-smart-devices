{
 "cells": [
  {
   "cell_type": "markdown",
   "metadata": {},
   "source": [
    "# Classification models "
   ]
  },
  {
   "cell_type": "code",
   "execution_count": 1,
   "metadata": {},
   "outputs": [],
   "source": [
    "import pandas as pd\n",
    "import numpy as np\n",
    "import matplotlib.pyplot as plt\n",
    "import seaborn as sns\n",
    "%matplotlib inline"
   ]
  },
  {
   "cell_type": "markdown",
   "metadata": {},
   "source": [
    "## Load Data "
   ]
  },
  {
   "cell_type": "code",
   "execution_count": 2,
   "metadata": {},
   "outputs": [],
   "source": [
    "dataFrame = pd.read_csv('..\\..\\..\\datasets\\Human_Activity\\data_glasses_with_labels_Act.csv')"
   ]
  },
  {
   "cell_type": "code",
   "execution_count": 3,
   "metadata": {},
   "outputs": [
    {
     "data": {
      "text/html": [
       "<div>\n",
       "<style scoped>\n",
       "    .dataframe tbody tr th:only-of-type {\n",
       "        vertical-align: middle;\n",
       "    }\n",
       "\n",
       "    .dataframe tbody tr th {\n",
       "        vertical-align: top;\n",
       "    }\n",
       "\n",
       "    .dataframe thead th {\n",
       "        text-align: right;\n",
       "    }\n",
       "</style>\n",
       "<table border=\"1\" class=\"dataframe\">\n",
       "  <thead>\n",
       "    <tr style=\"text-align: right;\">\n",
       "      <th></th>\n",
       "      <th>Unnamed: 0</th>\n",
       "      <th>DATE</th>\n",
       "      <th>ACC_X</th>\n",
       "      <th>ACC_Y</th>\n",
       "      <th>ACC_Z</th>\n",
       "      <th>GYRO_X</th>\n",
       "      <th>GYRO_Y</th>\n",
       "      <th>GYRO_Z</th>\n",
       "      <th>EOG_L</th>\n",
       "      <th>EOG_R</th>\n",
       "      <th>EOG_H</th>\n",
       "      <th>EOG_V</th>\n",
       "      <th>activity</th>\n",
       "      <th>index_activity</th>\n",
       "      <th>start_point_activity</th>\n",
       "    </tr>\n",
       "  </thead>\n",
       "  <tbody>\n",
       "    <tr>\n",
       "      <th>0</th>\n",
       "      <td>0</td>\n",
       "      <td>2017/06/29 19:59:15.360</td>\n",
       "      <td>-3909</td>\n",
       "      <td>10146</td>\n",
       "      <td>-12051</td>\n",
       "      <td>-498</td>\n",
       "      <td>237</td>\n",
       "      <td>-40</td>\n",
       "      <td>-161</td>\n",
       "      <td>74</td>\n",
       "      <td>-235</td>\n",
       "      <td>43</td>\n",
       "      <td>Walk</td>\n",
       "      <td>8.0</td>\n",
       "      <td>2017-06-29 16:45</td>\n",
       "    </tr>\n",
       "    <tr>\n",
       "      <th>1</th>\n",
       "      <td>1</td>\n",
       "      <td>2017/06/29 19:59:15.380</td>\n",
       "      <td>-3891</td>\n",
       "      <td>10106</td>\n",
       "      <td>-12094</td>\n",
       "      <td>-501</td>\n",
       "      <td>305</td>\n",
       "      <td>-85</td>\n",
       "      <td>-164</td>\n",
       "      <td>70</td>\n",
       "      <td>-234</td>\n",
       "      <td>47</td>\n",
       "      <td>Walk</td>\n",
       "      <td>8.0</td>\n",
       "      <td>2017-06-29 16:45</td>\n",
       "    </tr>\n",
       "    <tr>\n",
       "      <th>2</th>\n",
       "      <td>2</td>\n",
       "      <td>2017/06/29 19:59:15.400</td>\n",
       "      <td>-3861</td>\n",
       "      <td>10110</td>\n",
       "      <td>-12147</td>\n",
       "      <td>-475</td>\n",
       "      <td>320</td>\n",
       "      <td>-83</td>\n",
       "      <td>-170</td>\n",
       "      <td>70</td>\n",
       "      <td>-240</td>\n",
       "      <td>50</td>\n",
       "      <td>Walk</td>\n",
       "      <td>8.0</td>\n",
       "      <td>2017-06-29 16:45</td>\n",
       "    </tr>\n",
       "    <tr>\n",
       "      <th>3</th>\n",
       "      <td>3</td>\n",
       "      <td>2017/06/29 19:59:15.420</td>\n",
       "      <td>-3820</td>\n",
       "      <td>10161</td>\n",
       "      <td>-12109</td>\n",
       "      <td>-425</td>\n",
       "      <td>346</td>\n",
       "      <td>-47</td>\n",
       "      <td>-197</td>\n",
       "      <td>67</td>\n",
       "      <td>-264</td>\n",
       "      <td>65</td>\n",
       "      <td>Walk</td>\n",
       "      <td>8.0</td>\n",
       "      <td>2017-06-29 16:45</td>\n",
       "    </tr>\n",
       "    <tr>\n",
       "      <th>4</th>\n",
       "      <td>4</td>\n",
       "      <td>2017/06/29 19:59:15.440</td>\n",
       "      <td>-3772</td>\n",
       "      <td>10088</td>\n",
       "      <td>-12118</td>\n",
       "      <td>-361</td>\n",
       "      <td>365</td>\n",
       "      <td>18</td>\n",
       "      <td>-206</td>\n",
       "      <td>34</td>\n",
       "      <td>-240</td>\n",
       "      <td>86</td>\n",
       "      <td>Walk</td>\n",
       "      <td>8.0</td>\n",
       "      <td>2017-06-29 16:45</td>\n",
       "    </tr>\n",
       "  </tbody>\n",
       "</table>\n",
       "</div>"
      ],
      "text/plain": [
       "   Unnamed: 0                     DATE  ACC_X  ACC_Y  ACC_Z  GYRO_X  GYRO_Y  \\\n",
       "0           0  2017/06/29 19:59:15.360  -3909  10146 -12051    -498     237   \n",
       "1           1  2017/06/29 19:59:15.380  -3891  10106 -12094    -501     305   \n",
       "2           2  2017/06/29 19:59:15.400  -3861  10110 -12147    -475     320   \n",
       "3           3  2017/06/29 19:59:15.420  -3820  10161 -12109    -425     346   \n",
       "4           4  2017/06/29 19:59:15.440  -3772  10088 -12118    -361     365   \n",
       "\n",
       "   GYRO_Z  EOG_L  EOG_R  EOG_H  EOG_V activity  index_activity  \\\n",
       "0     -40   -161     74   -235     43     Walk             8.0   \n",
       "1     -85   -164     70   -234     47     Walk             8.0   \n",
       "2     -83   -170     70   -240     50     Walk             8.0   \n",
       "3     -47   -197     67   -264     65     Walk             8.0   \n",
       "4      18   -206     34   -240     86     Walk             8.0   \n",
       "\n",
       "  start_point_activity  \n",
       "0     2017-06-29 16:45  \n",
       "1     2017-06-29 16:45  \n",
       "2     2017-06-29 16:45  \n",
       "3     2017-06-29 16:45  \n",
       "4     2017-06-29 16:45  "
      ]
     },
     "execution_count": 3,
     "metadata": {},
     "output_type": "execute_result"
    }
   ],
   "source": [
    "dataFrame.head()"
   ]
  },
  {
   "cell_type": "code",
   "execution_count": 4,
   "metadata": {},
   "outputs": [
    {
     "name": "stdout",
     "output_type": "stream",
     "text": [
      "<class 'pandas.core.frame.DataFrame'>\n",
      "RangeIndex: 1538734 entries, 0 to 1538733\n",
      "Data columns (total 15 columns):\n",
      " #   Column                Non-Null Count    Dtype  \n",
      "---  ------                --------------    -----  \n",
      " 0   Unnamed: 0            1538734 non-null  int64  \n",
      " 1   DATE                  1538734 non-null  object \n",
      " 2   ACC_X                 1538734 non-null  int64  \n",
      " 3   ACC_Y                 1538734 non-null  int64  \n",
      " 4   ACC_Z                 1538734 non-null  int64  \n",
      " 5   GYRO_X                1538734 non-null  int64  \n",
      " 6   GYRO_Y                1538734 non-null  int64  \n",
      " 7   GYRO_Z                1538734 non-null  int64  \n",
      " 8   EOG_L                 1538734 non-null  int64  \n",
      " 9   EOG_R                 1538734 non-null  int64  \n",
      " 10  EOG_H                 1538734 non-null  int64  \n",
      " 11  EOG_V                 1538734 non-null  int64  \n",
      " 12  activity              1538734 non-null  object \n",
      " 13  index_activity        1538734 non-null  float64\n",
      " 14  start_point_activity  1538734 non-null  object \n",
      "dtypes: float64(1), int64(11), object(3)\n",
      "memory usage: 176.1+ MB\n"
     ]
    }
   ],
   "source": [
    "dataFrame.info()"
   ]
  },
  {
   "cell_type": "markdown",
   "metadata": {},
   "source": [
    "#### we take only 20 percent of the data because the table is too big and the sample rate is too high and we have a lot of data"
   ]
  },
  {
   "cell_type": "code",
   "execution_count": 5,
   "metadata": {},
   "outputs": [
    {
     "data": {
      "text/html": [
       "<div>\n",
       "<style scoped>\n",
       "    .dataframe tbody tr th:only-of-type {\n",
       "        vertical-align: middle;\n",
       "    }\n",
       "\n",
       "    .dataframe tbody tr th {\n",
       "        vertical-align: top;\n",
       "    }\n",
       "\n",
       "    .dataframe thead th {\n",
       "        text-align: right;\n",
       "    }\n",
       "</style>\n",
       "<table border=\"1\" class=\"dataframe\">\n",
       "  <thead>\n",
       "    <tr style=\"text-align: right;\">\n",
       "      <th></th>\n",
       "      <th>Unnamed: 0</th>\n",
       "      <th>DATE</th>\n",
       "      <th>ACC_X</th>\n",
       "      <th>ACC_Y</th>\n",
       "      <th>ACC_Z</th>\n",
       "      <th>GYRO_X</th>\n",
       "      <th>GYRO_Y</th>\n",
       "      <th>GYRO_Z</th>\n",
       "      <th>EOG_L</th>\n",
       "      <th>EOG_R</th>\n",
       "      <th>EOG_H</th>\n",
       "      <th>EOG_V</th>\n",
       "      <th>activity</th>\n",
       "      <th>index_activity</th>\n",
       "      <th>start_point_activity</th>\n",
       "    </tr>\n",
       "  </thead>\n",
       "  <tbody>\n",
       "    <tr>\n",
       "      <th>11</th>\n",
       "      <td>11</td>\n",
       "      <td>2017/06/29 19:59:15.580</td>\n",
       "      <td>-3464</td>\n",
       "      <td>10128</td>\n",
       "      <td>-12061</td>\n",
       "      <td>-347</td>\n",
       "      <td>437</td>\n",
       "      <td>346</td>\n",
       "      <td>-197</td>\n",
       "      <td>49</td>\n",
       "      <td>-246</td>\n",
       "      <td>74</td>\n",
       "      <td>Walk</td>\n",
       "      <td>8.0</td>\n",
       "      <td>2017-06-29 16:45</td>\n",
       "    </tr>\n",
       "    <tr>\n",
       "      <th>14</th>\n",
       "      <td>14</td>\n",
       "      <td>2017/06/29 19:59:15.640</td>\n",
       "      <td>-3350</td>\n",
       "      <td>10284</td>\n",
       "      <td>-12016</td>\n",
       "      <td>-499</td>\n",
       "      <td>311</td>\n",
       "      <td>423</td>\n",
       "      <td>-194</td>\n",
       "      <td>48</td>\n",
       "      <td>-242</td>\n",
       "      <td>73</td>\n",
       "      <td>Walk</td>\n",
       "      <td>8.0</td>\n",
       "      <td>2017-06-29 16:45</td>\n",
       "    </tr>\n",
       "    <tr>\n",
       "      <th>23</th>\n",
       "      <td>23</td>\n",
       "      <td>2017/06/29 19:59:15.820</td>\n",
       "      <td>-2958</td>\n",
       "      <td>10359</td>\n",
       "      <td>-12139</td>\n",
       "      <td>49</td>\n",
       "      <td>342</td>\n",
       "      <td>284</td>\n",
       "      <td>-185</td>\n",
       "      <td>21</td>\n",
       "      <td>-206</td>\n",
       "      <td>82</td>\n",
       "      <td>Walk</td>\n",
       "      <td>8.0</td>\n",
       "      <td>2017-06-29 16:45</td>\n",
       "    </tr>\n",
       "    <tr>\n",
       "      <th>29</th>\n",
       "      <td>29</td>\n",
       "      <td>2017/06/29 19:59:15.940</td>\n",
       "      <td>-2985</td>\n",
       "      <td>10260</td>\n",
       "      <td>-12221</td>\n",
       "      <td>-27</td>\n",
       "      <td>-46</td>\n",
       "      <td>395</td>\n",
       "      <td>-161</td>\n",
       "      <td>47</td>\n",
       "      <td>-208</td>\n",
       "      <td>57</td>\n",
       "      <td>Walk</td>\n",
       "      <td>8.0</td>\n",
       "      <td>2017-06-29 16:45</td>\n",
       "    </tr>\n",
       "    <tr>\n",
       "      <th>30</th>\n",
       "      <td>30</td>\n",
       "      <td>2017/06/29 19:59:15.960</td>\n",
       "      <td>-2887</td>\n",
       "      <td>10285</td>\n",
       "      <td>-12125</td>\n",
       "      <td>24</td>\n",
       "      <td>-82</td>\n",
       "      <td>358</td>\n",
       "      <td>-176</td>\n",
       "      <td>52</td>\n",
       "      <td>-228</td>\n",
       "      <td>62</td>\n",
       "      <td>Walk</td>\n",
       "      <td>8.0</td>\n",
       "      <td>2017-06-29 16:45</td>\n",
       "    </tr>\n",
       "  </tbody>\n",
       "</table>\n",
       "</div>"
      ],
      "text/plain": [
       "    Unnamed: 0                     DATE  ACC_X  ACC_Y  ACC_Z  GYRO_X  GYRO_Y  \\\n",
       "11          11  2017/06/29 19:59:15.580  -3464  10128 -12061    -347     437   \n",
       "14          14  2017/06/29 19:59:15.640  -3350  10284 -12016    -499     311   \n",
       "23          23  2017/06/29 19:59:15.820  -2958  10359 -12139      49     342   \n",
       "29          29  2017/06/29 19:59:15.940  -2985  10260 -12221     -27     -46   \n",
       "30          30  2017/06/29 19:59:15.960  -2887  10285 -12125      24     -82   \n",
       "\n",
       "    GYRO_Z  EOG_L  EOG_R  EOG_H  EOG_V activity  index_activity  \\\n",
       "11     346   -197     49   -246     74     Walk             8.0   \n",
       "14     423   -194     48   -242     73     Walk             8.0   \n",
       "23     284   -185     21   -206     82     Walk             8.0   \n",
       "29     395   -161     47   -208     57     Walk             8.0   \n",
       "30     358   -176     52   -228     62     Walk             8.0   \n",
       "\n",
       "   start_point_activity  \n",
       "11     2017-06-29 16:45  \n",
       "14     2017-06-29 16:45  \n",
       "23     2017-06-29 16:45  \n",
       "29     2017-06-29 16:45  \n",
       "30     2017-06-29 16:45  "
      ]
     },
     "execution_count": 5,
     "metadata": {},
     "output_type": "execute_result"
    }
   ],
   "source": [
    "sampled_dataFrame_Glasses = dataFrame.sample(frac=0.2, random_state=42)\n",
    "#sampled_dataFrame_Glasses.head()\n",
    "sorted_sampled_dataFrame_Glasses = sampled_dataFrame_Glasses.sort_values(by='DATE')\n",
    "sorted_sampled_dataFrame_Glasses.head()\n"
   ]
  },
  {
   "cell_type": "code",
   "execution_count": 6,
   "metadata": {},
   "outputs": [
    {
     "data": {
      "text/html": [
       "<div>\n",
       "<style scoped>\n",
       "    .dataframe tbody tr th:only-of-type {\n",
       "        vertical-align: middle;\n",
       "    }\n",
       "\n",
       "    .dataframe tbody tr th {\n",
       "        vertical-align: top;\n",
       "    }\n",
       "\n",
       "    .dataframe thead th {\n",
       "        text-align: right;\n",
       "    }\n",
       "</style>\n",
       "<table border=\"1\" class=\"dataframe\">\n",
       "  <thead>\n",
       "    <tr style=\"text-align: right;\">\n",
       "      <th></th>\n",
       "      <th>ACC_X</th>\n",
       "      <th>ACC_Y</th>\n",
       "      <th>ACC_Z</th>\n",
       "      <th>GYRO_X</th>\n",
       "      <th>GYRO_Y</th>\n",
       "      <th>GYRO_Z</th>\n",
       "      <th>EOG_L</th>\n",
       "      <th>EOG_R</th>\n",
       "      <th>EOG_H</th>\n",
       "      <th>EOG_V</th>\n",
       "    </tr>\n",
       "  </thead>\n",
       "  <tbody>\n",
       "    <tr>\n",
       "      <th>11</th>\n",
       "      <td>-3464</td>\n",
       "      <td>10128</td>\n",
       "      <td>-12061</td>\n",
       "      <td>-347</td>\n",
       "      <td>437</td>\n",
       "      <td>346</td>\n",
       "      <td>-197</td>\n",
       "      <td>49</td>\n",
       "      <td>-246</td>\n",
       "      <td>74</td>\n",
       "    </tr>\n",
       "    <tr>\n",
       "      <th>14</th>\n",
       "      <td>-3350</td>\n",
       "      <td>10284</td>\n",
       "      <td>-12016</td>\n",
       "      <td>-499</td>\n",
       "      <td>311</td>\n",
       "      <td>423</td>\n",
       "      <td>-194</td>\n",
       "      <td>48</td>\n",
       "      <td>-242</td>\n",
       "      <td>73</td>\n",
       "    </tr>\n",
       "    <tr>\n",
       "      <th>23</th>\n",
       "      <td>-2958</td>\n",
       "      <td>10359</td>\n",
       "      <td>-12139</td>\n",
       "      <td>49</td>\n",
       "      <td>342</td>\n",
       "      <td>284</td>\n",
       "      <td>-185</td>\n",
       "      <td>21</td>\n",
       "      <td>-206</td>\n",
       "      <td>82</td>\n",
       "    </tr>\n",
       "    <tr>\n",
       "      <th>29</th>\n",
       "      <td>-2985</td>\n",
       "      <td>10260</td>\n",
       "      <td>-12221</td>\n",
       "      <td>-27</td>\n",
       "      <td>-46</td>\n",
       "      <td>395</td>\n",
       "      <td>-161</td>\n",
       "      <td>47</td>\n",
       "      <td>-208</td>\n",
       "      <td>57</td>\n",
       "    </tr>\n",
       "    <tr>\n",
       "      <th>30</th>\n",
       "      <td>-2887</td>\n",
       "      <td>10285</td>\n",
       "      <td>-12125</td>\n",
       "      <td>24</td>\n",
       "      <td>-82</td>\n",
       "      <td>358</td>\n",
       "      <td>-176</td>\n",
       "      <td>52</td>\n",
       "      <td>-228</td>\n",
       "      <td>62</td>\n",
       "    </tr>\n",
       "  </tbody>\n",
       "</table>\n",
       "</div>"
      ],
      "text/plain": [
       "    ACC_X  ACC_Y  ACC_Z  GYRO_X  GYRO_Y  GYRO_Z  EOG_L  EOG_R  EOG_H  EOG_V\n",
       "11  -3464  10128 -12061    -347     437     346   -197     49   -246     74\n",
       "14  -3350  10284 -12016    -499     311     423   -194     48   -242     73\n",
       "23  -2958  10359 -12139      49     342     284   -185     21   -206     82\n",
       "29  -2985  10260 -12221     -27     -46     395   -161     47   -208     57\n",
       "30  -2887  10285 -12125      24     -82     358   -176     52   -228     62"
      ]
     },
     "execution_count": 6,
     "metadata": {},
     "output_type": "execute_result"
    }
   ],
   "source": [
    "FeaturesTable = sorted_sampled_dataFrame_Glasses.drop(columns=['Unnamed: 0','index_activity','activity','start_point_activity','DATE'])\n",
    "FeaturesTable.head()"
   ]
  },
  {
   "cell_type": "code",
   "execution_count": 7,
   "metadata": {},
   "outputs": [
    {
     "data": {
      "text/plain": [
       "array(['Walk', 'Eat', 'In computer', 'Video games', 'Picnic ', 'Meeting',\n",
       "       'Cooking'], dtype=object)"
      ]
     },
     "execution_count": 7,
     "metadata": {},
     "output_type": "execute_result"
    }
   ],
   "source": [
    "label = sorted_sampled_dataFrame_Glasses['activity']\n",
    "label.unique()"
   ]
  },
  {
   "cell_type": "code",
   "execution_count": 8,
   "metadata": {},
   "outputs": [
    {
     "data": {
      "text/plain": [
       "<Axes: xlabel='count', ylabel='activity'>"
      ]
     },
     "execution_count": 8,
     "metadata": {},
     "output_type": "execute_result"
    },
    {
     "data": {
      "image/png": "[encoded data removed]",
      "text/plain": [
       "<Figure size 640x480 with 1 Axes>"
      ]
     },
     "metadata": {},
     "output_type": "display_data"
    }
   ],
   "source": [
    "sns.countplot(y = label, data = label)"
   ]
  },
  {
   "cell_type": "code",
   "execution_count": 9,
   "metadata": {},
   "outputs": [
    {
     "data": {
      "text/plain": [
       "307747"
      ]
     },
     "execution_count": 9,
     "metadata": {},
     "output_type": "execute_result"
    }
   ],
   "source": [
    "len(label)"
   ]
  },
  {
   "cell_type": "markdown",
   "metadata": {},
   "source": [
    "## split train and test"
   ]
  },
  {
   "cell_type": "code",
   "execution_count": 10,
   "metadata": {},
   "outputs": [],
   "source": [
    "from sklearn.model_selection import train_test_split\n",
    "X_train, X_test, y_train, y_test = train_test_split(FeaturesTable, label, test_size=0.20, random_state=42,shuffle=False)"
   ]
  },
  {
   "cell_type": "code",
   "execution_count": 11,
   "metadata": {},
   "outputs": [
    {
     "data": {
      "text/plain": [
       "Text(0.5, 1.0, 'Train Datset')"
      ]
     },
     "execution_count": 11,
     "metadata": {},
     "output_type": "execute_result"
    },
    {
     "data": {
      "image/png": "[encoded data removed]",
      "text/plain": [
       "<Figure size 640x480 with 1 Axes>"
      ]
     },
     "metadata": {},
     "output_type": "display_data"
    }
   ],
   "source": [
    "sns.countplot(y = y_train, order = y_train.value_counts().index).set_title('Train Datset')"
   ]
  },
  {
   "cell_type": "code",
   "execution_count": 12,
   "metadata": {},
   "outputs": [
    {
     "data": {
      "text/plain": [
       "Text(0.5, 1.0, 'Test Datset')"
      ]
     },
     "execution_count": 12,
     "metadata": {},
     "output_type": "execute_result"
    },
    {
     "data": {
      "image/png": "[encoded data removed]",
      "text/plain": [
       "<Figure size 640x480 with 1 Axes>"
      ]
     },
     "metadata": {},
     "output_type": "display_data"
    }
   ],
   "source": [
    "sns.countplot(y = y_test,order = y_train.value_counts().index).set_title('Test Datset')"
   ]
  },
  {
   "cell_type": "markdown",
   "metadata": {},
   "source": [
    "## Standardize the Variables"
   ]
  },
  {
   "cell_type": "code",
   "execution_count": 13,
   "metadata": {},
   "outputs": [],
   "source": [
    "from sklearn.preprocessing import StandardScaler"
   ]
  },
  {
   "cell_type": "code",
   "execution_count": 14,
   "metadata": {},
   "outputs": [],
   "source": [
    "scaler = StandardScaler()\n",
    "scaler.fit(X_train)\n",
    "scaled_features_train = scaler.transform(X_train)\n",
    "scaled_features_test = scaler.transform(X_test)"
   ]
  },
  {
   "cell_type": "markdown",
   "metadata": {},
   "source": [
    "## Models"
   ]
  },
  {
   "cell_type": "markdown",
   "metadata": {},
   "source": [
    "Given the data's imbalance, we avoid relying on accuracy as our primary model selection metric (suitable for balanced classes). Prioritize metrics like precision, recall, F1-score, and ROC-AUC that provide insights into the model's performance regarding the minority class. These metrics are more informative in imbalanced scenarios."
   ]
  },
  {
   "cell_type": "markdown",
   "metadata": {},
   "source": [
    "### F1_macro score"
   ]
  },
  {
   "cell_type": "markdown",
   "metadata": {},
   "source": []
  },
  {
   "cell_type": "code",
   "execution_count": 15,
   "metadata": {},
   "outputs": [
    {
     "name": "stdout",
     "output_type": "stream",
     "text": [
      "Mean score: $0.417$ for algorithm: $lr$\n",
      "Mean score: $0.478$ for algorithm: $adaboost$\n",
      "Mean score: $0.407$ for algorithm: $tree$\n",
      "Mean score: $0.534$ for algorithm: $forest$\n",
      "Mean score: $0.499$ for algorithm: $knn$\n",
      "The best algorithm is: $forest$. The accurate on all training data is: $0.6446712384696927$\n"
     ]
    }
   ],
   "source": [
    "from sklearn.ensemble import RandomForestClassifier, AdaBoostClassifier\n",
    "from sklearn.linear_model import LogisticRegression\n",
    "from sklearn.model_selection import cross_val_score, GridSearchCV\n",
    "from sklearn.neighbors import KNeighborsClassifier\n",
    "from sklearn.pipeline import Pipeline\n",
    "from sklearn.preprocessing import StandardScaler\n",
    "from sklearn.svm import SVC\n",
    "from sklearn.tree import DecisionTreeClassifier\n",
    "\n",
    "class PipelinesListMixin(object):\n",
    "    @property\n",
    "    def meta_estimators(self):\n",
    "        scoring = 'f1_weighted'\n",
    "\n",
    "        # Logistic Regression\n",
    "        pipe_lr = Pipeline([('scl', StandardScaler()),\n",
    "                            ('lr',  LogisticRegression(random_state=0))])\n",
    "        param_grid = [{'lr__C': [10 ** int(C) for C in np.arange(-5, 5)],\n",
    "                       'lr__penalty': ['l2', 'l1']}]\n",
    "        gs_lr = GridSearchCV(estimator=pipe_lr, param_grid=param_grid, scoring=scoring, cv=2, n_jobs=5)\n",
    "\n",
    "        # SVM\n",
    "        pipe_svm = Pipeline([('scl', StandardScaler()),\n",
    "                            ('svm', SVC(random_state=0))])\n",
    "        param_grid = [{'svm__C': [10 ** int(C) for C in np.arange(-5, 5)],\n",
    "                        'svm__kernel': ['linear']},\n",
    "                      {'svm__C': [10 ** int(C) for C in np.arange(-5, 5)],\n",
    "                        'svm__gamma': ['auto'],\n",
    "                        'svm__kernel': ['rbf']}]\n",
    "        gs_svm = GridSearchCV(estimator=pipe_svm, param_grid=param_grid, scoring=scoring, cv=2, n_jobs=5)\n",
    "\n",
    "        pipe_tree = Pipeline([('tree', DecisionTreeClassifier(random_state=0))])\n",
    "        param_grid = [{'tree__criterion': ['entropy'],\n",
    "                       'tree__max_depth': [3]}]\n",
    "        gs_tree = GridSearchCV(estimator=pipe_tree, param_grid=param_grid, scoring=scoring, cv=2,\n",
    "                                n_jobs=5)\n",
    "\n",
    "        # Adaboost\n",
    "        tree = DecisionTreeClassifier(random_state=0, criterion='entropy', max_depth=1)\n",
    "        pipe_ada = Pipeline([('adaboost', AdaBoostClassifier(base_estimator=tree, random_state=0))])\n",
    "        param_grid = [{'adaboost__n_estimators': [500],\n",
    "                        'adaboost__learning_rate': [0.1]}]\n",
    "        gs_ada = GridSearchCV(estimator=pipe_ada, param_grid=param_grid, scoring=scoring, cv=2,\n",
    "                              n_jobs=5)\n",
    "\n",
    "        # Forest\n",
    "        pipe_forest = Pipeline([('forest', RandomForestClassifier(random_state=0))])\n",
    "        param_grid = [{'forest__criterion': ['entropy'],\n",
    "                       'forest__n_estimators': [10],\n",
    "                       'forest__max_depth': [None, 10, 20, 30]}]\n",
    "        gs_forest = GridSearchCV(estimator=pipe_forest, param_grid=param_grid, scoring=scoring, cv=2,\n",
    "                                  n_jobs=5)\n",
    "\n",
    "        # KNN\n",
    "        pipe_knn = Pipeline( [('knn', KNeighborsClassifier())])\n",
    "        param_grid = [{'knn__n_neighbors': [5],\n",
    "                        'knn__p': [2]}]\n",
    "        gs_knn = GridSearchCV(estimator=pipe_knn, param_grid=param_grid, scoring=scoring, cv=2,\n",
    "                              n_jobs=5)\n",
    "        \n",
    "        #return [gs_lr, gs_svm, gs_ada, gs_tree, gs_forest, gs_knn] \n",
    "        return [gs_lr, gs_ada, gs_tree, gs_forest, gs_knn] \n",
    "\n",
    "\n",
    "class ComparingClassifiers(PipelinesListMixin):\n",
    "    def fit(self, X, y, scoring):\n",
    "        algorithm_scores = []\n",
    "        for gs in self.meta_estimators:\n",
    "            #In each cross validation of cross_val_score function the GridSearchCV (gs) is working and run internal cross validation.\n",
    "            #The aim is to do another level of validation set - for selecting the best algorithm.\n",
    "            scores = cross_val_score(gs, X, y, scoring=scoring, cv=5, n_jobs=10)\n",
    "            mean_scores = np.mean(scores) # Scores of all best models of the same algorithm (on each of the iterations of the outer cross validation).\n",
    "            algorithm_scores.append(mean_scores)\n",
    "            print('Mean score: ${:.3f}$ for algorithm: ${}$'.format(mean_scores, gs.estimator.steps[-1][0]))\n",
    "        best_grid_search = self.meta_estimators[np.argmax(algorithm_scores)]\n",
    "        return best_grid_search.fit(X, y)\n",
    "\n",
    "best_algorithm = ComparingClassifiers().fit(X_train, y_train, 'f1_weighted')\n",
    "print('The best algorithm is: ${}$. The accurate on all training data is: ${}$'.format(best_algorithm.estimator.steps[-1][0], best_algorithm.score(X_train, y_train)))"
   ]
  },
  {
   "cell_type": "code",
   "execution_count": 16,
   "metadata": {},
   "outputs": [
    {
     "name": "stdout",
     "output_type": "stream",
     "text": [
      "[[    0     0     0     0     0     0     0]\n",
      " [    0     0     0     0     0     0     0]\n",
      " [   25  4534  3553   177   126 15048 12715]\n",
      " [    0     0     0     0     0     0     0]\n",
      " [    0     0     0     0     0     0     0]\n",
      " [  204  1397  1095   124   104 20028  2420]\n",
      " [    0     0     0     0     0     0     0]]\n"
     ]
    },
    {
     "name": "stderr",
     "output_type": "stream",
     "text": [
      "c:\\Users\\asafl\\anaconda3\\envs\\Daniel\\lib\\site-packages\\sklearn\\metrics\\_classification.py:1318: UndefinedMetricWarning: Recall and F-score are ill-defined and being set to 0.0 in labels with no true samples. Use `zero_division` parameter to control this behavior.\n",
      "  _warn_prf(average, modifier, msg_start, len(result))\n",
      "c:\\Users\\asafl\\anaconda3\\envs\\Daniel\\lib\\site-packages\\sklearn\\metrics\\_classification.py:1318: UndefinedMetricWarning: Recall and F-score are ill-defined and being set to 0.0 in labels with no true samples. Use `zero_division` parameter to control this behavior.\n",
      "  _warn_prf(average, modifier, msg_start, len(result))\n"
     ]
    },
    {
     "name": "stdout",
     "output_type": "stream",
     "text": [
      "              precision    recall  f1-score   support\n",
      "\n",
      "     Cooking       0.00      0.00      0.00         0\n",
      "         Eat       0.00      0.00      0.00         0\n",
      " In computer       0.76      0.10      0.17     36178\n",
      "     Meeting       0.00      0.00      0.00         0\n",
      "     Picnic        0.00      0.00      0.00         0\n",
      " Video games       0.57      0.79      0.66     25372\n",
      "        Walk       0.00      0.00      0.00         0\n",
      "\n",
      "    accuracy                           0.38     61550\n",
      "   macro avg       0.19      0.13      0.12     61550\n",
      "weighted avg       0.68      0.38      0.38     61550\n",
      "\n"
     ]
    },
    {
     "name": "stderr",
     "output_type": "stream",
     "text": [
      "c:\\Users\\asafl\\anaconda3\\envs\\Daniel\\lib\\site-packages\\sklearn\\metrics\\_classification.py:1318: UndefinedMetricWarning: Recall and F-score are ill-defined and being set to 0.0 in labels with no true samples. Use `zero_division` parameter to control this behavior.\n",
      "  _warn_prf(average, modifier, msg_start, len(result))\n"
     ]
    }
   ],
   "source": [
    "# Check model preformance on the best model \n",
    "from sklearn.metrics import classification_report,confusion_matrix\n",
    "pred = best_algorithm.predict(X_test)\n",
    "print(confusion_matrix(y_test,pred))\n",
    "print(classification_report(y_test,pred))"
   ]
  },
  {
   "cell_type": "code",
   "execution_count": 17,
   "metadata": {},
   "outputs": [
    {
     "name": "stdout",
     "output_type": "stream",
     "text": [
      "Best Max Depth: 10\n"
     ]
    }
   ],
   "source": [
    "from sklearn.ensemble import RandomForestClassifier\n",
    "pipe_forest = Pipeline([('forest', RandomForestClassifier(random_state=0))])\n",
    "param_grid = [{'forest__criterion': ['entropy'],\n",
    "               'forest__n_estimators': [10],\n",
    "               'forest__max_depth': [None, 10, 20, 30]}]\n",
    "gs_forest = GridSearchCV(estimator=pipe_forest, param_grid=param_grid, scoring='accuracy', cv=2,\n",
    "                            n_jobs=5)\n",
    "\n",
    "gs_forest.fit(X_train, y_train)\n",
    "best_params = gs_forest.best_params_\n",
    "best_rf_model = gs_forest.best_estimator_\n",
    "best_max_depth = best_params['forest__max_depth']\n",
    "print(\"Best Max Depth:\", best_max_depth)"
   ]
  },
  {
   "cell_type": "code",
   "execution_count": 18,
   "metadata": {},
   "outputs": [
    {
     "name": "stdout",
     "output_type": "stream",
     "text": [
      "[[    0     0     0     0     0     0     0]\n",
      " [    0     0     0     0     0     0     0]\n",
      " [   25  4534  3553   177   126 15048 12715]\n",
      " [    0     0     0     0     0     0     0]\n",
      " [    0     0     0     0     0     0     0]\n",
      " [  204  1397  1095   124   104 20028  2420]\n",
      " [    0     0     0     0     0     0     0]]\n"
     ]
    },
    {
     "name": "stderr",
     "output_type": "stream",
     "text": [
      "c:\\Users\\asafl\\anaconda3\\envs\\Daniel\\lib\\site-packages\\sklearn\\metrics\\_classification.py:1318: UndefinedMetricWarning: Recall and F-score are ill-defined and being set to 0.0 in labels with no true samples. Use `zero_division` parameter to control this behavior.\n",
      "  _warn_prf(average, modifier, msg_start, len(result))\n",
      "c:\\Users\\asafl\\anaconda3\\envs\\Daniel\\lib\\site-packages\\sklearn\\metrics\\_classification.py:1318: UndefinedMetricWarning: Recall and F-score are ill-defined and being set to 0.0 in labels with no true samples. Use `zero_division` parameter to control this behavior.\n",
      "  _warn_prf(average, modifier, msg_start, len(result))\n"
     ]
    },
    {
     "name": "stdout",
     "output_type": "stream",
     "text": [
      "              precision    recall  f1-score   support\n",
      "\n",
      "     Cooking       0.00      0.00      0.00         0\n",
      "         Eat       0.00      0.00      0.00         0\n",
      " In computer       0.76      0.10      0.17     36178\n",
      "     Meeting       0.00      0.00      0.00         0\n",
      "     Picnic        0.00      0.00      0.00         0\n",
      " Video games       0.57      0.79      0.66     25372\n",
      "        Walk       0.00      0.00      0.00         0\n",
      "\n",
      "    accuracy                           0.38     61550\n",
      "   macro avg       0.19      0.13      0.12     61550\n",
      "weighted avg       0.68      0.38      0.38     61550\n",
      "\n"
     ]
    },
    {
     "name": "stderr",
     "output_type": "stream",
     "text": [
      "c:\\Users\\asafl\\anaconda3\\envs\\Daniel\\lib\\site-packages\\sklearn\\metrics\\_classification.py:1318: UndefinedMetricWarning: Recall and F-score are ill-defined and being set to 0.0 in labels with no true samples. Use `zero_division` parameter to control this behavior.\n",
      "  _warn_prf(average, modifier, msg_start, len(result))\n"
     ]
    }
   ],
   "source": [
    "clf = RandomForestClassifier(n_estimators=10, criterion ='entropy', max_depth=10, random_state=0)\n",
    "clf.fit(X_train, y_train)\n",
    "pred = clf.predict(X_test)\n",
    "print(confusion_matrix(y_test,pred))\n",
    "print(classification_report(y_test,pred))"
   ]
  },
  {
   "cell_type": "markdown",
   "metadata": {},
   "source": [
    "### Check the importance of each feature"
   ]
  },
  {
   "cell_type": "code",
   "execution_count": 19,
   "metadata": {},
   "outputs": [],
   "source": [
    "importances = pd.DataFrame(data={\n",
    "    'Attribute': X_train.columns,\n",
    "    'Importance': clf.feature_importances_\n",
    "})\n",
    "importances = importances.sort_values(by='Importance', ascending=False)"
   ]
  },
  {
   "cell_type": "code",
   "execution_count": 20,
   "metadata": {},
   "outputs": [
    {
     "data": {
      "image/png": "[encoded data removed]",
      "text/plain": [
       "<Figure size 640x480 with 1 Axes>"
      ]
     },
     "metadata": {},
     "output_type": "display_data"
    }
   ],
   "source": [
    "plt.bar(x=importances['Attribute'], height=importances['Importance'], color='#087E8B')\n",
    "plt.title('Feature importances obtained from coefficients', size=20)\n",
    "plt.xticks(rotation='vertical')\n",
    "plt.show()"
   ]
  },
  {
   "cell_type": "markdown",
   "metadata": {},
   "source": [
    "### Re-run the model using only the 5 most important features"
   ]
  },
  {
   "cell_type": "code",
   "execution_count": 21,
   "metadata": {},
   "outputs": [],
   "source": [
    "featurereList = list(importances['Attribute'][:5])\n",
    "X_train_part = X_train[featurereList]\n",
    "X_test_part  = X_test[featurereList]"
   ]
  },
  {
   "cell_type": "code",
   "execution_count": 22,
   "metadata": {},
   "outputs": [
    {
     "name": "stdout",
     "output_type": "stream",
     "text": [
      "[[    0     0     0     0     0     0     0]\n",
      " [    0     0     0     0     0     0     0]\n",
      " [   47  4085  3699   211   134 15385 12617]\n",
      " [    0     0     0     0     0     0     0]\n",
      " [    0     0     0     0     0     0     0]\n",
      " [  165  1661  1395    98   213 19567  2273]\n",
      " [    0     0     0     0     0     0     0]]\n"
     ]
    },
    {
     "name": "stderr",
     "output_type": "stream",
     "text": [
      "c:\\Users\\asafl\\anaconda3\\envs\\Daniel\\lib\\site-packages\\sklearn\\metrics\\_classification.py:1318: UndefinedMetricWarning: Recall and F-score are ill-defined and being set to 0.0 in labels with no true samples. Use `zero_division` parameter to control this behavior.\n",
      "  _warn_prf(average, modifier, msg_start, len(result))\n",
      "c:\\Users\\asafl\\anaconda3\\envs\\Daniel\\lib\\site-packages\\sklearn\\metrics\\_classification.py:1318: UndefinedMetricWarning: Recall and F-score are ill-defined and being set to 0.0 in labels with no true samples. Use `zero_division` parameter to control this behavior.\n",
      "  _warn_prf(average, modifier, msg_start, len(result))\n"
     ]
    },
    {
     "name": "stdout",
     "output_type": "stream",
     "text": [
      "              precision    recall  f1-score   support\n",
      "\n",
      "     Cooking       0.00      0.00      0.00         0\n",
      "         Eat       0.00      0.00      0.00         0\n",
      " In computer       0.73      0.10      0.18     36178\n",
      "     Meeting       0.00      0.00      0.00         0\n",
      "     Picnic        0.00      0.00      0.00         0\n",
      " Video games       0.56      0.77      0.65     25372\n",
      "        Walk       0.00      0.00      0.00         0\n",
      "\n",
      "    accuracy                           0.38     61550\n",
      "   macro avg       0.18      0.12      0.12     61550\n",
      "weighted avg       0.66      0.38      0.37     61550\n",
      "\n"
     ]
    },
    {
     "name": "stderr",
     "output_type": "stream",
     "text": [
      "c:\\Users\\asafl\\anaconda3\\envs\\Daniel\\lib\\site-packages\\sklearn\\metrics\\_classification.py:1318: UndefinedMetricWarning: Recall and F-score are ill-defined and being set to 0.0 in labels with no true samples. Use `zero_division` parameter to control this behavior.\n",
      "  _warn_prf(average, modifier, msg_start, len(result))\n"
     ]
    }
   ],
   "source": [
    "clf = RandomForestClassifier(n_estimators=10, criterion ='entropy', max_depth=10, random_state=0)\n",
    "clf.fit(X_train_part, y_train)\n",
    "pred = clf.predict(X_test_part)\n",
    "print(confusion_matrix(y_test,pred))\n",
    "print(classification_report(y_test,pred))\n"
   ]
  },
  {
   "cell_type": "markdown",
   "metadata": {},
   "source": [
    "### Re-run the model using only the 5 least important features"
   ]
  },
  {
   "cell_type": "code",
   "execution_count": 23,
   "metadata": {},
   "outputs": [],
   "source": [
    "featurereList = list(importances['Attribute'][-5:])\n",
    "X_train_part = X_train[featurereList]\n",
    "X_test_part  = X_test[featurereList]"
   ]
  },
  {
   "cell_type": "code",
   "execution_count": 24,
   "metadata": {},
   "outputs": [
    {
     "name": "stdout",
     "output_type": "stream",
     "text": [
      "[[    0     0     0     0     0]\n",
      " [    0     0     0     0     0]\n",
      " [  580   351     3 28734  6510]\n",
      " [   89    99     2 20504  4678]\n",
      " [    0     0     0     0     0]]\n"
     ]
    },
    {
     "name": "stderr",
     "output_type": "stream",
     "text": [
      "c:\\Users\\asafl\\anaconda3\\envs\\Daniel\\lib\\site-packages\\sklearn\\metrics\\_classification.py:1318: UndefinedMetricWarning: Recall and F-score are ill-defined and being set to 0.0 in labels with no true samples. Use `zero_division` parameter to control this behavior.\n",
      "  _warn_prf(average, modifier, msg_start, len(result))\n",
      "c:\\Users\\asafl\\anaconda3\\envs\\Daniel\\lib\\site-packages\\sklearn\\metrics\\_classification.py:1318: UndefinedMetricWarning: Recall and F-score are ill-defined and being set to 0.0 in labels with no true samples. Use `zero_division` parameter to control this behavior.\n",
      "  _warn_prf(average, modifier, msg_start, len(result))\n"
     ]
    },
    {
     "name": "stdout",
     "output_type": "stream",
     "text": [
      "              precision    recall  f1-score   support\n",
      "\n",
      "     Cooking       0.00      0.00      0.00         0\n",
      "         Eat       0.00      0.00      0.00         0\n",
      " In computer       0.60      0.00      0.00     36178\n",
      " Video games       0.42      0.81      0.55     25372\n",
      "        Walk       0.00      0.00      0.00         0\n",
      "\n",
      "    accuracy                           0.33     61550\n",
      "   macro avg       0.20      0.16      0.11     61550\n",
      "weighted avg       0.52      0.33      0.23     61550\n",
      "\n"
     ]
    },
    {
     "name": "stderr",
     "output_type": "stream",
     "text": [
      "c:\\Users\\asafl\\anaconda3\\envs\\Daniel\\lib\\site-packages\\sklearn\\metrics\\_classification.py:1318: UndefinedMetricWarning: Recall and F-score are ill-defined and being set to 0.0 in labels with no true samples. Use `zero_division` parameter to control this behavior.\n",
      "  _warn_prf(average, modifier, msg_start, len(result))\n"
     ]
    }
   ],
   "source": [
    "clf = RandomForestClassifier(n_estimators=10, criterion ='entropy', max_depth=10, random_state=0)\n",
    "clf.fit(X_train_part, y_train)\n",
    "pred = clf.predict(X_test_part)\n",
    "print(confusion_matrix(y_test,pred))\n",
    "print(classification_report(y_test,pred))\n"
   ]
  }
 ],
 "metadata": {
  "kernelspec": {
   "display_name": "Daniel",
   "language": "python",
   "name": "python3"
  },
  "language_info": {
   "codemirror_mode": {
    "name": "ipython",
    "version": 3
   },
   "file_extension": ".py",
   "mimetype": "text/x-python",
   "name": "python",
   "nbconvert_exporter": "python",
   "pygments_lexer": "ipython3",
   "version": "3.8.11"
  },
  "orig_nbformat": 4
 },
 "nbformat": 4,
 "nbformat_minor": 2
}
