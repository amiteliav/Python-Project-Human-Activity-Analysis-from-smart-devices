{
 "cells": [
  {
   "cell_type": "markdown",
   "metadata": {},
   "source": [
    "# Classification models "
   ]
  },
  {
   "cell_type": "code",
   "execution_count": 1,
   "metadata": {},
   "outputs": [
    {
     "name": "stderr",
     "output_type": "stream",
     "text": [
      "c:\\Users\\adid5\\Anaconda3\\envs\\Project\\lib\\site-packages\\scipy\\__init__.py:146: UserWarning: A NumPy version >=1.16.5 and <1.23.0 is required for this version of SciPy (detected version 1.23.5\n",
      "  warnings.warn(f\"A NumPy version >={np_minversion} and <{np_maxversion}\"\n"
     ]
    }
   ],
   "source": [
    "import pandas as pd\n",
    "import numpy as np\n",
    "import matplotlib.pyplot as plt\n",
    "import seaborn as sns\n",
    "%matplotlib inline"
   ]
  },
  {
   "cell_type": "markdown",
   "metadata": {},
   "source": [
    "## Load Data "
   ]
  },
  {
   "cell_type": "code",
   "execution_count": 2,
   "metadata": {},
   "outputs": [],
   "source": [
    "dataFrame = pd.read_csv('..\\..\\..\\datasets\\Human_Activity\\FinalFullDataWatchAct.csv')"
   ]
  },
  {
   "cell_type": "code",
   "execution_count": 3,
   "metadata": {},
   "outputs": [
    {
     "data": {
      "text/html": [
       "<div>\n",
       "<style scoped>\n",
       "    .dataframe tbody tr th:only-of-type {\n",
       "        vertical-align: middle;\n",
       "    }\n",
       "\n",
       "    .dataframe tbody tr th {\n",
       "        vertical-align: top;\n",
       "    }\n",
       "\n",
       "    .dataframe thead th {\n",
       "        text-align: right;\n",
       "    }\n",
       "</style>\n",
       "<table border=\"1\" class=\"dataframe\">\n",
       "  <thead>\n",
       "    <tr style=\"text-align: right;\">\n",
       "      <th></th>\n",
       "      <th>Unnamed: 0</th>\n",
       "      <th>index</th>\n",
       "      <th>timestamp</th>\n",
       "      <th>index_activity</th>\n",
       "      <th>activity</th>\n",
       "      <th>heart_rate</th>\n",
       "      <th>gyroscope_X</th>\n",
       "      <th>gyroscope_Y</th>\n",
       "      <th>gyroscope_Z</th>\n",
       "      <th>orientation_X</th>\n",
       "      <th>orientation_Y</th>\n",
       "      <th>orientation_Z</th>\n",
       "      <th>accelerometer_X</th>\n",
       "      <th>accelerometer_Y</th>\n",
       "      <th>accelerometer_Z</th>\n",
       "      <th>magnetometer_X</th>\n",
       "      <th>magnetometer_Y</th>\n",
       "      <th>magnetometer_Z</th>\n",
       "      <th>battery</th>\n",
       "      <th>pressure</th>\n",
       "    </tr>\n",
       "  </thead>\n",
       "  <tbody>\n",
       "    <tr>\n",
       "      <th>0</th>\n",
       "      <td>0</td>\n",
       "      <td>0</td>\n",
       "      <td>2017-06-29 09:57:00</td>\n",
       "      <td>0.0</td>\n",
       "      <td>Eat</td>\n",
       "      <td>74.500000</td>\n",
       "      <td>0.239771</td>\n",
       "      <td>-0.002628</td>\n",
       "      <td>-0.223755</td>\n",
       "      <td>79.680770</td>\n",
       "      <td>18.019663</td>\n",
       "      <td>53.085002</td>\n",
       "      <td>-6.929031</td>\n",
       "      <td>-2.798776</td>\n",
       "      <td>0.388177</td>\n",
       "      <td>28.776245</td>\n",
       "      <td>4.395142</td>\n",
       "      <td>-26.474915</td>\n",
       "      <td>82.0</td>\n",
       "      <td>963.911814</td>\n",
       "    </tr>\n",
       "    <tr>\n",
       "      <th>1</th>\n",
       "      <td>1</td>\n",
       "      <td>1</td>\n",
       "      <td>2017-06-29 09:57:30</td>\n",
       "      <td>0.0</td>\n",
       "      <td>Eat</td>\n",
       "      <td>76.875000</td>\n",
       "      <td>-1.027466</td>\n",
       "      <td>0.728256</td>\n",
       "      <td>0.866241</td>\n",
       "      <td>122.794534</td>\n",
       "      <td>7.547025</td>\n",
       "      <td>87.135285</td>\n",
       "      <td>-8.889236</td>\n",
       "      <td>-2.654816</td>\n",
       "      <td>1.480637</td>\n",
       "      <td>42.903137</td>\n",
       "      <td>-9.513855</td>\n",
       "      <td>-25.811768</td>\n",
       "      <td>82.0</td>\n",
       "      <td>964.412230</td>\n",
       "    </tr>\n",
       "    <tr>\n",
       "      <th>2</th>\n",
       "      <td>2</td>\n",
       "      <td>2</td>\n",
       "      <td>2017-06-29 09:58:00</td>\n",
       "      <td>0.0</td>\n",
       "      <td>Eat</td>\n",
       "      <td>83.500000</td>\n",
       "      <td>-1.385284</td>\n",
       "      <td>1.318619</td>\n",
       "      <td>1.436371</td>\n",
       "      <td>144.739604</td>\n",
       "      <td>3.635352</td>\n",
       "      <td>88.689077</td>\n",
       "      <td>-11.005234</td>\n",
       "      <td>-4.207565</td>\n",
       "      <td>2.818146</td>\n",
       "      <td>28.717041</td>\n",
       "      <td>-23.501587</td>\n",
       "      <td>-18.550110</td>\n",
       "      <td>81.5</td>\n",
       "      <td>965.146670</td>\n",
       "    </tr>\n",
       "    <tr>\n",
       "      <th>3</th>\n",
       "      <td>3</td>\n",
       "      <td>3</td>\n",
       "      <td>2017-06-29 09:59:00</td>\n",
       "      <td>0.0</td>\n",
       "      <td>Eat</td>\n",
       "      <td>78.411429</td>\n",
       "      <td>-0.003113</td>\n",
       "      <td>-0.310699</td>\n",
       "      <td>-1.348114</td>\n",
       "      <td>77.601256</td>\n",
       "      <td>-5.988203</td>\n",
       "      <td>94.542864</td>\n",
       "      <td>-9.931454</td>\n",
       "      <td>-4.263046</td>\n",
       "      <td>1.531603</td>\n",
       "      <td>39.378357</td>\n",
       "      <td>-0.975037</td>\n",
       "      <td>-10.728455</td>\n",
       "      <td>81.0</td>\n",
       "      <td>963.865050</td>\n",
       "    </tr>\n",
       "    <tr>\n",
       "      <th>4</th>\n",
       "      <td>4</td>\n",
       "      <td>4</td>\n",
       "      <td>2017-06-29 09:59:30</td>\n",
       "      <td>0.0</td>\n",
       "      <td>Eat</td>\n",
       "      <td>73.322857</td>\n",
       "      <td>0.115019</td>\n",
       "      <td>-0.297179</td>\n",
       "      <td>-0.684662</td>\n",
       "      <td>47.057193</td>\n",
       "      <td>-5.988203</td>\n",
       "      <td>94.542864</td>\n",
       "      <td>-8.857675</td>\n",
       "      <td>-4.318527</td>\n",
       "      <td>0.245060</td>\n",
       "      <td>-11.760711</td>\n",
       "      <td>16.645813</td>\n",
       "      <td>-20.403798</td>\n",
       "      <td>81.0</td>\n",
       "      <td>963.691622</td>\n",
       "    </tr>\n",
       "  </tbody>\n",
       "</table>\n",
       "</div>"
      ],
      "text/plain": [
       "   Unnamed: 0  index            timestamp  index_activity activity  \\\n",
       "0           0      0  2017-06-29 09:57:00             0.0      Eat   \n",
       "1           1      1  2017-06-29 09:57:30             0.0      Eat   \n",
       "2           2      2  2017-06-29 09:58:00             0.0      Eat   \n",
       "3           3      3  2017-06-29 09:59:00             0.0      Eat   \n",
       "4           4      4  2017-06-29 09:59:30             0.0      Eat   \n",
       "\n",
       "   heart_rate  gyroscope_X  gyroscope_Y  gyroscope_Z  orientation_X  \\\n",
       "0   74.500000     0.239771    -0.002628    -0.223755      79.680770   \n",
       "1   76.875000    -1.027466     0.728256     0.866241     122.794534   \n",
       "2   83.500000    -1.385284     1.318619     1.436371     144.739604   \n",
       "3   78.411429    -0.003113    -0.310699    -1.348114      77.601256   \n",
       "4   73.322857     0.115019    -0.297179    -0.684662      47.057193   \n",
       "\n",
       "   orientation_Y  orientation_Z  accelerometer_X  accelerometer_Y  \\\n",
       "0      18.019663      53.085002        -6.929031        -2.798776   \n",
       "1       7.547025      87.135285        -8.889236        -2.654816   \n",
       "2       3.635352      88.689077       -11.005234        -4.207565   \n",
       "3      -5.988203      94.542864        -9.931454        -4.263046   \n",
       "4      -5.988203      94.542864        -8.857675        -4.318527   \n",
       "\n",
       "   accelerometer_Z  magnetometer_X  magnetometer_Y  magnetometer_Z  battery  \\\n",
       "0         0.388177       28.776245        4.395142      -26.474915     82.0   \n",
       "1         1.480637       42.903137       -9.513855      -25.811768     82.0   \n",
       "2         2.818146       28.717041      -23.501587      -18.550110     81.5   \n",
       "3         1.531603       39.378357       -0.975037      -10.728455     81.0   \n",
       "4         0.245060      -11.760711       16.645813      -20.403798     81.0   \n",
       "\n",
       "     pressure  \n",
       "0  963.911814  \n",
       "1  964.412230  \n",
       "2  965.146670  \n",
       "3  963.865050  \n",
       "4  963.691622  "
      ]
     },
     "execution_count": 3,
     "metadata": {},
     "output_type": "execute_result"
    }
   ],
   "source": [
    "dataFrame.head()"
   ]
  },
  {
   "cell_type": "code",
   "execution_count": 4,
   "metadata": {},
   "outputs": [
    {
     "name": "stdout",
     "output_type": "stream",
     "text": [
      "<class 'pandas.core.frame.DataFrame'>\n",
      "RangeIndex: 3971 entries, 0 to 3970\n",
      "Data columns (total 20 columns):\n",
      " #   Column           Non-Null Count  Dtype  \n",
      "---  ------           --------------  -----  \n",
      " 0   Unnamed: 0       3971 non-null   int64  \n",
      " 1   index            3971 non-null   int64  \n",
      " 2   timestamp        3971 non-null   object \n",
      " 3   index_activity   3971 non-null   float64\n",
      " 4   activity         3971 non-null   object \n",
      " 5   heart_rate       3971 non-null   float64\n",
      " 6   gyroscope_X      3971 non-null   float64\n",
      " 7   gyroscope_Y      3971 non-null   float64\n",
      " 8   gyroscope_Z      3971 non-null   float64\n",
      " 9   orientation_X    3971 non-null   float64\n",
      " 10  orientation_Y    3971 non-null   float64\n",
      " 11  orientation_Z    3971 non-null   float64\n",
      " 12  accelerometer_X  3971 non-null   float64\n",
      " 13  accelerometer_Y  3971 non-null   float64\n",
      " 14  accelerometer_Z  3971 non-null   float64\n",
      " 15  magnetometer_X   3971 non-null   float64\n",
      " 16  magnetometer_Y   3971 non-null   float64\n",
      " 17  magnetometer_Z   3971 non-null   float64\n",
      " 18  battery          3971 non-null   float64\n",
      " 19  pressure         3971 non-null   float64\n",
      "dtypes: float64(16), int64(2), object(2)\n",
      "memory usage: 620.6+ KB\n"
     ]
    }
   ],
   "source": [
    "dataFrame.info()"
   ]
  },
  {
   "cell_type": "code",
   "execution_count": 5,
   "metadata": {},
   "outputs": [
    {
     "data": {
      "text/html": [
       "<div>\n",
       "<style scoped>\n",
       "    .dataframe tbody tr th:only-of-type {\n",
       "        vertical-align: middle;\n",
       "    }\n",
       "\n",
       "    .dataframe tbody tr th {\n",
       "        vertical-align: top;\n",
       "    }\n",
       "\n",
       "    .dataframe thead th {\n",
       "        text-align: right;\n",
       "    }\n",
       "</style>\n",
       "<table border=\"1\" class=\"dataframe\">\n",
       "  <thead>\n",
       "    <tr style=\"text-align: right;\">\n",
       "      <th></th>\n",
       "      <th>heart_rate</th>\n",
       "      <th>gyroscope_X</th>\n",
       "      <th>gyroscope_Y</th>\n",
       "      <th>gyroscope_Z</th>\n",
       "      <th>orientation_X</th>\n",
       "      <th>orientation_Y</th>\n",
       "      <th>orientation_Z</th>\n",
       "      <th>accelerometer_X</th>\n",
       "      <th>accelerometer_Y</th>\n",
       "      <th>accelerometer_Z</th>\n",
       "      <th>magnetometer_X</th>\n",
       "      <th>magnetometer_Y</th>\n",
       "      <th>magnetometer_Z</th>\n",
       "      <th>battery</th>\n",
       "      <th>pressure</th>\n",
       "    </tr>\n",
       "  </thead>\n",
       "  <tbody>\n",
       "    <tr>\n",
       "      <th>0</th>\n",
       "      <td>74.500000</td>\n",
       "      <td>0.239771</td>\n",
       "      <td>-0.002628</td>\n",
       "      <td>-0.223755</td>\n",
       "      <td>79.680770</td>\n",
       "      <td>18.019663</td>\n",
       "      <td>53.085002</td>\n",
       "      <td>-6.929031</td>\n",
       "      <td>-2.798776</td>\n",
       "      <td>0.388177</td>\n",
       "      <td>28.776245</td>\n",
       "      <td>4.395142</td>\n",
       "      <td>-26.474915</td>\n",
       "      <td>82.0</td>\n",
       "      <td>963.911814</td>\n",
       "    </tr>\n",
       "    <tr>\n",
       "      <th>1</th>\n",
       "      <td>76.875000</td>\n",
       "      <td>-1.027466</td>\n",
       "      <td>0.728256</td>\n",
       "      <td>0.866241</td>\n",
       "      <td>122.794534</td>\n",
       "      <td>7.547025</td>\n",
       "      <td>87.135285</td>\n",
       "      <td>-8.889236</td>\n",
       "      <td>-2.654816</td>\n",
       "      <td>1.480637</td>\n",
       "      <td>42.903137</td>\n",
       "      <td>-9.513855</td>\n",
       "      <td>-25.811768</td>\n",
       "      <td>82.0</td>\n",
       "      <td>964.412230</td>\n",
       "    </tr>\n",
       "    <tr>\n",
       "      <th>2</th>\n",
       "      <td>83.500000</td>\n",
       "      <td>-1.385284</td>\n",
       "      <td>1.318619</td>\n",
       "      <td>1.436371</td>\n",
       "      <td>144.739604</td>\n",
       "      <td>3.635352</td>\n",
       "      <td>88.689077</td>\n",
       "      <td>-11.005234</td>\n",
       "      <td>-4.207565</td>\n",
       "      <td>2.818146</td>\n",
       "      <td>28.717041</td>\n",
       "      <td>-23.501587</td>\n",
       "      <td>-18.550110</td>\n",
       "      <td>81.5</td>\n",
       "      <td>965.146670</td>\n",
       "    </tr>\n",
       "    <tr>\n",
       "      <th>3</th>\n",
       "      <td>78.411429</td>\n",
       "      <td>-0.003113</td>\n",
       "      <td>-0.310699</td>\n",
       "      <td>-1.348114</td>\n",
       "      <td>77.601256</td>\n",
       "      <td>-5.988203</td>\n",
       "      <td>94.542864</td>\n",
       "      <td>-9.931454</td>\n",
       "      <td>-4.263046</td>\n",
       "      <td>1.531603</td>\n",
       "      <td>39.378357</td>\n",
       "      <td>-0.975037</td>\n",
       "      <td>-10.728455</td>\n",
       "      <td>81.0</td>\n",
       "      <td>963.865050</td>\n",
       "    </tr>\n",
       "    <tr>\n",
       "      <th>4</th>\n",
       "      <td>73.322857</td>\n",
       "      <td>0.115019</td>\n",
       "      <td>-0.297179</td>\n",
       "      <td>-0.684662</td>\n",
       "      <td>47.057193</td>\n",
       "      <td>-5.988203</td>\n",
       "      <td>94.542864</td>\n",
       "      <td>-8.857675</td>\n",
       "      <td>-4.318527</td>\n",
       "      <td>0.245060</td>\n",
       "      <td>-11.760711</td>\n",
       "      <td>16.645813</td>\n",
       "      <td>-20.403798</td>\n",
       "      <td>81.0</td>\n",
       "      <td>963.691622</td>\n",
       "    </tr>\n",
       "  </tbody>\n",
       "</table>\n",
       "</div>"
      ],
      "text/plain": [
       "   heart_rate  gyroscope_X  gyroscope_Y  gyroscope_Z  orientation_X  \\\n",
       "0   74.500000     0.239771    -0.002628    -0.223755      79.680770   \n",
       "1   76.875000    -1.027466     0.728256     0.866241     122.794534   \n",
       "2   83.500000    -1.385284     1.318619     1.436371     144.739604   \n",
       "3   78.411429    -0.003113    -0.310699    -1.348114      77.601256   \n",
       "4   73.322857     0.115019    -0.297179    -0.684662      47.057193   \n",
       "\n",
       "   orientation_Y  orientation_Z  accelerometer_X  accelerometer_Y  \\\n",
       "0      18.019663      53.085002        -6.929031        -2.798776   \n",
       "1       7.547025      87.135285        -8.889236        -2.654816   \n",
       "2       3.635352      88.689077       -11.005234        -4.207565   \n",
       "3      -5.988203      94.542864        -9.931454        -4.263046   \n",
       "4      -5.988203      94.542864        -8.857675        -4.318527   \n",
       "\n",
       "   accelerometer_Z  magnetometer_X  magnetometer_Y  magnetometer_Z  battery  \\\n",
       "0         0.388177       28.776245        4.395142      -26.474915     82.0   \n",
       "1         1.480637       42.903137       -9.513855      -25.811768     82.0   \n",
       "2         2.818146       28.717041      -23.501587      -18.550110     81.5   \n",
       "3         1.531603       39.378357       -0.975037      -10.728455     81.0   \n",
       "4         0.245060      -11.760711       16.645813      -20.403798     81.0   \n",
       "\n",
       "     pressure  \n",
       "0  963.911814  \n",
       "1  964.412230  \n",
       "2  965.146670  \n",
       "3  963.865050  \n",
       "4  963.691622  "
      ]
     },
     "execution_count": 5,
     "metadata": {},
     "output_type": "execute_result"
    }
   ],
   "source": [
    "FeaturesTable = dataFrame.drop(columns=['Unnamed: 0','index','timestamp','activity','index_activity'])\n",
    "FeaturesTable.head()"
   ]
  },
  {
   "cell_type": "code",
   "execution_count": 6,
   "metadata": {},
   "outputs": [
    {
     "data": {
      "text/plain": [
       "array(['Eat', 'Walk', 'Running', 'In computer', 'Meeting', 'Sleep',\n",
       "       'Video games', 'Picnic ', 'Watching TV', 'Cooking', 'Movie',\n",
       "       'Pause', 'Football'], dtype=object)"
      ]
     },
     "execution_count": 6,
     "metadata": {},
     "output_type": "execute_result"
    }
   ],
   "source": [
    "label = dataFrame['activity']\n",
    "label.unique()"
   ]
  },
  {
   "cell_type": "code",
   "execution_count": 7,
   "metadata": {},
   "outputs": [
    {
     "data": {
      "text/plain": [
       "<AxesSubplot:xlabel='count', ylabel='activity'>"
      ]
     },
     "execution_count": 7,
     "metadata": {},
     "output_type": "execute_result"
    },
    {
     "data": {
      "image/png": "[encoded data removed]",
      "text/plain": [
       "<Figure size 432x288 with 1 Axes>"
      ]
     },
     "metadata": {
      "needs_background": "light"
     },
     "output_type": "display_data"
    }
   ],
   "source": [
    "sns.countplot(y = label, data = label)"
   ]
  },
  {
   "cell_type": "markdown",
   "metadata": {},
   "source": [
    "## Split Train and Test"
   ]
  },
  {
   "cell_type": "code",
   "execution_count": 8,
   "metadata": {},
   "outputs": [],
   "source": [
    "from sklearn.model_selection import train_test_split\n",
    "X_train, X_test, y_train, y_test = train_test_split(FeaturesTable, label, test_size=0.20, random_state=42,shuffle=False)"
   ]
  },
  {
   "cell_type": "code",
   "execution_count": 9,
   "metadata": {},
   "outputs": [
    {
     "data": {
      "text/plain": [
       "Text(0.5, 1.0, 'Train Datset')"
      ]
     },
     "execution_count": 9,
     "metadata": {},
     "output_type": "execute_result"
    },
    {
     "data": {
      "image/png": "[encoded data removed]",
      "text/plain": [
       "<Figure size 432x288 with 1 Axes>"
      ]
     },
     "metadata": {
      "needs_background": "light"
     },
     "output_type": "display_data"
    }
   ],
   "source": [
    "sns.countplot(y = y_train, order = y_train.value_counts().index).set_title('Train Datset')"
   ]
  },
  {
   "cell_type": "code",
   "execution_count": 10,
   "metadata": {},
   "outputs": [
    {
     "data": {
      "text/plain": [
       "Text(0.5, 1.0, 'Test Datset')"
      ]
     },
     "execution_count": 10,
     "metadata": {},
     "output_type": "execute_result"
    },
    {
     "data": {
      "image/png": "[encoded data removed]",
      "text/plain": [
       "<Figure size 432x288 with 1 Axes>"
      ]
     },
     "metadata": {
      "needs_background": "light"
     },
     "output_type": "display_data"
    }
   ],
   "source": [
    "sns.countplot(y = y_test,order = y_train.value_counts().index).set_title('Test Datset')"
   ]
  },
  {
   "cell_type": "markdown",
   "metadata": {},
   "source": [
    "## Standardize the Variables"
   ]
  },
  {
   "cell_type": "code",
   "execution_count": 11,
   "metadata": {},
   "outputs": [],
   "source": [
    "from sklearn.preprocessing import StandardScaler"
   ]
  },
  {
   "cell_type": "code",
   "execution_count": 12,
   "metadata": {},
   "outputs": [],
   "source": [
    "scaler = StandardScaler()\n",
    "scaler.fit(X_train)\n",
    "scaled_features_train = scaler.transform(X_train)\n",
    "scaled_features_test = scaler.transform(X_test)"
   ]
  },
  {
   "cell_type": "markdown",
   "metadata": {},
   "source": [
    "## Models"
   ]
  },
  {
   "cell_type": "markdown",
   "metadata": {},
   "source": [
    "### Examining different models with different parameters"
   ]
  },
  {
   "cell_type": "code",
   "execution_count": 13,
   "metadata": {},
   "outputs": [
    {
     "name": "stdout",
     "output_type": "stream",
     "text": [
      "Mean score: $0.419$ for algorithm: $lr$\n",
      "Mean score: $0.513$ for algorithm: $svm$\n",
      "Mean score: $0.136$ for algorithm: $adaboost$\n",
      "Mean score: $0.345$ for algorithm: $tree$\n",
      "Mean score: $0.555$ for algorithm: $forest$\n",
      "Mean score: $0.361$ for algorithm: $knn$\n",
      "The best algorithm is: $forest$. The accurate on all training data is: $0.9984237394996854$\n"
     ]
    }
   ],
   "source": [
    "from sklearn.ensemble import RandomForestClassifier, AdaBoostClassifier\n",
    "from sklearn.linear_model import LogisticRegression\n",
    "from sklearn.model_selection import cross_val_score, GridSearchCV\n",
    "from sklearn.neighbors import KNeighborsClassifier\n",
    "from sklearn.pipeline import Pipeline\n",
    "from sklearn.preprocessing import StandardScaler\n",
    "from sklearn.svm import SVC\n",
    "from sklearn.tree import DecisionTreeClassifier\n",
    "\n",
    "class PipelinesListMixin(object):\n",
    "    @property\n",
    "    def meta_estimators(self):\n",
    "        scoring = 'f1_weighted'\n",
    "\n",
    "        # Logistic Regression\n",
    "        pipe_lr = Pipeline([('scl', StandardScaler()),\n",
    "                            ('lr',  LogisticRegression(random_state=0))])\n",
    "        param_grid = [{'lr__C': [10 ** int(C) for C in np.arange(-5, 5)],\n",
    "                       'lr__penalty': ['l2', 'l1'],\n",
    "                       'lr__class_weight': ['balanced',None]}]\n",
    "        gs_lr = GridSearchCV(estimator=pipe_lr, param_grid=param_grid, scoring=scoring, cv=2, n_jobs=5)\n",
    "\n",
    "        # SVM\n",
    "        pipe_svm = Pipeline([('scl', StandardScaler()),\n",
    "                            ('svm', SVC(random_state=0))])\n",
    "        param_grid = [{'svm__C': [10 ** int(C) for C in np.arange(-5, 5)],\n",
    "                        'svm__kernel': ['linear']},\n",
    "                      {'svm__C': [10 ** int(C) for C in np.arange(-5, 5)],\n",
    "                        'svm__gamma': ['auto'],\n",
    "                        'svm__kernel': ['rbf'],\n",
    "                        'svm__class_weight': ['balanced',None]}]\n",
    "        gs_svm = GridSearchCV(estimator=pipe_svm, param_grid=param_grid, scoring=scoring, cv=2, n_jobs=5)\n",
    "\n",
    "        # Tree\n",
    "        pipe_tree = Pipeline([('tree', DecisionTreeClassifier(random_state=0))])\n",
    "        param_grid = [{'tree__criterion': ['entropy'],\n",
    "                       'tree__max_depth': [3],\n",
    "                       'tree__class_weight': ['balanced',None]}]\n",
    "        gs_tree = GridSearchCV(estimator=pipe_tree, param_grid=param_grid, scoring=scoring, cv=2,\n",
    "                                n_jobs=5)\n",
    "\n",
    "        # Adaboost\n",
    "        tree = DecisionTreeClassifier(random_state=0, criterion='entropy', max_depth=1)\n",
    "        pipe_ada = Pipeline([('adaboost', AdaBoostClassifier(base_estimator=tree, random_state=0))])\n",
    "        param_grid = [{'adaboost__n_estimators': [500],\n",
    "                       'adaboost__learning_rate': [0.1]}]\n",
    "        gs_ada = GridSearchCV(estimator=pipe_ada, param_grid=param_grid, scoring=scoring, cv=2,\n",
    "                              n_jobs=5)\n",
    " \n",
    "        # Forest\n",
    "        pipe_forest = Pipeline([('forest', RandomForestClassifier(random_state=0))])\n",
    "        param_grid = [{'forest__criterion': ['entropy'],\n",
    "                       'forest__n_estimators': [10],\n",
    "                       'forest__max_depth': [None, 10, 20, 30],\n",
    "                       'forest__class_weight':['balanced',None]}]\n",
    "        gs_forest = GridSearchCV(estimator=pipe_forest, param_grid=param_grid, scoring=scoring, cv=2,\n",
    "                                  n_jobs=5)\n",
    "\n",
    "        # KNN\n",
    "        pipe_knn = Pipeline( [('knn', KNeighborsClassifier())])\n",
    "        param_grid = [{'knn__n_neighbors': [5],\n",
    "                       'knn__p': [2]}]\n",
    "        gs_knn = GridSearchCV(estimator=pipe_knn, param_grid=param_grid, scoring=scoring, cv=2,\n",
    "                              n_jobs=5)\n",
    "        \n",
    "        return [gs_lr, gs_svm, gs_ada, gs_tree, gs_forest, gs_knn] \n",
    "\n",
    "\n",
    "class ComparingClassifiers(PipelinesListMixin):\n",
    "    def fit(self, X, y, scoring):\n",
    "        algorithm_scores = []\n",
    "        for gs in self.meta_estimators:\n",
    "            #In each cross validation of cross_val_score function the GridSearchCV (gs) is working and run internal cross validation.\n",
    "            #The aim is to do another level of validation set - for selecting the best algorithm.\n",
    "            scores = cross_val_score(gs, X, y, scoring=scoring, cv=5, n_jobs=10)\n",
    "            mean_scores = np.mean(scores) # Scores of all best models of the same algorithm (on each of the iterations of the outer cross validation).\n",
    "            algorithm_scores.append(mean_scores)\n",
    "            print('Mean score: ${:.3f}$ for algorithm: ${}$'.format(mean_scores, gs.estimator.steps[-1][0]))\n",
    "        best_grid_search = self.meta_estimators[np.argmax(algorithm_scores)]\n",
    "        return best_grid_search.fit(X, y)\n",
    "\n",
    "best_algorithm = ComparingClassifiers().fit(X_train, y_train, 'f1_weighted')\n",
    "print('The best algorithm is: ${}$. The accurate on all training data is: ${}$'.format(best_algorithm.estimator.steps[-1][0], best_algorithm.score(X_train, y_train)))"
   ]
  },
  {
   "cell_type": "code",
   "execution_count": 14,
   "metadata": {},
   "outputs": [
    {
     "name": "stdout",
     "output_type": "stream",
     "text": [
      "[[ 0 25  0  6  0  0  0 28 33  0  2]\n",
      " [ 0  0  0  1  0  1  0 15 36  0  1]\n",
      " [ 0  1 30 14  0  0  0  3  0  0 63]\n",
      " [ 0 12  0 43  0  0  0 52 60  0 16]\n",
      " [15 18  0 53  0 29  0  8 11  4 14]\n",
      " [ 0  0  0  0  0  0  0  0  0  0  0]\n",
      " [ 0 10  0  1  0  0  0  3 75  0  1]\n",
      " [ 0  0  0  0  0  0  0  0  0  0  0]\n",
      " [ 0  0  0  0  0  0  0  0  0  0  0]\n",
      " [ 0  0  0 28  0  0  0  1  0  0  3]\n",
      " [ 0 16  0 14  0  0  0 31  2  0 16]]\n",
      "              precision    recall  f1-score   support\n",
      "\n",
      "     Cooking       0.00      0.00      0.00        94\n",
      "         Eat       0.00      0.00      0.00        54\n",
      "    Football       1.00      0.27      0.43       111\n",
      " In computer       0.27      0.23      0.25       183\n",
      "     Meeting       0.00      0.00      0.00       152\n",
      "       Movie       0.00      0.00      0.00         0\n",
      "       Pause       0.00      0.00      0.00        90\n",
      "     Picnic        0.00      0.00      0.00         0\n",
      "       Sleep       0.00      0.00      0.00         0\n",
      " Video games       0.00      0.00      0.00        32\n",
      "        Walk       0.14      0.20      0.16        79\n",
      "\n",
      "    accuracy                           0.11       795\n",
      "   macro avg       0.13      0.06      0.08       795\n",
      "weighted avg       0.22      0.11      0.13       795\n",
      "\n"
     ]
    },
    {
     "name": "stderr",
     "output_type": "stream",
     "text": [
      "c:\\Users\\adid5\\Anaconda3\\envs\\Project\\lib\\site-packages\\sklearn\\metrics\\_classification.py:1248: UndefinedMetricWarning: Precision and F-score are ill-defined and being set to 0.0 in labels with no predicted samples. Use `zero_division` parameter to control this behavior.\n",
      "  _warn_prf(average, modifier, msg_start, len(result))\n",
      "c:\\Users\\adid5\\Anaconda3\\envs\\Project\\lib\\site-packages\\sklearn\\metrics\\_classification.py:1248: UndefinedMetricWarning: Recall and F-score are ill-defined and being set to 0.0 in labels with no true samples. Use `zero_division` parameter to control this behavior.\n",
      "  _warn_prf(average, modifier, msg_start, len(result))\n",
      "c:\\Users\\adid5\\Anaconda3\\envs\\Project\\lib\\site-packages\\sklearn\\metrics\\_classification.py:1248: UndefinedMetricWarning: Precision and F-score are ill-defined and being set to 0.0 in labels with no predicted samples. Use `zero_division` parameter to control this behavior.\n",
      "  _warn_prf(average, modifier, msg_start, len(result))\n",
      "c:\\Users\\adid5\\Anaconda3\\envs\\Project\\lib\\site-packages\\sklearn\\metrics\\_classification.py:1248: UndefinedMetricWarning: Recall and F-score are ill-defined and being set to 0.0 in labels with no true samples. Use `zero_division` parameter to control this behavior.\n",
      "  _warn_prf(average, modifier, msg_start, len(result))\n",
      "c:\\Users\\adid5\\Anaconda3\\envs\\Project\\lib\\site-packages\\sklearn\\metrics\\_classification.py:1248: UndefinedMetricWarning: Precision and F-score are ill-defined and being set to 0.0 in labels with no predicted samples. Use `zero_division` parameter to control this behavior.\n",
      "  _warn_prf(average, modifier, msg_start, len(result))\n",
      "c:\\Users\\adid5\\Anaconda3\\envs\\Project\\lib\\site-packages\\sklearn\\metrics\\_classification.py:1248: UndefinedMetricWarning: Recall and F-score are ill-defined and being set to 0.0 in labels with no true samples. Use `zero_division` parameter to control this behavior.\n",
      "  _warn_prf(average, modifier, msg_start, len(result))\n"
     ]
    }
   ],
   "source": [
    "# Check model preformance on the best model \n",
    "from sklearn.metrics import classification_report,confusion_matrix\n",
    "pred = best_algorithm.predict(X_test)\n",
    "print(confusion_matrix(y_test,pred))\n",
    "print(classification_report(y_test,pred))"
   ]
  },
  {
   "cell_type": "code",
   "execution_count": 15,
   "metadata": {},
   "outputs": [
    {
     "name": "stdout",
     "output_type": "stream",
     "text": [
      "Best Max Depth: None\n",
      "Class Weight: balanced\n"
     ]
    }
   ],
   "source": [
    "from sklearn.ensemble import RandomForestClassifier\n",
    "pipe_forest = Pipeline([('forest', RandomForestClassifier(random_state=0))])\n",
    "param_grid = [{'forest__criterion': ['entropy'],\n",
    "                'forest__n_estimators': [10],\n",
    "                'forest__max_depth': [None, 10, 20, 30],\n",
    "                'forest__class_weight':[None]}]\n",
    "gs_forest = GridSearchCV(estimator=pipe_forest, param_grid=param_grid, scoring='f1_weighted', cv=2,\n",
    "                            n_jobs=5)\n",
    "\n",
    "gs_forest.fit(X_train, y_train)\n",
    "best_params = gs_forest.best_params_\n",
    "best_max_depth = best_params['forest__max_depth']\n",
    "print(\"Best Max Depth:\", best_max_depth)\n",
    "\n",
    "best_class_weight = best_params['forest__class_weight']\n",
    "print(\"Class Weight:\", best_class_weight)"
   ]
  },
  {
   "cell_type": "markdown",
   "metadata": {},
   "source": [
    "### Performance analysis of the best model"
   ]
  },
  {
   "cell_type": "code",
   "execution_count": 16,
   "metadata": {},
   "outputs": [
    {
     "name": "stdout",
     "output_type": "stream",
     "text": [
      "[[ 0 30  0 15  0  0  0 11 35  0  3  0]\n",
      " [ 0  0  0  3  0  0  0 14 33  0  4  0]\n",
      " [ 0  2 21 26  0  0  0  7  0  0 54  1]\n",
      " [ 0 28  0 11  0  0  0 68 71  0  5  0]\n",
      " [15  8  0 46  1 21  1  7 24 17 12  0]\n",
      " [ 0  0  0  0  0  0  0  0  0  0  0  0]\n",
      " [ 0  1  0  0  0  0  0  0 88  0  1  0]\n",
      " [ 0  0  0  0  0  0  0  0  0  0  0  0]\n",
      " [ 0  0  0  0  0  0  0  0  0  0  0  0]\n",
      " [ 0  0  0 11  0  0  0 19  0  0  2  0]\n",
      " [ 0 17  0  6  0  0  0 47  2  2  5  0]\n",
      " [ 0  0  0  0  0  0  0  0  0  0  0  0]]\n",
      "              precision    recall  f1-score   support\n",
      "\n",
      "     Cooking       0.00      0.00      0.00        94\n",
      "         Eat       0.00      0.00      0.00        54\n",
      "    Football       1.00      0.19      0.32       111\n",
      " In computer       0.09      0.06      0.07       183\n",
      "     Meeting       1.00      0.01      0.01       152\n",
      "       Movie       0.00      0.00      0.00         0\n",
      "       Pause       0.00      0.00      0.00        90\n",
      "     Picnic        0.00      0.00      0.00         0\n",
      "       Sleep       0.00      0.00      0.00         0\n",
      " Video games       0.00      0.00      0.00        32\n",
      "        Walk       0.06      0.06      0.06        79\n",
      " Watching TV       0.00      0.00      0.00         0\n",
      "\n",
      "    accuracy                           0.05       795\n",
      "   macro avg       0.18      0.03      0.04       795\n",
      "weighted avg       0.36      0.05      0.07       795\n",
      "\n"
     ]
    },
    {
     "name": "stderr",
     "output_type": "stream",
     "text": [
      "c:\\Users\\adid5\\Anaconda3\\envs\\Project\\lib\\site-packages\\sklearn\\metrics\\_classification.py:1248: UndefinedMetricWarning: Recall and F-score are ill-defined and being set to 0.0 in labels with no true samples. Use `zero_division` parameter to control this behavior.\n",
      "  _warn_prf(average, modifier, msg_start, len(result))\n",
      "c:\\Users\\adid5\\Anaconda3\\envs\\Project\\lib\\site-packages\\sklearn\\metrics\\_classification.py:1248: UndefinedMetricWarning: Recall and F-score are ill-defined and being set to 0.0 in labels with no true samples. Use `zero_division` parameter to control this behavior.\n",
      "  _warn_prf(average, modifier, msg_start, len(result))\n",
      "c:\\Users\\adid5\\Anaconda3\\envs\\Project\\lib\\site-packages\\sklearn\\metrics\\_classification.py:1248: UndefinedMetricWarning: Recall and F-score are ill-defined and being set to 0.0 in labels with no true samples. Use `zero_division` parameter to control this behavior.\n",
      "  _warn_prf(average, modifier, msg_start, len(result))\n"
     ]
    }
   ],
   "source": [
    "from sklearn.metrics import classification_report,confusion_matrix\n",
    "clf = RandomForestClassifier(n_estimators=10, criterion ='entropy', max_depth=10, random_state=0, class_weight=None)\n",
    "clf.fit(X_train, y_train)\n",
    "pred = clf.predict(X_test)\n",
    "print(confusion_matrix(y_test,pred))\n",
    "print(classification_report(y_test,pred))"
   ]
  },
  {
   "cell_type": "markdown",
   "metadata": {},
   "source": [
    "### Check the importance of each feature"
   ]
  },
  {
   "cell_type": "code",
   "execution_count": 17,
   "metadata": {},
   "outputs": [],
   "source": [
    "importances = pd.DataFrame(data={\n",
    "    'Attribute': X_train.columns,\n",
    "    'Importance': clf.feature_importances_\n",
    "})\n",
    "importances = importances.sort_values(by='Importance', ascending=False)"
   ]
  },
  {
   "cell_type": "code",
   "execution_count": 18,
   "metadata": {},
   "outputs": [
    {
     "data": {
      "image/png": "[encoded data removed]",
      "text/plain": [
       "<Figure size 432x288 with 1 Axes>"
      ]
     },
     "metadata": {
      "needs_background": "light"
     },
     "output_type": "display_data"
    }
   ],
   "source": [
    "plt.bar(x=importances['Attribute'], height=importances['Importance'], color='#087E8B')\n",
    "plt.title('Feature importances obtained from coefficients', size=20)\n",
    "plt.xticks(rotation='vertical')\n",
    "plt.show()"
   ]
  },
  {
   "cell_type": "markdown",
   "metadata": {},
   "source": [
    "#### Re-run the model using only the 5 most important features"
   ]
  },
  {
   "cell_type": "code",
   "execution_count": 19,
   "metadata": {},
   "outputs": [
    {
     "name": "stdout",
     "output_type": "stream",
     "text": [
      "13            battery\n",
      "14           pressure\n",
      "5       orientation_Y\n",
      "2         gyroscope_Y\n",
      "9     accelerometer_Z\n",
      "Name: Attribute, dtype: object\n"
     ]
    }
   ],
   "source": [
    "print(importances['Attribute'][:5])"
   ]
  },
  {
   "cell_type": "code",
   "execution_count": 20,
   "metadata": {},
   "outputs": [],
   "source": [
    "featurereList = list(importances['Attribute'][:5])\n",
    "X_train_part = X_train[featurereList]\n",
    "X_test_part  = X_test[featurereList]"
   ]
  },
  {
   "cell_type": "code",
   "execution_count": 21,
   "metadata": {},
   "outputs": [
    {
     "name": "stdout",
     "output_type": "stream",
     "text": [
      "[[  0   0   0  20   0   0   0  32  42   0   0   0]\n",
      " [  0   0   0   0   0   0   0  17  37   0   0   0]\n",
      " [  0   1  41  21   0   0   0   2   0   0  45   1]\n",
      " [  0   2   0   3   0   0   0 112  65   1   0   0]\n",
      " [  0  22   0  25   0  33   1   0  27   6  38   0]\n",
      " [  0   0   0   0   0   0   0   0   0   0   0   0]\n",
      " [  0   4   0   0   0   0   0   0  86   0   0   0]\n",
      " [  0   0   0   0   0   0   0   0   0   0   0   0]\n",
      " [  0   0   0   0   0   0   0   0   0   0   0   0]\n",
      " [  0   0   0   1   0   0   0  31   0   0   0   0]\n",
      " [  0  15   0   1   0   0   0  43   1   0  19   0]\n",
      " [  0   0   0   0   0   0   0   0   0   0   0   0]]\n",
      "              precision    recall  f1-score   support\n",
      "\n",
      "     Cooking       0.00      0.00      0.00        94\n",
      "         Eat       0.00      0.00      0.00        54\n",
      "    Football       1.00      0.37      0.54       111\n",
      " In computer       0.04      0.02      0.02       183\n",
      "     Meeting       0.00      0.00      0.00       152\n",
      "       Movie       0.00      0.00      0.00         0\n",
      "       Pause       0.00      0.00      0.00        90\n",
      "     Picnic        0.00      0.00      0.00         0\n",
      "       Sleep       0.00      0.00      0.00         0\n",
      " Video games       0.00      0.00      0.00        32\n",
      "        Walk       0.19      0.24      0.21        79\n",
      " Watching TV       0.00      0.00      0.00         0\n",
      "\n",
      "    accuracy                           0.08       795\n",
      "   macro avg       0.10      0.05      0.06       795\n",
      "weighted avg       0.17      0.08      0.10       795\n",
      "\n"
     ]
    },
    {
     "name": "stderr",
     "output_type": "stream",
     "text": [
      "c:\\Users\\adid5\\Anaconda3\\envs\\Project\\lib\\site-packages\\sklearn\\metrics\\_classification.py:1248: UndefinedMetricWarning: Precision and F-score are ill-defined and being set to 0.0 in labels with no predicted samples. Use `zero_division` parameter to control this behavior.\n",
      "  _warn_prf(average, modifier, msg_start, len(result))\n",
      "c:\\Users\\adid5\\Anaconda3\\envs\\Project\\lib\\site-packages\\sklearn\\metrics\\_classification.py:1248: UndefinedMetricWarning: Recall and F-score are ill-defined and being set to 0.0 in labels with no true samples. Use `zero_division` parameter to control this behavior.\n",
      "  _warn_prf(average, modifier, msg_start, len(result))\n",
      "c:\\Users\\adid5\\Anaconda3\\envs\\Project\\lib\\site-packages\\sklearn\\metrics\\_classification.py:1248: UndefinedMetricWarning: Precision and F-score are ill-defined and being set to 0.0 in labels with no predicted samples. Use `zero_division` parameter to control this behavior.\n",
      "  _warn_prf(average, modifier, msg_start, len(result))\n",
      "c:\\Users\\adid5\\Anaconda3\\envs\\Project\\lib\\site-packages\\sklearn\\metrics\\_classification.py:1248: UndefinedMetricWarning: Recall and F-score are ill-defined and being set to 0.0 in labels with no true samples. Use `zero_division` parameter to control this behavior.\n",
      "  _warn_prf(average, modifier, msg_start, len(result))\n",
      "c:\\Users\\adid5\\Anaconda3\\envs\\Project\\lib\\site-packages\\sklearn\\metrics\\_classification.py:1248: UndefinedMetricWarning: Precision and F-score are ill-defined and being set to 0.0 in labels with no predicted samples. Use `zero_division` parameter to control this behavior.\n",
      "  _warn_prf(average, modifier, msg_start, len(result))\n",
      "c:\\Users\\adid5\\Anaconda3\\envs\\Project\\lib\\site-packages\\sklearn\\metrics\\_classification.py:1248: UndefinedMetricWarning: Recall and F-score are ill-defined and being set to 0.0 in labels with no true samples. Use `zero_division` parameter to control this behavior.\n",
      "  _warn_prf(average, modifier, msg_start, len(result))\n"
     ]
    }
   ],
   "source": [
    "clf = RandomForestClassifier(n_estimators=10, criterion ='entropy', max_depth=10, random_state=0)\n",
    "clf.fit(X_train_part, y_train)\n",
    "pred = clf.predict(X_test_part)\n",
    "print(confusion_matrix(y_test,pred))\n",
    "print(classification_report(y_test,pred))\n"
   ]
  },
  {
   "cell_type": "markdown",
   "metadata": {},
   "source": [
    "#### Re-run the model using only the 5 least important features"
   ]
  },
  {
   "cell_type": "code",
   "execution_count": 22,
   "metadata": {},
   "outputs": [
    {
     "name": "stdout",
     "output_type": "stream",
     "text": [
      "0         heart_rate\n",
      "10    magnetometer_X\n",
      "11    magnetometer_Y\n",
      "1        gyroscope_X\n",
      "12    magnetometer_Z\n",
      "Name: Attribute, dtype: object\n"
     ]
    }
   ],
   "source": [
    "print(importances['Attribute'][-5:])"
   ]
  },
  {
   "cell_type": "code",
   "execution_count": 23,
   "metadata": {},
   "outputs": [],
   "source": [
    "featurereList = list(importances['Attribute'][-5:])\n",
    "X_train_part = X_train[featurereList]\n",
    "X_test_part  = X_test[featurereList]"
   ]
  },
  {
   "cell_type": "code",
   "execution_count": 24,
   "metadata": {},
   "outputs": [
    {
     "name": "stdout",
     "output_type": "stream",
     "text": [
      "[[ 1 21  0 43  0  0  0  3  3  0 23  0]\n",
      " [ 0  2  0 22  1  1  0  7  1  0 19  1]\n",
      " [ 1 34  0 37  1  0  2 10  6  0 20  0]\n",
      " [ 4 23  0 64  2  1  0 17 14  9 49  0]\n",
      " [12 10  0 57  2  0  1 23  2  2 43  0]\n",
      " [ 0  0  0  0  0  0  0  0  0  0  0  0]\n",
      " [ 0  6  1 37  3  0  0  9  1  2 31  0]\n",
      " [ 0  0  0  0  0  0  0  0  0  0  0  0]\n",
      " [ 0  0  0  0  0  0  0  0  0  0  0  0]\n",
      " [ 1  2  0 14  0  0  0  3  4  0  8  0]\n",
      " [ 0  5  0 30  1  1  1 19  2  0 20  0]\n",
      " [ 0  0  0  0  0  0  0  0  0  0  0  0]]\n",
      "              precision    recall  f1-score   support\n",
      "\n",
      "     Cooking       0.05      0.01      0.02        94\n",
      "         Eat       0.02      0.04      0.03        54\n",
      "    Football       0.00      0.00      0.00       111\n",
      " In computer       0.21      0.35      0.26       183\n",
      "     Meeting       0.20      0.01      0.02       152\n",
      "       Movie       0.00      0.00      0.00         0\n",
      "       Pause       0.00      0.00      0.00        90\n",
      "     Picnic        0.00      0.00      0.00         0\n",
      "       Sleep       0.00      0.00      0.00         0\n",
      " Video games       0.00      0.00      0.00        32\n",
      "        Walk       0.09      0.25      0.14        79\n",
      " Watching TV       0.00      0.00      0.00         0\n",
      "\n",
      "    accuracy                           0.11       795\n",
      "   macro avg       0.05      0.06      0.04       795\n",
      "weighted avg       0.10      0.11      0.08       795\n",
      "\n"
     ]
    },
    {
     "name": "stderr",
     "output_type": "stream",
     "text": [
      "c:\\Users\\adid5\\Anaconda3\\envs\\Project\\lib\\site-packages\\sklearn\\metrics\\_classification.py:1248: UndefinedMetricWarning: Recall and F-score are ill-defined and being set to 0.0 in labels with no true samples. Use `zero_division` parameter to control this behavior.\n",
      "  _warn_prf(average, modifier, msg_start, len(result))\n",
      "c:\\Users\\adid5\\Anaconda3\\envs\\Project\\lib\\site-packages\\sklearn\\metrics\\_classification.py:1248: UndefinedMetricWarning: Recall and F-score are ill-defined and being set to 0.0 in labels with no true samples. Use `zero_division` parameter to control this behavior.\n",
      "  _warn_prf(average, modifier, msg_start, len(result))\n",
      "c:\\Users\\adid5\\Anaconda3\\envs\\Project\\lib\\site-packages\\sklearn\\metrics\\_classification.py:1248: UndefinedMetricWarning: Recall and F-score are ill-defined and being set to 0.0 in labels with no true samples. Use `zero_division` parameter to control this behavior.\n",
      "  _warn_prf(average, modifier, msg_start, len(result))\n"
     ]
    }
   ],
   "source": [
    "clf = RandomForestClassifier(n_estimators=10, criterion ='entropy', max_depth=None, random_state=0)\n",
    "clf.fit(X_train_part, y_train)\n",
    "pred = clf.predict(X_test_part)\n",
    "print(confusion_matrix(y_test,pred))\n",
    "print(classification_report(y_test,pred))\n"
   ]
  }
 ],
 "metadata": {
  "kernelspec": {
   "display_name": "Daniel",
   "language": "python",
   "name": "python3"
  },
  "language_info": {
   "codemirror_mode": {
    "name": "ipython",
    "version": 3
   },
   "file_extension": ".py",
   "mimetype": "text/x-python",
   "name": "python",
   "nbconvert_exporter": "python",
   "pygments_lexer": "ipython3",
   "version": "3.8.10"
  },
  "orig_nbformat": 4
 },
 "nbformat": 4,
 "nbformat_minor": 2
}
